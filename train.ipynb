{
 "cells": [
  {
   "cell_type": "markdown",
   "id": "a06fea3d",
   "metadata": {},
   "source": [
    "# 学習と評価\n",
    " - FaceNetの利用"
   ]
  },
  {
   "cell_type": "code",
   "execution_count": 4,
   "id": "3c8fdcf0",
   "metadata": {},
   "outputs": [],
   "source": [
    "import numpy as np\n",
    "import pandas as pd\n",
    "from matplotlib import pyplot as plt"
   ]
  },
  {
   "cell_type": "code",
   "execution_count": 5,
   "id": "d51b929b",
   "metadata": {},
   "outputs": [],
   "source": [
    "from pathlib import Path"
   ]
  },
  {
   "cell_type": "code",
   "execution_count": 6,
   "id": "d3d4b59f",
   "metadata": {},
   "outputs": [],
   "source": [
    "import tensorflow as tf"
   ]
  },
  {
   "cell_type": "code",
   "execution_count": 7,
   "id": "e5d712f6",
   "metadata": {},
   "outputs": [
    {
     "data": {
      "text/plain": [
       "'2.8.0'"
      ]
     },
     "execution_count": 7,
     "metadata": {},
     "output_type": "execute_result"
    }
   ],
   "source": [
    "tf.__version__"
   ]
  },
  {
   "cell_type": "code",
   "execution_count": 8,
   "id": "c978fc4a",
   "metadata": {},
   "outputs": [],
   "source": [
    "AUTOTUNE = tf.data.experimental.AUTOTUNE"
   ]
  },
  {
   "cell_type": "code",
   "execution_count": 9,
   "id": "8d763348",
   "metadata": {},
   "outputs": [],
   "source": [
    "from sklearn.model_selection import KFold"
   ]
  },
  {
   "cell_type": "markdown",
   "id": "83471da0",
   "metadata": {},
   "source": [
    "## データのロード\n",
    "\n",
    "- 画像サイズは224×224"
   ]
  },
  {
   "cell_type": "code",
   "execution_count": 10,
   "id": "38c4d888",
   "metadata": {},
   "outputs": [],
   "source": [
    "df = pd.read_csv(\"data1_union.csv\")"
   ]
  },
  {
   "cell_type": "code",
   "execution_count": 11,
   "id": "e36eab61",
   "metadata": {},
   "outputs": [
    {
     "data": {
      "text/html": [
       "<div>\n",
       "<style scoped>\n",
       "    .dataframe tbody tr th:only-of-type {\n",
       "        vertical-align: middle;\n",
       "    }\n",
       "\n",
       "    .dataframe tbody tr th {\n",
       "        vertical-align: top;\n",
       "    }\n",
       "\n",
       "    .dataframe thead th {\n",
       "        text-align: right;\n",
       "    }\n",
       "</style>\n",
       "<table border=\"1\" class=\"dataframe\">\n",
       "  <thead>\n",
       "    <tr style=\"text-align: right;\">\n",
       "      <th></th>\n",
       "      <th>Id</th>\n",
       "      <th>Caring</th>\n",
       "      <th>Confident</th>\n",
       "      <th>Emotionally stable</th>\n",
       "      <th>Intelligent</th>\n",
       "      <th>Responsible</th>\n",
       "      <th>Sociable</th>\n",
       "      <th>Trustworthy</th>\n",
       "    </tr>\n",
       "  </thead>\n",
       "  <tbody>\n",
       "    <tr>\n",
       "      <th>0</th>\n",
       "      <td>6269</td>\n",
       "      <td>1.0</td>\n",
       "      <td>0.0</td>\n",
       "      <td>0.0</td>\n",
       "      <td>0.0</td>\n",
       "      <td>1.0</td>\n",
       "      <td>0.0</td>\n",
       "      <td>0.0</td>\n",
       "    </tr>\n",
       "    <tr>\n",
       "      <th>1</th>\n",
       "      <td>272998</td>\n",
       "      <td>1.0</td>\n",
       "      <td>1.0</td>\n",
       "      <td>0.0</td>\n",
       "      <td>0.0</td>\n",
       "      <td>0.0</td>\n",
       "      <td>0.0</td>\n",
       "      <td>0.0</td>\n",
       "    </tr>\n",
       "    <tr>\n",
       "      <th>2</th>\n",
       "      <td>274783</td>\n",
       "      <td>1.0</td>\n",
       "      <td>1.0</td>\n",
       "      <td>0.0</td>\n",
       "      <td>0.0</td>\n",
       "      <td>1.0</td>\n",
       "      <td>1.0</td>\n",
       "      <td>1.0</td>\n",
       "    </tr>\n",
       "    <tr>\n",
       "      <th>3</th>\n",
       "      <td>430823</td>\n",
       "      <td>0.0</td>\n",
       "      <td>1.0</td>\n",
       "      <td>0.0</td>\n",
       "      <td>0.0</td>\n",
       "      <td>0.0</td>\n",
       "      <td>0.0</td>\n",
       "      <td>0.0</td>\n",
       "    </tr>\n",
       "    <tr>\n",
       "      <th>4</th>\n",
       "      <td>208848</td>\n",
       "      <td>0.0</td>\n",
       "      <td>0.0</td>\n",
       "      <td>0.0</td>\n",
       "      <td>1.0</td>\n",
       "      <td>1.0</td>\n",
       "      <td>0.0</td>\n",
       "      <td>0.0</td>\n",
       "    </tr>\n",
       "    <tr>\n",
       "      <th>...</th>\n",
       "      <td>...</td>\n",
       "      <td>...</td>\n",
       "      <td>...</td>\n",
       "      <td>...</td>\n",
       "      <td>...</td>\n",
       "      <td>...</td>\n",
       "      <td>...</td>\n",
       "      <td>...</td>\n",
       "    </tr>\n",
       "    <tr>\n",
       "      <th>80</th>\n",
       "      <td>185955</td>\n",
       "      <td>0.0</td>\n",
       "      <td>1.0</td>\n",
       "      <td>1.0</td>\n",
       "      <td>1.0</td>\n",
       "      <td>1.0</td>\n",
       "      <td>0.0</td>\n",
       "      <td>0.0</td>\n",
       "    </tr>\n",
       "    <tr>\n",
       "      <th>81</th>\n",
       "      <td>313100</td>\n",
       "      <td>0.0</td>\n",
       "      <td>1.0</td>\n",
       "      <td>0.0</td>\n",
       "      <td>0.0</td>\n",
       "      <td>0.0</td>\n",
       "      <td>0.0</td>\n",
       "      <td>1.0</td>\n",
       "    </tr>\n",
       "    <tr>\n",
       "      <th>82</th>\n",
       "      <td>369866</td>\n",
       "      <td>1.0</td>\n",
       "      <td>1.0</td>\n",
       "      <td>0.0</td>\n",
       "      <td>1.0</td>\n",
       "      <td>1.0</td>\n",
       "      <td>0.0</td>\n",
       "      <td>0.0</td>\n",
       "    </tr>\n",
       "    <tr>\n",
       "      <th>83</th>\n",
       "      <td>124821</td>\n",
       "      <td>0.0</td>\n",
       "      <td>1.0</td>\n",
       "      <td>1.0</td>\n",
       "      <td>1.0</td>\n",
       "      <td>0.0</td>\n",
       "      <td>0.0</td>\n",
       "      <td>1.0</td>\n",
       "    </tr>\n",
       "    <tr>\n",
       "      <th>84</th>\n",
       "      <td>61202</td>\n",
       "      <td>0.0</td>\n",
       "      <td>1.0</td>\n",
       "      <td>1.0</td>\n",
       "      <td>1.0</td>\n",
       "      <td>0.0</td>\n",
       "      <td>0.0</td>\n",
       "      <td>1.0</td>\n",
       "    </tr>\n",
       "  </tbody>\n",
       "</table>\n",
       "<p>85 rows × 8 columns</p>\n",
       "</div>"
      ],
      "text/plain": [
       "        Id  Caring  Confident  Emotionally stable  Intelligent  Responsible  \\\n",
       "0     6269     1.0        0.0                 0.0          0.0          1.0   \n",
       "1   272998     1.0        1.0                 0.0          0.0          0.0   \n",
       "2   274783     1.0        1.0                 0.0          0.0          1.0   \n",
       "3   430823     0.0        1.0                 0.0          0.0          0.0   \n",
       "4   208848     0.0        0.0                 0.0          1.0          1.0   \n",
       "..     ...     ...        ...                 ...          ...          ...   \n",
       "80  185955     0.0        1.0                 1.0          1.0          1.0   \n",
       "81  313100     0.0        1.0                 0.0          0.0          0.0   \n",
       "82  369866     1.0        1.0                 0.0          1.0          1.0   \n",
       "83  124821     0.0        1.0                 1.0          1.0          0.0   \n",
       "84   61202     0.0        1.0                 1.0          1.0          0.0   \n",
       "\n",
       "    Sociable  Trustworthy  \n",
       "0        0.0          0.0  \n",
       "1        0.0          0.0  \n",
       "2        1.0          1.0  \n",
       "3        0.0          0.0  \n",
       "4        0.0          0.0  \n",
       "..       ...          ...  \n",
       "80       0.0          0.0  \n",
       "81       0.0          1.0  \n",
       "82       0.0          0.0  \n",
       "83       0.0          1.0  \n",
       "84       0.0          1.0  \n",
       "\n",
       "[85 rows x 8 columns]"
      ]
     },
     "execution_count": 11,
     "metadata": {},
     "output_type": "execute_result"
    }
   ],
   "source": [
    "df"
   ]
  },
  {
   "cell_type": "markdown",
   "id": "b33ecd64",
   "metadata": {},
   "source": [
    "## FaceNetで埋め込み"
   ]
  },
  {
   "cell_type": "markdown",
   "id": "48698ddb",
   "metadata": {},
   "source": [
    "メモ：```\\Lib\\site-packages\\facenet\\src\\facenet.py```の408行目をtensorflow v2仕様に書き換える必要がある"
   ]
  },
  {
   "cell_type": "code",
   "execution_count": 12,
   "id": "9bbf47af",
   "metadata": {},
   "outputs": [],
   "source": [
    "from face_embedding import FaceEmbedding"
   ]
  },
  {
   "cell_type": "code",
   "execution_count": 13,
   "id": "7f8b7e3e",
   "metadata": {},
   "outputs": [
    {
     "name": "stdout",
     "output_type": "stream",
     "text": [
      "Model filename: ../facenet//20180402-114759/20180402-114759.pb\n",
      "WARNING:tensorflow:From C:\\Users\\Owner\\python_venvs\\tensorflow\\lib\\site-packages\\facenet\\src\\facenet.py:407: FastGFile.__init__ (from tensorflow.python.platform.gfile) is deprecated and will be removed in a future version.\n",
      "Instructions for updating:\n",
      "Use tf.gfile.GFile.\n"
     ]
    }
   ],
   "source": [
    "FACE_MEDEL_PATH = '../facenet//20180402-114759/20180402-114759.pb'\n",
    "face_embedding = FaceEmbedding(FACE_MEDEL_PATH)"
   ]
  },
  {
   "cell_type": "code",
   "execution_count": 14,
   "id": "4c6301e4",
   "metadata": {},
   "outputs": [],
   "source": [
    "X = []\n",
    "for img_id in df[\"Id\"]:\n",
    "    path = f\"images/cleaned_20220519/{img_id}.jpg\"\n",
    "    face_vec = face_embedding.face_embeddings(path)[0]\n",
    "    X.append(face_vec)"
   ]
  },
  {
   "cell_type": "code",
   "execution_count": 15,
   "id": "c5e77dc3",
   "metadata": {},
   "outputs": [],
   "source": [
    "X = np.array(X)"
   ]
  },
  {
   "cell_type": "code",
   "execution_count": 16,
   "id": "147fc0af",
   "metadata": {},
   "outputs": [
    {
     "data": {
      "text/plain": [
       "(85, 512)"
      ]
     },
     "execution_count": 16,
     "metadata": {},
     "output_type": "execute_result"
    }
   ],
   "source": [
    "X.shape"
   ]
  },
  {
   "cell_type": "markdown",
   "id": "cd69ca1e",
   "metadata": {},
   "source": [
    "# 二値分類モデル"
   ]
  },
  {
   "cell_type": "markdown",
   "id": "8bb4ca29",
   "metadata": {},
   "source": [
    "## モデル構築"
   ]
  },
  {
   "cell_type": "code",
   "execution_count": 17,
   "id": "d63c3934",
   "metadata": {},
   "outputs": [],
   "source": [
    "from tensorflow import keras\n",
    "from tensorflow.keras import Sequential, Model\n",
    "from tensorflow.keras.layers import Dense, Flatten, Dropout, MaxPool2D, Lambda, Conv2D, Reshape, Input, RandomFlip, RandomRotation"
   ]
  },
  {
   "cell_type": "code",
   "execution_count": 18,
   "id": "016fb432",
   "metadata": {},
   "outputs": [],
   "source": [
    "def get_binary_model(fine=False):\n",
    "    input_ts = Input(shape=(512,))\n",
    "    dense1 = Dense(512, activation=\"relu\")(input_ts)\n",
    "    dense2 = Dense(1024, activation=\"relu\")(dense1)\n",
    "    drop1 = Dropout(0.4)(dense2)\n",
    "    dense3 = Dense(1024, activation=\"relu\")(drop1)\n",
    "    drop2 = Dropout(0.4)(dense3)\n",
    "    dense4 = Dense(512, activation=\"relu\")(drop2)\n",
    "    dense5 = Dense(256, activation=\"relu\")(dense4)\n",
    "    dense6 = Dense(128, activation=\"relu\")(dense5)\n",
    "    drop3 = Dropout(0.2)(dense6)\n",
    "    final = Dense(2, activation=\"softmax\")(drop3)\n",
    "    \n",
    "    model = Model(\n",
    "        inputs=[input_ts],\n",
    "        outputs=[final]\n",
    "    )\n",
    "    return model"
   ]
  },
  {
   "cell_type": "code",
   "execution_count": 24,
   "id": "b4d25ba5",
   "metadata": {},
   "outputs": [],
   "source": [
    "model = get_binary_model()"
   ]
  },
  {
   "cell_type": "code",
   "execution_count": 25,
   "id": "158b5902",
   "metadata": {},
   "outputs": [
    {
     "name": "stdout",
     "output_type": "stream",
     "text": [
      "Model: \"model_1\"\n",
      "_________________________________________________________________\n",
      " Layer (type)                Output Shape              Param #   \n",
      "=================================================================\n",
      " input_2 (InputLayer)        [(None, 512)]             0         \n",
      "                                                                 \n",
      " dense_7 (Dense)             (None, 512)               262656    \n",
      "                                                                 \n",
      " dense_8 (Dense)             (None, 1024)              525312    \n",
      "                                                                 \n",
      " dropout_3 (Dropout)         (None, 1024)              0         \n",
      "                                                                 \n",
      " dense_9 (Dense)             (None, 1024)              1049600   \n",
      "                                                                 \n",
      " dropout_4 (Dropout)         (None, 1024)              0         \n",
      "                                                                 \n",
      " dense_10 (Dense)            (None, 512)               524800    \n",
      "                                                                 \n",
      " dense_11 (Dense)            (None, 256)               131328    \n",
      "                                                                 \n",
      " dense_12 (Dense)            (None, 128)               32896     \n",
      "                                                                 \n",
      " dropout_5 (Dropout)         (None, 128)               0         \n",
      "                                                                 \n",
      " dense_13 (Dense)            (None, 2)                 258       \n",
      "                                                                 \n",
      "=================================================================\n",
      "Total params: 2,526,850\n",
      "Trainable params: 2,526,850\n",
      "Non-trainable params: 0\n",
      "_________________________________________________________________\n"
     ]
    }
   ],
   "source": [
    "model.summary()"
   ]
  },
  {
   "cell_type": "code",
   "execution_count": 26,
   "id": "565e1711",
   "metadata": {},
   "outputs": [],
   "source": [
    "METRICS = [\n",
    "      keras.metrics.TruePositives(name='tp'),\n",
    "      keras.metrics.FalsePositives(name='fp'),\n",
    "      keras.metrics.TrueNegatives(name='tn'),\n",
    "      keras.metrics.FalseNegatives(name='fn'),\n",
    "      keras.metrics.BinaryAccuracy(name='accuracy'),\n",
    "      keras.metrics.Precision(name='precision'),\n",
    "      keras.metrics.Recall(name='recall'),\n",
    "      keras.metrics.AUC(name='auc'),\n",
    "]"
   ]
  },
  {
   "cell_type": "code",
   "execution_count": 27,
   "id": "69eabe85",
   "metadata": {},
   "outputs": [],
   "source": [
    "del model"
   ]
  },
  {
   "cell_type": "code",
   "execution_count": 28,
   "id": "2bb8a60c",
   "metadata": {},
   "outputs": [],
   "source": [
    "kf = KFold(n_splits=3, shuffle=True, random_state=1001)"
   ]
  },
  {
   "cell_type": "code",
   "execution_count": 29,
   "id": "19ff1464",
   "metadata": {},
   "outputs": [],
   "source": [
    "from sklearn.metrics import f1_score"
   ]
  },
  {
   "cell_type": "markdown",
   "id": "74d2d286",
   "metadata": {},
   "source": [
    "cf. https://www.kaggle.com/code/rejpalcz/best-loss-function-for-f1-score-metric/notebook"
   ]
  },
  {
   "cell_type": "code",
   "execution_count": 40,
   "id": "2552b579",
   "metadata": {},
   "outputs": [],
   "source": [
    "from tensorflow.keras import backend as K"
   ]
  },
  {
   "cell_type": "code",
   "execution_count": 45,
   "id": "752a4522",
   "metadata": {},
   "outputs": [],
   "source": [
    "def f1(y_true, y_pred):\n",
    "    y_pred = K.round(y_pred)\n",
    "    tp = K.sum(K.cast(y_true*y_pred, 'float'), axis=0)\n",
    "    tn = K.sum(K.cast((1-y_true)*(1-y_pred), 'float'), axis=0)\n",
    "    fp = K.sum(K.cast((1-y_true)*y_pred, 'float'), axis=0)\n",
    "    fn = K.sum(K.cast(y_true*(1-y_pred), 'float'), axis=0)\n",
    "\n",
    "    p = tp / (tp + fp + K.epsilon())\n",
    "    r = tp / (tp + fn + K.epsilon())\n",
    "\n",
    "    f1 = 2*p*r / (p+r+K.epsilon())\n",
    "    f1 = tf.where(tf.is_nan(f1), tf.zeros_like(f1), f1)\n",
    "    return K.mean(f1)\n",
    "\n",
    "def f1_loss(y_true, y_pred):\n",
    "    \n",
    "    tp = K.sum(K.cast(y_true*y_pred, 'float'), axis=0)\n",
    "    tn = K.sum(K.cast((1-y_true)*(1-y_pred), 'float'), axis=0)\n",
    "    fp = K.sum(K.cast((1-y_true)*y_pred, 'float'), axis=0)\n",
    "    fn = K.sum(K.cast(y_true*(1-y_pred), 'float'), axis=0)\n",
    "\n",
    "    p = tp / (tp + fp + K.epsilon())\n",
    "    r = tp / (tp + fn + K.epsilon())\n",
    "\n",
    "    f1 = 2*p*r / (p+r+K.epsilon())\n",
    "    f1 = tf.where(tf.math.is_nan(f1), tf.zeros_like(f1), f1)\n",
    "    return 1 - K.mean(f1)"
   ]
  },
  {
   "cell_type": "markdown",
   "id": "ed8efe50",
   "metadata": {},
   "source": [
    "## すべてのラベルでやってみる"
   ]
  },
  {
   "cell_type": "code",
   "execution_count": 46,
   "id": "449383e8",
   "metadata": {},
   "outputs": [],
   "source": [
    "labels = [\"Caring\",\"Confident\",\"Emotionally stable\",\"Intelligent\",\"Responsible\",\"Sociable\",\"Trustworthy\"]"
   ]
  },
  {
   "cell_type": "code",
   "execution_count": 47,
   "id": "7e9da9ae",
   "metadata": {},
   "outputs": [],
   "source": [
    "kf = KFold(n_splits=3, shuffle=True, random_state=1001)"
   ]
  },
  {
   "cell_type": "code",
   "execution_count": 55,
   "id": "b530f0ff",
   "metadata": {},
   "outputs": [
    {
     "name": "stdout",
     "output_type": "stream",
     "text": [
      "Caring\n",
      "origin pos:21.0 neg:35.0\n",
      "Epoch 1/6\n",
      "7/7 [==============================] - 1s 22ms/step - loss: 0.5213 - tp: 95.0000 - fp: 18.0000 - tn: 95.0000 - fn: 18.0000 - accuracy: 0.8407 - precision: 0.8407 - recall: 0.8407 - auc: 0.8855\n",
      "Epoch 2/6\n",
      "7/7 [==============================] - 0s 21ms/step - loss: 0.4871 - tp: 35.0000 - fp: 21.0000 - tn: 35.0000 - fn: 21.0000 - accuracy: 0.6250 - precision: 0.6250 - recall: 0.6250 - auc: 0.7305\n",
      "Epoch 3/6\n",
      "7/7 [==============================] - 0s 7ms/step - loss: 0.4449 - tp: 33.0000 - fp: 23.0000 - tn: 33.0000 - fn: 23.0000 - accuracy: 0.5893 - precision: 0.5893 - recall: 0.5893 - auc: 0.7714\n",
      "Epoch 4/6\n",
      "7/7 [==============================] - 0s 7ms/step - loss: 0.3980 - tp: 45.0000 - fp: 11.0000 - tn: 45.0000 - fn: 11.0000 - accuracy: 0.8036 - precision: 0.8036 - recall: 0.8036 - auc: 0.8253\n",
      "Epoch 5/6\n",
      "7/7 [==============================] - 0s 7ms/step - loss: 0.2701 - tp: 45.0000 - fp: 11.0000 - tn: 45.0000 - fn: 11.0000 - accuracy: 0.8036 - precision: 0.8036 - recall: 0.8036 - auc: 0.8578\n",
      "Epoch 6/6\n",
      "7/7 [==============================] - 0s 7ms/step - loss: 0.1131 - tp: 50.0000 - fp: 6.0000 - tn: 50.0000 - fn: 6.0000 - accuracy: 0.8929 - precision: 0.8929 - recall: 0.8929 - auc: 0.9126\n",
      "Predict: [1 1 1 1 0 1 1 1 1 1 1 1 1 1 1 1 1 1 0 1 0 1 1 1 1 1 1 1 1]\n",
      "True: [1 0 0 1 1 0 0 0 0 0 0 0 0 0 0 0 0 0 0 1 0 0 0 0 0 0 1 0 0]\n",
      "F1 score: 0.25806451612903225\n",
      "origin pos:17.0 neg:40.0\n",
      "Epoch 1/6\n",
      "8/8 [==============================] - 1s 10ms/step - loss: 0.5198 - tp: 86.0000 - fp: 27.0000 - tn: 86.0000 - fn: 27.0000 - accuracy: 0.7611 - precision: 0.7611 - recall: 0.7611 - auc: 0.8405\n",
      "Epoch 2/6\n",
      "8/8 [==============================] - 0s 14ms/step - loss: 0.5400 - tp: 40.0000 - fp: 17.0000 - tn: 40.0000 - fn: 17.0000 - accuracy: 0.7018 - precision: 0.7018 - recall: 0.7018 - auc: 0.7131\n",
      "Epoch 3/6\n",
      "8/8 [==============================] - 0s 12ms/step - loss: 0.4888 - tp: 40.0000 - fp: 17.0000 - tn: 40.0000 - fn: 17.0000 - accuracy: 0.7018 - precision: 0.7018 - recall: 0.7018 - auc: 0.7845\n",
      "Epoch 4/6\n",
      "8/8 [==============================] - 0s 12ms/step - loss: 0.4229 - tp: 40.0000 - fp: 17.0000 - tn: 40.0000 - fn: 17.0000 - accuracy: 0.7018 - precision: 0.7018 - recall: 0.7018 - auc: 0.8246\n",
      "Epoch 5/6\n",
      "8/8 [==============================] - 0s 11ms/step - loss: 0.3067 - tp: 53.0000 - fp: 4.0000 - tn: 53.0000 - fn: 4.0000 - accuracy: 0.9298 - precision: 0.9298 - recall: 0.9298 - auc: 0.9227\n",
      "Epoch 6/6\n",
      "8/8 [==============================] - 0s 9ms/step - loss: 0.2203 - tp: 54.0000 - fp: 3.0000 - tn: 54.0000 - fn: 3.0000 - accuracy: 0.9474 - precision: 0.9474 - recall: 0.9474 - auc: 0.9566\n",
      "Predict: [0 0 1 0 0 1 0 0 0 0 1 0 0 1 1 1 1 1 0 0 1 0 0 1 0 0 0 0]\n",
      "True: [1 0 0 1 0 1 0 0 1 0 1 1 1 0 0 0 0 0 0 0 0 0 0 1 0 0 0 1]\n",
      "F1 score: 0.3157894736842105\n",
      "origin pos:14.0 neg:43.0\n",
      "Epoch 1/6\n",
      "8/8 [==============================] - 1s 8ms/step - loss: 0.5330 - tp: 97.0000 - fp: 17.0000 - tn: 97.0000 - fn: 17.0000 - accuracy: 0.8509 - precision: 0.8509 - recall: 0.8509 - auc: 0.9044\n",
      "Epoch 2/6\n",
      "8/8 [==============================] - 0s 8ms/step - loss: 0.4834 - tp: 43.0000 - fp: 14.0000 - tn: 43.0000 - fn: 14.0000 - accuracy: 0.7544 - precision: 0.7544 - recall: 0.7544 - auc: 0.8323\n",
      "Epoch 3/6\n",
      "8/8 [==============================] - 0s 8ms/step - loss: 0.4325 - tp: 43.0000 - fp: 14.0000 - tn: 43.0000 - fn: 14.0000 - accuracy: 0.7544 - precision: 0.7544 - recall: 0.7544 - auc: 0.9104\n",
      "Epoch 4/6\n",
      "8/8 [==============================] - 0s 8ms/step - loss: 0.2887 - tp: 51.0000 - fp: 6.0000 - tn: 51.0000 - fn: 6.0000 - accuracy: 0.8947 - precision: 0.8947 - recall: 0.8947 - auc: 0.9635\n",
      "Epoch 5/6\n",
      "8/8 [==============================] - 0s 9ms/step - loss: 0.0882 - tp: 57.0000 - fp: 0.0000e+00 - tn: 57.0000 - fn: 0.0000e+00 - accuracy: 1.0000 - precision: 1.0000 - recall: 1.0000 - auc: 1.0000\n",
      "Epoch 6/6\n",
      "8/8 [==============================] - 0s 8ms/step - loss: 0.1599 - tp: 50.0000 - fp: 7.0000 - tn: 50.0000 - fn: 7.0000 - accuracy: 0.8772 - precision: 0.8772 - recall: 0.8772 - auc: 0.9240 \n",
      "Predict: [1 1 1 1 0 1 0 1 1 1 1 1 1 1 1 0 1 1 1 1 1 1 0 1 0 1 1 1]\n",
      "True: [1 0 1 0 1 1 0 0 0 0 1 1 0 1 1 0 0 0 1 1 0 0 0 1 1 0 0 0]\n",
      "F1 score: 0.5714285714285714\n",
      "Confident\n",
      "origin pos:43.0 neg:13.0\n",
      "Epoch 1/6\n",
      "7/7 [==============================] - 1s 12ms/step - loss: 0.5272 - tp: 89.0000 - fp: 24.0000 - tn: 89.0000 - fn: 24.0000 - accuracy: 0.7876 - precision: 0.7876 - recall: 0.7876 - auc: 0.8622\n",
      "Epoch 2/6\n",
      "7/7 [==============================] - 0s 11ms/step - loss: 0.4685 - tp: 43.0000 - fp: 13.0000 - tn: 43.0000 - fn: 13.0000 - accuracy: 0.7679 - precision: 0.7679 - recall: 0.7679 - auc: 0.8511\n",
      "Epoch 3/6\n",
      "7/7 [==============================] - 0s 12ms/step - loss: 0.4004 - tp: 43.0000 - fp: 13.0000 - tn: 43.0000 - fn: 13.0000 - accuracy: 0.7679 - precision: 0.7679 - recall: 0.7679 - auc: 0.9029\n",
      "Epoch 4/6\n",
      "7/7 [==============================] - 0s 11ms/step - loss: 0.3124 - tp: 51.0000 - fp: 5.0000 - tn: 51.0000 - fn: 5.0000 - accuracy: 0.9107 - precision: 0.9107 - recall: 0.9107 - auc: 0.9531\n",
      "Epoch 5/6\n",
      "7/7 [==============================] - 0s 11ms/step - loss: 0.2361 - tp: 53.0000 - fp: 3.0000 - tn: 53.0000 - fn: 3.0000 - accuracy: 0.9464 - precision: 0.9464 - recall: 0.9464 - auc: 0.9675\n",
      "Epoch 6/6\n",
      "7/7 [==============================] - 0s 11ms/step - loss: 0.1123 - tp: 54.0000 - fp: 2.0000 - tn: 54.0000 - fn: 2.0000 - accuracy: 0.9643 - precision: 0.9643 - recall: 0.9643 - auc: 0.9592\n",
      "Predict: [1 1 1 0 0 1 1 0 0 1 0 1 1 1 0 1 1 1 0 1 1 0 0 1 1 0 1 1 1]\n",
      "True: [1 1 1 1 1 1 1 1 1 1 1 0 1 1 0 0 1 1 1 0 1 1 1 1 1 0 0 0 1]\n",
      "F1 score: 0.6829268292682926\n",
      "origin pos:42.0 neg:15.0\n",
      "Epoch 1/6\n",
      "8/8 [==============================] - 1s 12ms/step - loss: 0.5362 - tp: 91.0000 - fp: 22.0000 - tn: 91.0000 - fn: 22.0000 - accuracy: 0.8053 - precision: 0.8053 - recall: 0.8053 - auc: 0.8932\n",
      "Epoch 2/6\n",
      "8/8 [==============================] - 0s 12ms/step - loss: 0.5220 - tp: 42.0000 - fp: 15.0000 - tn: 42.0000 - fn: 15.0000 - accuracy: 0.7368 - precision: 0.7368 - recall: 0.7368 - auc: 0.7405\n",
      "Epoch 3/6\n",
      "8/8 [==============================] - 0s 12ms/step - loss: 0.4621 - tp: 42.0000 - fp: 15.0000 - tn: 42.0000 - fn: 15.0000 - accuracy: 0.7368 - precision: 0.7368 - recall: 0.7368 - auc: 0.8726\n",
      "Epoch 4/6\n",
      "8/8 [==============================] - 0s 8ms/step - loss: 0.4273 - tp: 42.0000 - fp: 15.0000 - tn: 42.0000 - fn: 15.0000 - accuracy: 0.7368 - precision: 0.7368 - recall: 0.7368 - auc: 0.9175\n",
      "Epoch 5/6\n",
      "8/8 [==============================] - 0s 8ms/step - loss: 0.2497 - tp: 54.0000 - fp: 3.0000 - tn: 54.0000 - fn: 3.0000 - accuracy: 0.9474 - precision: 0.9474 - recall: 0.9474 - auc: 0.9860\n",
      "Epoch 6/6\n",
      "8/8 [==============================] - 0s 8ms/step - loss: 0.0908 - tp: 56.0000 - fp: 1.0000 - tn: 56.0000 - fn: 1.0000 - accuracy: 0.9825 - precision: 0.9825 - recall: 0.9825 - auc: 0.9917\n",
      "Predict: [1 1 1 1 1 1 1 1 1 1 1 1 1 1 1 1 1 1 1 1 1 0 0 1 1 1 1 1]\n",
      "True: [0 1 1 1 1 1 1 1 1 1 0 0 1 0 1 1 1 1 1 1 1 1 1 1 1 0 1 1]\n",
      "F1 score: 0.8571428571428572\n",
      "origin pos:45.0 neg:12.0\n",
      "Epoch 1/6\n",
      "8/8 [==============================] - 1s 8ms/step - loss: 0.5388 - tp: 100.0000 - fp: 14.0000 - tn: 100.0000 - fn: 14.0000 - accuracy: 0.8772 - precision: 0.8772 - recall: 0.8772 - auc: 0.9277\n",
      "Epoch 2/6\n",
      "8/8 [==============================] - 0s 12ms/step - loss: 0.5181 - tp: 45.0000 - fp: 12.0000 - tn: 45.0000 - fn: 12.0000 - accuracy: 0.7895 - precision: 0.7895 - recall: 0.7895 - auc: 0.8972\n",
      "Epoch 3/6\n",
      "8/8 [==============================] - 0s 13ms/step - loss: 0.4456 - tp: 45.0000 - fp: 12.0000 - tn: 45.0000 - fn: 12.0000 - accuracy: 0.7895 - precision: 0.7895 - recall: 0.7895 - auc: 0.9428\n",
      "Epoch 4/6\n",
      "8/8 [==============================] - 0s 12ms/step - loss: 0.3189 - tp: 47.0000 - fp: 10.0000 - tn: 47.0000 - fn: 10.0000 - accuracy: 0.8246 - precision: 0.8246 - recall: 0.8246 - auc: 0.9538\n",
      "Epoch 5/6\n",
      "8/8 [==============================] - 0s 12ms/step - loss: 0.2658 - tp: 55.0000 - fp: 2.0000 - tn: 55.0000 - fn: 2.0000 - accuracy: 0.9649 - precision: 0.9649 - recall: 0.9649 - auc: 0.9812\n",
      "Epoch 6/6\n"
     ]
    },
    {
     "name": "stdout",
     "output_type": "stream",
     "text": [
      "8/8 [==============================] - 0s 12ms/step - loss: 0.1002 - tp: 56.0000 - fp: 1.0000 - tn: 56.0000 - fn: 1.0000 - accuracy: 0.9825 - precision: 0.9825 - recall: 0.9825 - auc: 0.9929\n",
      "Predict: [1 0 1 1 1 1 0 1 1 1 1 1 1 1 0 1 1 0 1 0 1 1 1 1 1 1 1 1]\n",
      "True: [1 0 1 1 1 1 1 1 0 0 1 0 1 0 1 1 1 1 1 1 0 1 0 1 0 1 1 1]\n",
      "F1 score: 0.7441860465116279\n",
      "Emotionally stable\n",
      "origin pos:16.0 neg:40.0\n",
      "Epoch 1/6\n",
      "7/7 [==============================] - 1s 11ms/step - loss: 0.5169 - tp: 96.0000 - fp: 17.0000 - tn: 96.0000 - fn: 17.0000 - accuracy: 0.8496 - precision: 0.8496 - recall: 0.8496 - auc: 0.9307\n",
      "Epoch 2/6\n",
      "7/7 [==============================] - 0s 11ms/step - loss: 0.4853 - tp: 40.0000 - fp: 16.0000 - tn: 40.0000 - fn: 16.0000 - accuracy: 0.7143 - precision: 0.7143 - recall: 0.7143 - auc: 0.8208\n",
      "Epoch 3/6\n",
      "7/7 [==============================] - 0s 11ms/step - loss: 0.4091 - tp: 40.0000 - fp: 16.0000 - tn: 40.0000 - fn: 16.0000 - accuracy: 0.7143 - precision: 0.7143 - recall: 0.7143 - auc: 0.8669\n",
      "Epoch 4/6\n",
      "7/7 [==============================] - 0s 11ms/step - loss: 0.3011 - tp: 50.0000 - fp: 6.0000 - tn: 50.0000 - fn: 6.0000 - accuracy: 0.8929 - precision: 0.8929 - recall: 0.8929 - auc: 0.9453\n",
      "Epoch 5/6\n",
      "7/7 [==============================] - 0s 7ms/step - loss: 0.0958 - tp: 54.0000 - fp: 2.0000 - tn: 54.0000 - fn: 2.0000 - accuracy: 0.9643 - precision: 0.9643 - recall: 0.9643 - auc: 0.9745  \n",
      "Epoch 6/6\n",
      "7/7 [==============================] - 0s 7ms/step - loss: 0.1179 - tp: 53.0000 - fp: 3.0000 - tn: 53.0000 - fn: 3.0000 - accuracy: 0.9464 - precision: 0.9464 - recall: 0.9464 - auc: 0.9582\n",
      "Predict: [0 0 0 0 0 0 0 0 1 0 0 0 1 0 0 0 0 0 0 0 0 0 0 1 0 0 0 0 0]\n",
      "True: [0 0 1 0 1 1 0 0 1 0 0 1 0 0 0 1 1 0 1 1 0 0 1 0 0 1 1 0 1]\n",
      "F1 score: 0.125\n",
      "origin pos:23.0 neg:34.0\n",
      "Epoch 1/6\n",
      "8/8 [==============================] - 1s 8ms/step - loss: 0.5062 - tp: 83.0000 - fp: 30.0000 - tn: 83.0000 - fn: 30.0000 - accuracy: 0.7345 - precision: 0.7345 - recall: 0.7345 - auc: 0.8515\n",
      "Epoch 2/6\n",
      "8/8 [==============================] - 0s 8ms/step - loss: 0.4951 - tp: 34.0000 - fp: 23.0000 - tn: 34.0000 - fn: 23.0000 - accuracy: 0.5965 - precision: 0.5965 - recall: 0.5965 - auc: 0.6617\n",
      "Epoch 3/6\n",
      "8/8 [==============================] - 0s 8ms/step - loss: 0.4681 - tp: 35.0000 - fp: 22.0000 - tn: 35.0000 - fn: 22.0000 - accuracy: 0.6140 - precision: 0.6140 - recall: 0.6140 - auc: 0.7341\n",
      "Epoch 4/6\n",
      "8/8 [==============================] - 0s 8ms/step - loss: 0.3504 - tp: 46.0000 - fp: 11.0000 - tn: 46.0000 - fn: 11.0000 - accuracy: 0.8070 - precision: 0.8070 - recall: 0.8070 - auc: 0.8932\n",
      "Epoch 5/6\n",
      "8/8 [==============================] - 0s 8ms/step - loss: 0.1408 - tp: 53.0000 - fp: 4.0000 - tn: 53.0000 - fn: 4.0000 - accuracy: 0.9298 - precision: 0.9298 - recall: 0.9298 - auc: 0.9511\n",
      "Epoch 6/6\n",
      "8/8 [==============================] - 0s 8ms/step - loss: 0.1372 - tp: 51.0000 - fp: 6.0000 - tn: 51.0000 - fn: 6.0000 - accuracy: 0.8947 - precision: 0.8947 - recall: 0.8947 - auc: 0.9166\n",
      "Predict: [1 0 1 0 1 0 1 0 0 1 0 0 0 0 1 0 0 1 0 0 0 1 0 0 1 1 1 1]\n",
      "True: [0 0 0 0 0 1 0 0 0 1 1 0 0 1 0 0 0 0 1 0 0 0 0 0 0 0 1 0]\n",
      "F1 score: 0.2222222222222222\n",
      "origin pos:19.0 neg:38.0\n",
      "Epoch 1/6\n",
      "8/8 [==============================] - 1s 12ms/step - loss: 0.5097 - tp: 90.0000 - fp: 24.0000 - tn: 90.0000 - fn: 24.0000 - accuracy: 0.7895 - precision: 0.7895 - recall: 0.7895 - auc: 0.8465\n",
      "Epoch 2/6\n",
      "8/8 [==============================] - 0s 12ms/step - loss: 0.4830 - tp: 38.0000 - fp: 19.0000 - tn: 38.0000 - fn: 19.0000 - accuracy: 0.6667 - precision: 0.6667 - recall: 0.6667 - auc: 0.7926\n",
      "Epoch 3/6\n",
      "8/8 [==============================] - 0s 12ms/step - loss: 0.4159 - tp: 45.0000 - fp: 12.0000 - tn: 45.0000 - fn: 12.0000 - accuracy: 0.7895 - precision: 0.7895 - recall: 0.7895 - auc: 0.8495\n",
      "Epoch 4/6\n",
      "8/8 [==============================] - 0s 12ms/step - loss: 0.2711 - tp: 49.0000 - fp: 8.0000 - tn: 49.0000 - fn: 8.0000 - accuracy: 0.8596 - precision: 0.8596 - recall: 0.8596 - auc: 0.9238\n",
      "Epoch 5/6\n",
      "8/8 [==============================] - 0s 12ms/step - loss: 0.1257 - tp: 54.0000 - fp: 3.0000 - tn: 54.0000 - fn: 3.0000 - accuracy: 0.9474 - precision: 0.9474 - recall: 0.9474 - auc: 0.9708\n",
      "Epoch 6/6\n",
      "8/8 [==============================] - 0s 11ms/step - loss: 0.2079 - tp: 51.0000 - fp: 6.0000 - tn: 51.0000 - fn: 6.0000 - accuracy: 0.8947 - precision: 0.8947 - recall: 0.8947 - auc: 0.9212\n",
      "Predict: [0 1 0 0 1 0 0 0 1 0 0 1 0 0 1 0 0 0 0 0 0 1 0 0 1 0 0 0]\n",
      "True: [0 0 1 0 0 1 0 0 1 0 1 0 0 0 0 1 0 1 0 0 1 0 0 0 1 0 1 1]\n",
      "F1 score: 0.23529411764705882\n",
      "Intelligent\n",
      "origin pos:35.0 neg:21.0\n",
      "Epoch 1/6\n",
      "7/7 [==============================] - 1s 10ms/step - loss: 0.5113 - tp: 86.0000 - fp: 27.0000 - tn: 86.0000 - fn: 27.0000 - accuracy: 0.7611 - precision: 0.7611 - recall: 0.7611 - auc: 0.8298\n",
      "Epoch 2/6\n",
      "7/7 [==============================] - 0s 10ms/step - loss: 0.4867 - tp: 35.0000 - fp: 21.0000 - tn: 35.0000 - fn: 21.0000 - accuracy: 0.6250 - precision: 0.6250 - recall: 0.6250 - auc: 0.7392\n",
      "Epoch 3/6\n",
      "7/7 [==============================] - 0s 9ms/step - loss: 0.4132 - tp: 39.0000 - fp: 17.0000 - tn: 39.0000 - fn: 17.0000 - accuracy: 0.6964 - precision: 0.6964 - recall: 0.6964 - auc: 0.8297\n",
      "Epoch 4/6\n",
      "7/7 [==============================] - 0s 7ms/step - loss: 0.2775 - tp: 47.0000 - fp: 9.0000 - tn: 47.0000 - fn: 9.0000 - accuracy: 0.8393 - precision: 0.8393 - recall: 0.8393 - auc: 0.9101\n",
      "Epoch 5/6\n",
      "7/7 [==============================] - 0s 7ms/step - loss: 0.1030 - tp: 51.0000 - fp: 5.0000 - tn: 51.0000 - fn: 5.0000 - accuracy: 0.9107 - precision: 0.9107 - recall: 0.9107 - auc: 0.9783\n",
      "Epoch 6/6\n",
      "7/7 [==============================] - 0s 7ms/step - loss: 0.0541 - tp: 53.0000 - fp: 3.0000 - tn: 53.0000 - fn: 3.0000 - accuracy: 0.9464 - precision: 0.9464 - recall: 0.9464 - auc: 0.9790  \n",
      "Predict: [1 0 1 0 1 1 1 0 1 1 1 0 1 0 1 1 0 1 1 0 0 1 1 0 0 1 1 1 1]\n",
      "True: [0 1 0 0 1 0 1 1 0 0 1 1 0 0 1 0 0 1 1 1 1 1 0 0 1 1 0 0 1]\n",
      "F1 score: 0.5294117647058824\n",
      "origin pos:33.0 neg:24.0\n",
      "Epoch 1/6\n",
      "8/8 [==============================] - 1s 8ms/step - loss: 0.5292 - tp: 82.0000 - fp: 31.0000 - tn: 82.0000 - fn: 31.0000 - accuracy: 0.7257 - precision: 0.7257 - recall: 0.7257 - auc: 0.8370\n",
      "Epoch 2/6\n",
      "8/8 [==============================] - 0s 8ms/step - loss: 0.5204 - tp: 33.0000 - fp: 24.0000 - tn: 33.0000 - fn: 24.0000 - accuracy: 0.5789 - precision: 0.5789 - recall: 0.5789 - auc: 0.5649\n",
      "Epoch 3/6\n",
      "8/8 [==============================] - 0s 8ms/step - loss: 0.4989 - tp: 34.0000 - fp: 23.0000 - tn: 34.0000 - fn: 23.0000 - accuracy: 0.5965 - precision: 0.5965 - recall: 0.5965 - auc: 0.6993\n",
      "Epoch 4/6\n",
      "8/8 [==============================] - 0s 8ms/step - loss: 0.3806 - tp: 44.0000 - fp: 13.0000 - tn: 44.0000 - fn: 13.0000 - accuracy: 0.7719 - precision: 0.7719 - recall: 0.7719 - auc: 0.8181\n",
      "Epoch 5/6\n",
      "8/8 [==============================] - 0s 8ms/step - loss: 0.1600 - tp: 50.0000 - fp: 7.0000 - tn: 50.0000 - fn: 7.0000 - accuracy: 0.8772 - precision: 0.8772 - recall: 0.8772 - auc: 0.9695 \n",
      "Epoch 6/6\n",
      "8/8 [==============================] - 0s 10ms/step - loss: 0.1980 - tp: 47.0000 - fp: 10.0000 - tn: 47.0000 - fn: 10.0000 - accuracy: 0.8246 - precision: 0.8246 - recall: 0.8246 - auc: 0.9018\n",
      "Predict: [1 1 1 1 1 0 1 1 1 1 1 1 1 1 1 1 1 1 1 1 1 1 1 1 1 1 1 1]\n",
      "True: [0 0 0 1 0 1 1 1 0 1 1 1 1 1 1 1 1 0 0 1 0 1 0 0 1 1 0 1]\n",
      "F1 score: 0.7272727272727272\n",
      "origin pos:32.0 neg:25.0\n",
      "Epoch 1/6\n",
      "8/8 [==============================] - 1s 12ms/step - loss: 0.5169 - tp: 78.0000 - fp: 36.0000 - tn: 78.0000 - fn: 36.0000 - accuracy: 0.6842 - precision: 0.6842 - recall: 0.6842 - auc: 0.7769\n",
      "Epoch 2/6\n",
      "8/8 [==============================] - 0s 12ms/step - loss: 0.5189 - tp: 21.0000 - fp: 36.0000 - tn: 21.0000 - fn: 36.0000 - accuracy: 0.3684 - precision: 0.3684 - recall: 0.3684 - auc: 0.4831\n",
      "Epoch 3/6\n",
      "8/8 [==============================] - 0s 13ms/step - loss: 0.4690 - tp: 35.0000 - fp: 22.0000 - tn: 35.0000 - fn: 22.0000 - accuracy: 0.6140 - precision: 0.6140 - recall: 0.6140 - auc: 0.7299\n",
      "Epoch 4/6\n",
      "8/8 [==============================] - 0s 12ms/step - loss: 0.3377 - tp: 45.0000 - fp: 12.0000 - tn: 45.0000 - fn: 12.0000 - accuracy: 0.7895 - precision: 0.7895 - recall: 0.7895 - auc: 0.8544\n"
     ]
    },
    {
     "name": "stdout",
     "output_type": "stream",
     "text": [
      "Epoch 5/6\n",
      "8/8 [==============================] - 0s 12ms/step - loss: 0.1780 - tp: 50.0000 - fp: 7.0000 - tn: 50.0000 - fn: 7.0000 - accuracy: 0.8772 - precision: 0.8772 - recall: 0.8772 - auc: 0.9594\n",
      "Epoch 6/6\n",
      "8/8 [==============================] - 0s 12ms/step - loss: 0.2859 - tp: 42.0000 - fp: 15.0000 - tn: 42.0000 - fn: 15.0000 - accuracy: 0.7368 - precision: 0.7368 - recall: 0.7368 - auc: 0.8104\n",
      "Predict: [1 1 1 1 1 1 1 1 1 1 1 1 1 1 1 1 1 1 1 1 1 0 1 1 1 1 1 1]\n",
      "True: [0 1 0 0 1 1 1 1 1 1 0 1 1 1 0 1 0 0 0 1 1 1 1 0 1 0 1 1]\n",
      "F1 score: 0.7555555555555556\n",
      "Responsible\n",
      "origin pos:25.0 neg:31.0\n",
      "Epoch 1/6\n",
      "7/7 [==============================] - 1s 10ms/step - loss: 0.5086 - tp: 68.0000 - fp: 45.0000 - tn: 68.0000 - fn: 45.0000 - accuracy: 0.6018 - precision: 0.6018 - recall: 0.6018 - auc: 0.6960\n",
      "Epoch 2/6\n",
      "7/7 [==============================] - 0s 11ms/step - loss: 0.4925 - tp: 38.0000 - fp: 18.0000 - tn: 38.0000 - fn: 18.0000 - accuracy: 0.6786 - precision: 0.6786 - recall: 0.6786 - auc: 0.7439\n",
      "Epoch 3/6\n",
      "7/7 [==============================] - 0s 11ms/step - loss: 0.2696 - tp: 47.0000 - fp: 9.0000 - tn: 47.0000 - fn: 9.0000 - accuracy: 0.8393 - precision: 0.8393 - recall: 0.8393 - auc: 0.8793\n",
      "Epoch 4/6\n",
      "7/7 [==============================] - 0s 9ms/step - loss: 0.1459 - tp: 50.0000 - fp: 6.0000 - tn: 50.0000 - fn: 6.0000 - accuracy: 0.8929 - precision: 0.8929 - recall: 0.8929 - auc: 0.9069 \n",
      "Epoch 5/6\n",
      "7/7 [==============================] - 0s 6ms/step - loss: 0.1392 - tp: 50.0000 - fp: 6.0000 - tn: 50.0000 - fn: 6.0000 - accuracy: 0.8929 - precision: 0.8929 - recall: 0.8929 - auc: 0.8976\n",
      "Epoch 6/6\n",
      "7/7 [==============================] - 0s 7ms/step - loss: 0.1272 - tp: 49.0000 - fp: 7.0000 - tn: 49.0000 - fn: 7.0000 - accuracy: 0.8750 - precision: 0.8750 - recall: 0.8750 - auc: 0.9040\n",
      "Predict: [0 1 1 1 0 1 0 1 1 1 1 0 1 0 1 1 1 0 1 1 0 0 1 1 1 1 1 1 0]\n",
      "True: [1 1 1 1 0 0 0 0 1 0 1 1 0 0 1 1 0 1 0 0 1 1 0 0 1 1 1 0 1]\n",
      "F1 score: 0.5555555555555556\n",
      "origin pos:28.0 neg:29.0\n",
      "Epoch 1/6\n",
      "8/8 [==============================] - 1s 8ms/step - loss: 0.5308 - tp: 75.0000 - fp: 38.0000 - tn: 75.0000 - fn: 38.0000 - accuracy: 0.6637 - precision: 0.6637 - recall: 0.6637 - auc: 0.7653\n",
      "Epoch 2/6\n",
      "8/8 [==============================] - 0s 8ms/step - loss: 0.5426 - tp: 25.0000 - fp: 32.0000 - tn: 25.0000 - fn: 32.0000 - accuracy: 0.4386 - precision: 0.4386 - recall: 0.4386 - auc: 0.4648\n",
      "Epoch 3/6\n",
      "8/8 [==============================] - 0s 9ms/step - loss: 0.5027 - tp: 31.0000 - fp: 26.0000 - tn: 31.0000 - fn: 26.0000 - accuracy: 0.5439 - precision: 0.5439 - recall: 0.5439 - auc: 0.5837\n",
      "Epoch 4/6\n",
      "8/8 [==============================] - 0s 12ms/step - loss: 0.4429 - tp: 46.0000 - fp: 11.0000 - tn: 46.0000 - fn: 11.0000 - accuracy: 0.8070 - precision: 0.8070 - recall: 0.8070 - auc: 0.8190\n",
      "Epoch 5/6\n",
      "8/8 [==============================] - 0s 11ms/step - loss: 0.1762 - tp: 48.0000 - fp: 9.0000 - tn: 48.0000 - fn: 9.0000 - accuracy: 0.8421 - precision: 0.8421 - recall: 0.8421 - auc: 0.9024\n",
      "Epoch 6/6\n",
      "8/8 [==============================] - 0s 8ms/step - loss: 0.0914 - tp: 53.0000 - fp: 4.0000 - tn: 53.0000 - fn: 4.0000 - accuracy: 0.9298 - precision: 0.9298 - recall: 0.9298 - auc: 0.9304 \n",
      "Predict: [1 0 0 0 1 1 0 0 0 1 0 0 0 0 0 1 1 0 0 0 0 0 1 0 1 1 1 1]\n",
      "True: [1 0 1 0 1 1 0 0 1 0 1 0 0 1 0 0 1 1 0 0 1 0 1 0 0 1 0 1]\n",
      "F1 score: 0.5833333333333334\n",
      "origin pos:29.0 neg:28.0\n",
      "Epoch 1/6\n",
      "8/8 [==============================] - 1s 8ms/step - loss: 0.5164 - tp: 81.0000 - fp: 33.0000 - tn: 81.0000 - fn: 33.0000 - accuracy: 0.7105 - precision: 0.7105 - recall: 0.7105 - auc: 0.8141\n",
      "Epoch 2/6\n",
      "8/8 [==============================] - 0s 8ms/step - loss: 0.4781 - tp: 40.0000 - fp: 17.0000 - tn: 40.0000 - fn: 17.0000 - accuracy: 0.7018 - precision: 0.7018 - recall: 0.7018 - auc: 0.7649\n",
      "Epoch 3/6\n",
      "8/8 [==============================] - 0s 8ms/step - loss: 0.3487 - tp: 42.0000 - fp: 15.0000 - tn: 42.0000 - fn: 15.0000 - accuracy: 0.7368 - precision: 0.7368 - recall: 0.7368 - auc: 0.8021\n",
      "Epoch 4/6\n",
      "8/8 [==============================] - 0s 8ms/step - loss: 0.1919 - tp: 48.0000 - fp: 9.0000 - tn: 48.0000 - fn: 9.0000 - accuracy: 0.8421 - precision: 0.8421 - recall: 0.8421 - auc: 0.9030\n",
      "Epoch 5/6\n",
      "8/8 [==============================] - 0s 8ms/step - loss: 0.1318 - tp: 51.0000 - fp: 6.0000 - tn: 51.0000 - fn: 6.0000 - accuracy: 0.8947 - precision: 0.8947 - recall: 0.8947 - auc: 0.9021\n",
      "Epoch 6/6\n",
      "8/8 [==============================] - 0s 8ms/step - loss: 0.1040 - tp: 53.0000 - fp: 4.0000 - tn: 53.0000 - fn: 4.0000 - accuracy: 0.9298 - precision: 0.9298 - recall: 0.9298 - auc: 0.9495 \n",
      "Predict: [1 0 0 0 1 0 1 0 0 0 1 0 0 1 1 0 1 0 1 1 1 1 1 1 0 1 1 0]\n",
      "True: [0 1 1 0 0 0 1 1 1 0 0 1 1 0 1 0 1 1 0 0 1 0 0 0 1 0 0 0]\n",
      "F1 score: 0.2962962962962963\n",
      "Sociable\n",
      "origin pos:16.0 neg:40.0\n",
      "Epoch 1/6\n",
      "7/7 [==============================] - 1s 11ms/step - loss: 0.5310 - tp: 86.0000 - fp: 27.0000 - tn: 86.0000 - fn: 27.0000 - accuracy: 0.7611 - precision: 0.7611 - recall: 0.7611 - auc: 0.8637\n",
      "Epoch 2/6\n",
      "7/7 [==============================] - 0s 15ms/step - loss: 0.5301 - tp: 40.0000 - fp: 16.0000 - tn: 40.0000 - fn: 16.0000 - accuracy: 0.7143 - precision: 0.7143 - recall: 0.7143 - auc: 0.6923\n",
      "Epoch 3/6\n",
      "7/7 [==============================] - 0s 16ms/step - loss: 0.4569 - tp: 40.0000 - fp: 16.0000 - tn: 40.0000 - fn: 16.0000 - accuracy: 0.7143 - precision: 0.7143 - recall: 0.7143 - auc: 0.8654\n",
      "Epoch 4/6\n",
      "7/7 [==============================] - 0s 11ms/step - loss: 0.3570 - tp: 40.0000 - fp: 16.0000 - tn: 40.0000 - fn: 16.0000 - accuracy: 0.7143 - precision: 0.7143 - recall: 0.7143 - auc: 0.9050\n",
      "Epoch 5/6\n",
      "7/7 [==============================] - 0s 11ms/step - loss: 0.2499 - tp: 53.0000 - fp: 3.0000 - tn: 53.0000 - fn: 3.0000 - accuracy: 0.9464 - precision: 0.9464 - recall: 0.9464 - auc: 0.9772\n",
      "Epoch 6/6\n",
      "7/7 [==============================] - 0s 8ms/step - loss: 0.1788 - tp: 54.0000 - fp: 2.0000 - tn: 54.0000 - fn: 2.0000 - accuracy: 0.9643 - precision: 0.9643 - recall: 0.9643 - auc: 0.9719\n",
      "Predict: [1 0 0 0 1 0 1 1 1 1 0 0 0 1 0 0 0 1 0 1 0 1 0 1 0 1 0 0 1]\n",
      "True: [1 1 0 1 1 0 0 0 0 1 1 1 1 0 0 1 0 0 0 0 0 1 0 1 1 0 1 1 0]\n",
      "F1 score: 0.3703703703703704\n",
      "origin pos:24.0 neg:33.0\n",
      "Epoch 1/6\n",
      "8/8 [==============================] - 1s 8ms/step - loss: 0.5126 - tp: 77.0000 - fp: 36.0000 - tn: 77.0000 - fn: 36.0000 - accuracy: 0.6814 - precision: 0.6814 - recall: 0.6814 - auc: 0.8308\n",
      "Epoch 2/6\n",
      "8/8 [==============================] - 0s 8ms/step - loss: 0.5275 - tp: 33.0000 - fp: 24.0000 - tn: 33.0000 - fn: 24.0000 - accuracy: 0.5789 - precision: 0.5789 - recall: 0.5789 - auc: 0.5226\n",
      "Epoch 3/6\n",
      "8/8 [==============================] - 0s 8ms/step - loss: 0.5054 - tp: 33.0000 - fp: 24.0000 - tn: 33.0000 - fn: 24.0000 - accuracy: 0.5789 - precision: 0.5789 - recall: 0.5789 - auc: 0.7101\n",
      "Epoch 4/6\n",
      "8/8 [==============================] - 0s 8ms/step - loss: 0.4372 - tp: 46.0000 - fp: 11.0000 - tn: 46.0000 - fn: 11.0000 - accuracy: 0.8070 - precision: 0.8070 - recall: 0.8070 - auc: 0.8692\n",
      "Epoch 5/6\n",
      "8/8 [==============================] - 0s 8ms/step - loss: 0.2758 - tp: 45.0000 - fp: 12.0000 - tn: 45.0000 - fn: 12.0000 - accuracy: 0.7895 - precision: 0.7895 - recall: 0.7895 - auc: 0.9064\n",
      "Epoch 6/6\n",
      "8/8 [==============================] - 0s 8ms/step - loss: 0.1516 - tp: 51.0000 - fp: 6.0000 - tn: 51.0000 - fn: 6.0000 - accuracy: 0.8947 - precision: 0.8947 - recall: 0.8947 - auc: 0.9446\n",
      "Predict: [0 0 1 0 0 0 0 0 0 0 0 0 1 0 0 0 0 0 0 0 0 0 0 0 0 0 0 0]\n",
      "True: [0 0 0 0 1 0 0 0 0 0 1 1 0 0 0 0 0 0 0 1 1 0 0 1 0 0 0 0]\n",
      "F1 score: 0.0\n",
      "origin pos:20.0 neg:37.0\n",
      "Epoch 1/6\n",
      "8/8 [==============================] - 1s 18ms/step - loss: 0.5321 - tp: 84.0000 - fp: 30.0000 - tn: 84.0000 - fn: 30.0000 - accuracy: 0.7368 - precision: 0.7368 - recall: 0.7368 - auc: 0.8493\n",
      "Epoch 2/6\n",
      "8/8 [==============================] - 0s 13ms/step - loss: 0.5275 - tp: 37.0000 - fp: 20.0000 - tn: 37.0000 - fn: 20.0000 - accuracy: 0.6491 - precision: 0.6491 - recall: 0.6491 - auc: 0.6731\n",
      "Epoch 3/6\n",
      "8/8 [==============================] - 0s 12ms/step - loss: 0.4698 - tp: 37.0000 - fp: 20.0000 - tn: 37.0000 - fn: 20.0000 - accuracy: 0.6491 - precision: 0.6491 - recall: 0.6491 - auc: 0.7904\n",
      "Epoch 4/6\n"
     ]
    },
    {
     "name": "stdout",
     "output_type": "stream",
     "text": [
      "8/8 [==============================] - 0s 11ms/step - loss: 0.4062 - tp: 41.0000 - fp: 16.0000 - tn: 41.0000 - fn: 16.0000 - accuracy: 0.7193 - precision: 0.7193 - recall: 0.7193 - auc: 0.8447\n",
      "Epoch 5/6\n",
      "8/8 [==============================] - 0s 11ms/step - loss: 0.1738 - tp: 55.0000 - fp: 2.0000 - tn: 55.0000 - fn: 2.0000 - accuracy: 0.9649 - precision: 0.9649 - recall: 0.9649 - auc: 0.9609\n",
      "Epoch 6/6\n",
      "8/8 [==============================] - 0s 9ms/step - loss: 0.1059 - tp: 52.0000 - fp: 5.0000 - tn: 52.0000 - fn: 5.0000 - accuracy: 0.9123 - precision: 0.9123 - recall: 0.9123 - auc: 0.9701\n",
      "Predict: [0 1 0 0 0 0 0 0 0 0 0 0 0 0 0 0 0 0 0 1 0 0 0 1 0 0 0 0]\n",
      "True: [0 0 1 1 1 1 0 0 0 0 1 0 1 0 0 0 0 1 0 1 0 0 1 1 0 0 0 0]\n",
      "F1 score: 0.30769230769230765\n",
      "Trustworthy\n",
      "origin pos:10.0 neg:46.0\n",
      "Epoch 1/6\n",
      "7/7 [==============================] - 1s 7ms/step - loss: 0.5240 - tp: 98.0000 - fp: 15.0000 - tn: 98.0000 - fn: 15.0000 - accuracy: 0.8673 - precision: 0.8673 - recall: 0.8673 - auc: 0.9256\n",
      "Epoch 2/6\n",
      "7/7 [==============================] - 0s 7ms/step - loss: 0.5140 - tp: 46.0000 - fp: 10.0000 - tn: 46.0000 - fn: 10.0000 - accuracy: 0.8214 - precision: 0.8214 - recall: 0.8214 - auc: 0.8514\n",
      "Epoch 3/6\n",
      "7/7 [==============================] - 0s 6ms/step - loss: 0.4439 - tp: 46.0000 - fp: 10.0000 - tn: 46.0000 - fn: 10.0000 - accuracy: 0.8214 - precision: 0.8214 - recall: 0.8214 - auc: 0.9359\n",
      "Epoch 4/6\n",
      "7/7 [==============================] - 0s 7ms/step - loss: 0.3348 - tp: 47.0000 - fp: 9.0000 - tn: 47.0000 - fn: 9.0000 - accuracy: 0.8393 - precision: 0.8393 - recall: 0.8393 - auc: 0.9627\n",
      "Epoch 5/6\n",
      "7/7 [==============================] - 0s 7ms/step - loss: 0.2351 - tp: 55.0000 - fp: 1.0000 - tn: 55.0000 - fn: 1.0000 - accuracy: 0.9821 - precision: 0.9821 - recall: 0.9821 - auc: 0.9939  \n",
      "Epoch 6/6\n",
      "7/7 [==============================] - 0s 6ms/step - loss: 0.1756 - tp: 54.0000 - fp: 2.0000 - tn: 54.0000 - fn: 2.0000 - accuracy: 0.9643 - precision: 0.9643 - recall: 0.9643 - auc: 0.9968  \n",
      "Predict: [0 0 0 0 0 0 0 0 0 0 0 0 0 0 0 0 1 1 0 0 0 1 0 0 0 0 0 1 0]\n",
      "True: [1 0 0 1 1 1 1 0 0 0 0 0 0 0 0 0 0 0 0 1 0 0 0 0 1 1 0 1 0]\n",
      "F1 score: 0.15384615384615383\n",
      "origin pos:18.0 neg:39.0\n",
      "Epoch 1/6\n",
      "8/8 [==============================] - 1s 11ms/step - loss: 0.5247 - tp: 90.0000 - fp: 23.0000 - tn: 90.0000 - fn: 23.0000 - accuracy: 0.7965 - precision: 0.7965 - recall: 0.7965 - auc: 0.8979\n",
      "Epoch 2/6\n",
      "8/8 [==============================] - 0s 11ms/step - loss: 0.5267 - tp: 39.0000 - fp: 18.0000 - tn: 39.0000 - fn: 18.0000 - accuracy: 0.6842 - precision: 0.6842 - recall: 0.6842 - auc: 0.7298\n",
      "Epoch 3/6\n",
      "8/8 [==============================] - 0s 11ms/step - loss: 0.4261 - tp: 39.0000 - fp: 18.0000 - tn: 39.0000 - fn: 18.0000 - accuracy: 0.6842 - precision: 0.6842 - recall: 0.6842 - auc: 0.8849\n",
      "Epoch 4/6\n",
      "8/8 [==============================] - 0s 11ms/step - loss: 0.3234 - tp: 46.0000 - fp: 11.0000 - tn: 46.0000 - fn: 11.0000 - accuracy: 0.8070 - precision: 0.8070 - recall: 0.8070 - auc: 0.8967\n",
      "Epoch 5/6\n",
      "8/8 [==============================] - 0s 11ms/step - loss: 0.1757 - tp: 55.0000 - fp: 2.0000 - tn: 55.0000 - fn: 2.0000 - accuracy: 0.9649 - precision: 0.9649 - recall: 0.9649 - auc: 0.9748\n",
      "Epoch 6/6\n",
      "8/8 [==============================] - 0s 11ms/step - loss: 0.1048 - tp: 55.0000 - fp: 2.0000 - tn: 55.0000 - fn: 2.0000 - accuracy: 0.9649 - precision: 0.9649 - recall: 0.9649 - auc: 0.9594\n",
      "Predict: [0 1 0 1 1 0 0 1 1 0 0 1 1 1 0 0 0 1 0 1 0 1 1 1 1 0 0 1]\n",
      "True: [0 0 0 0 0 0 0 0 0 0 0 0 0 0 0 0 0 0 0 0 0 0 0 0 0 1 0 0]\n",
      "F1 score: 0.0\n",
      "origin pos:10.0 neg:47.0\n",
      "Epoch 1/6\n",
      "8/8 [==============================] - 1s 12ms/step - loss: 0.5340 - tp: 100.0000 - fp: 14.0000 - tn: 100.0000 - fn: 14.0000 - accuracy: 0.8772 - precision: 0.8772 - recall: 0.8772 - auc: 0.9385\n",
      "Epoch 2/6\n",
      "8/8 [==============================] - 0s 11ms/step - loss: 0.5526 - tp: 47.0000 - fp: 10.0000 - tn: 47.0000 - fn: 10.0000 - accuracy: 0.8246 - precision: 0.8246 - recall: 0.8246 - auc: 0.8818\n",
      "Epoch 3/6\n",
      "8/8 [==============================] - 0s 9ms/step - loss: 0.4532 - tp: 47.0000 - fp: 10.0000 - tn: 47.0000 - fn: 10.0000 - accuracy: 0.8246 - precision: 0.8246 - recall: 0.8246 - auc: 0.9187\n",
      "Epoch 4/6\n",
      "8/8 [==============================] - 0s 8ms/step - loss: 0.4413 - tp: 47.0000 - fp: 10.0000 - tn: 47.0000 - fn: 10.0000 - accuracy: 0.8246 - precision: 0.8246 - recall: 0.8246 - auc: 0.9569\n",
      "Epoch 5/6\n",
      "8/8 [==============================] - 0s 8ms/step - loss: 0.3161 - tp: 53.0000 - fp: 4.0000 - tn: 53.0000 - fn: 4.0000 - accuracy: 0.9298 - precision: 0.9298 - recall: 0.9298 - auc: 0.9892 \n",
      "Epoch 6/6\n",
      "8/8 [==============================] - 0s 8ms/step - loss: 0.2128 - tp: 55.0000 - fp: 2.0000 - tn: 55.0000 - fn: 2.0000 - accuracy: 0.9649 - precision: 0.9649 - recall: 0.9649 - auc: 0.9945 \n",
      "Predict: [0 0 1 0 0 0 0 0 0 0 0 0 0 0 0 0 0 0 0 0 0 0 0 0 0 0 0 0]\n",
      "True: [0 0 1 1 1 0 0 0 1 0 0 0 0 1 0 0 0 0 0 0 0 0 1 0 0 1 1 1]\n",
      "F1 score: 0.19999999999999998\n"
     ]
    }
   ],
   "source": [
    "f1_dict = dict()\n",
    "\n",
    "for label in labels:\n",
    "    y_raw = df[label]\n",
    "    y = tf.keras.utils.to_categorical(y_raw)\n",
    "    \n",
    "    f1_dict[label] = []\n",
    "    print(label)\n",
    "    \n",
    "    for train_index, test_index in kf.split(X):     \n",
    "        X_train, X_test = X[train_index], X[test_index]\n",
    "        y_train, y_test = y[train_index], y[test_index]\n",
    "        \n",
    "        neg = y_train.sum(axis=0)[0]\n",
    "        pos = y_train.sum(axis=0)[1]\n",
    "        total = pos + neg\n",
    "        print(f\"origin pos:{pos} neg:{neg}\")\n",
    "\n",
    "        # クラスの重み\n",
    "        weight_for_0 = (1 / neg) * (total / 2.0)\n",
    "        weight_for_1 = (1 / pos) * (total / 2.0)\n",
    "        class_weight = {0: weight_for_0, 1: weight_for_1}\n",
    "        \n",
    "        model = get_binary_model()\n",
    "        \n",
    "        # 初期重みの最適化\n",
    "        initial_bias = np.log([neg/pos])\n",
    "        model.layers[-1].bias_initializer=initial_bias\n",
    "        \n",
    "        model.compile(loss=f1_loss, optimizer=\"adam\", metrics=METRICS)\n",
    "        model.fit(X_train, y_train, batch_size=8, epochs=6, class_weight=class_weight)\n",
    "        y_pred_tf = model.predict(X_test, batch_size=1)\n",
    "        y_pred = np.argmax(y_pred_tf, axis=1)\n",
    "        y_test_sk = np.argmax(y_test, axis=1)\n",
    "        print(\"Predict:\", y_pred)\n",
    "        print(\"True:\", y_test_sk)\n",
    "        f1 = f1_score(y_test_sk, y_pred, average=\"binary\")\n",
    "        print(\"F1 score:\", f1)\n",
    "        f1_dict[label].append(f1)\n",
    "    "
   ]
  },
  {
   "cell_type": "code",
   "execution_count": 56,
   "id": "f44638be",
   "metadata": {},
   "outputs": [],
   "source": [
    "f1_list = []\n",
    "for label in labels:\n",
    "    f1_list.append(np.mean(f1_dict[label]))\n",
    "macro_f1_val = np.mean(f1_list) "
   ]
  },
  {
   "cell_type": "code",
   "execution_count": 61,
   "id": "7699672a",
   "metadata": {},
   "outputs": [
    {
     "data": {
      "image/png": "[encoded data removed]",
      "text/plain": [
       "<Figure size 720x288 with 1 Axes>"
      ]
     },
     "metadata": {
      "needs_background": "light"
     },
     "output_type": "display_data"
    }
   ],
   "source": [
    "plt.figure(figsize=(10,4))\n",
    "plt.bar(f1_dict.keys(), f1_list)\n",
    "plt.title(f\"Average F1 score per label  (macro-f1: {macro_f1_val:.3f})\")\n",
    "plt.show() ;"
   ]
  },
  {
   "cell_type": "markdown",
   "id": "e45111c2",
   "metadata": {},
   "source": [
    "### いろいろやってみてわかること\n",
    " - Predictを見るとわかるが，まったく学習できていない\n",
    " - 役に立たない　やはりデータが少なすぎるか\n",
    " - f1をlossに用いるほうが全然良い\n",
    " - macro-f1はf1の平均"
   ]
  },
  {
   "cell_type": "markdown",
   "id": "8221fbfb",
   "metadata": {},
   "source": [
    "# マルチラベル問題"
   ]
  },
  {
   "cell_type": "markdown",
   "id": "040504ba",
   "metadata": {},
   "source": [
    "cf．https://towardsdatascience.com/multi-label-image-classification-in-tensorflow-2-0-7d4cf8a4bc72"
   ]
  },
  {
   "cell_type": "code",
   "execution_count": 51,
   "id": "9eb34825",
   "metadata": {},
   "outputs": [],
   "source": [
    "def macro_f1(y, y_hat, thresh=0.5):\n",
    "    \"\"\"Compute the macro F1-score on a batch of observations (average F1 across labels)\n",
    "    \n",
    "    Args:\n",
    "        y (int32 Tensor): labels array of shape (BATCH_SIZE, N_LABELS)\n",
    "        y_hat (float32 Tensor): probability matrix from forward propagation of shape (BATCH_SIZE, N_LABELS)\n",
    "        thresh: probability value above which we predict positive\n",
    "        \n",
    "    Returns:\n",
    "        macro_f1 (scalar Tensor): value of macro F1 for the batch\n",
    "    \"\"\"\n",
    "    y_pred = tf.cast(tf.greater(y_hat, thresh), tf.float32)\n",
    "    tp = tf.cast(tf.math.count_nonzero(y_pred * y, axis=0), tf.float32)\n",
    "    fp = tf.cast(tf.math.count_nonzero(y_pred * (1 - y), axis=0), tf.float32)\n",
    "    fn = tf.cast(tf.math.count_nonzero((1 - y_pred) * y, axis=0), tf.float32)\n",
    "    f1 = 2*tp / (2*tp + fn + fp + 1e-16)\n",
    "    macro_f1 = tf.reduce_mean(f1)\n",
    "    return macro_f1"
   ]
  },
  {
   "cell_type": "code",
   "execution_count": null,
   "id": "b63c3570",
   "metadata": {},
   "outputs": [],
   "source": []
  }
 ],
 "metadata": {
  "kernelspec": {
   "display_name": "Python 3 (ipykernel)",
   "language": "python",
   "name": "python3"
  },
  "language_info": {
   "codemirror_mode": {
    "name": "ipython",
    "version": 3
   },
   "file_extension": ".py",
   "mimetype": "text/x-python",
   "name": "python",
   "nbconvert_exporter": "python",
   "pygments_lexer": "ipython3",
   "version": "3.9.10"
  }
 },
 "nbformat": 4,
 "nbformat_minor": 5
}
