{
 "cells": [
  {
   "cell_type": "markdown",
   "id": "a06fea3d",
   "metadata": {},
   "source": [
    "# 学習と評価\n",
    " - FaceNetの利用"
   ]
  },
  {
   "cell_type": "code",
   "execution_count": 1,
   "id": "3c8fdcf0",
   "metadata": {},
   "outputs": [],
   "source": [
    "import numpy as np\n",
    "import pandas as pd\n",
    "from matplotlib import pyplot as plt"
   ]
  },
  {
   "cell_type": "code",
   "execution_count": 2,
   "id": "d51b929b",
   "metadata": {},
   "outputs": [],
   "source": [
    "from pathlib import Path"
   ]
  },
  {
   "cell_type": "code",
   "execution_count": 3,
   "id": "d3d4b59f",
   "metadata": {},
   "outputs": [],
   "source": [
    "import tensorflow as tf"
   ]
  },
  {
   "cell_type": "code",
   "execution_count": 4,
   "id": "e5d712f6",
   "metadata": {},
   "outputs": [
    {
     "data": {
      "text/plain": [
       "'2.8.0'"
      ]
     },
     "execution_count": 4,
     "metadata": {},
     "output_type": "execute_result"
    }
   ],
   "source": [
    "tf.__version__"
   ]
  },
  {
   "cell_type": "code",
   "execution_count": 5,
   "id": "c978fc4a",
   "metadata": {},
   "outputs": [],
   "source": [
    "AUTOTUNE = tf.data.experimental.AUTOTUNE"
   ]
  },
  {
   "cell_type": "code",
   "execution_count": 6,
   "id": "8d763348",
   "metadata": {},
   "outputs": [],
   "source": [
    "from sklearn.model_selection import KFold"
   ]
  },
  {
   "cell_type": "code",
   "execution_count": 14,
   "id": "5e8b5bcb",
   "metadata": {},
   "outputs": [],
   "source": [
    "SEED = 1001"
   ]
  },
  {
   "cell_type": "markdown",
   "id": "83471da0",
   "metadata": {},
   "source": [
    "## データのロード\n",
    "\n",
    "- 画像サイズは224×224"
   ]
  },
  {
   "cell_type": "code",
   "execution_count": 7,
   "id": "38c4d888",
   "metadata": {},
   "outputs": [],
   "source": [
    "df = pd.read_csv(\"data1_union.csv\")"
   ]
  },
  {
   "cell_type": "code",
   "execution_count": 8,
   "id": "e36eab61",
   "metadata": {},
   "outputs": [
    {
     "data": {
      "text/html": [
       "<div>\n",
       "<style scoped>\n",
       "    .dataframe tbody tr th:only-of-type {\n",
       "        vertical-align: middle;\n",
       "    }\n",
       "\n",
       "    .dataframe tbody tr th {\n",
       "        vertical-align: top;\n",
       "    }\n",
       "\n",
       "    .dataframe thead th {\n",
       "        text-align: right;\n",
       "    }\n",
       "</style>\n",
       "<table border=\"1\" class=\"dataframe\">\n",
       "  <thead>\n",
       "    <tr style=\"text-align: right;\">\n",
       "      <th></th>\n",
       "      <th>Id</th>\n",
       "      <th>Caring</th>\n",
       "      <th>Confident</th>\n",
       "      <th>Emotionally stable</th>\n",
       "      <th>Intelligent</th>\n",
       "      <th>Responsible</th>\n",
       "      <th>Sociable</th>\n",
       "      <th>Trustworthy</th>\n",
       "    </tr>\n",
       "  </thead>\n",
       "  <tbody>\n",
       "    <tr>\n",
       "      <th>0</th>\n",
       "      <td>6269</td>\n",
       "      <td>1.0</td>\n",
       "      <td>0.0</td>\n",
       "      <td>0.0</td>\n",
       "      <td>0.0</td>\n",
       "      <td>1.0</td>\n",
       "      <td>0.0</td>\n",
       "      <td>0.0</td>\n",
       "    </tr>\n",
       "    <tr>\n",
       "      <th>1</th>\n",
       "      <td>272998</td>\n",
       "      <td>1.0</td>\n",
       "      <td>1.0</td>\n",
       "      <td>0.0</td>\n",
       "      <td>0.0</td>\n",
       "      <td>0.0</td>\n",
       "      <td>0.0</td>\n",
       "      <td>0.0</td>\n",
       "    </tr>\n",
       "    <tr>\n",
       "      <th>2</th>\n",
       "      <td>274783</td>\n",
       "      <td>1.0</td>\n",
       "      <td>1.0</td>\n",
       "      <td>0.0</td>\n",
       "      <td>0.0</td>\n",
       "      <td>1.0</td>\n",
       "      <td>1.0</td>\n",
       "      <td>1.0</td>\n",
       "    </tr>\n",
       "    <tr>\n",
       "      <th>3</th>\n",
       "      <td>430823</td>\n",
       "      <td>0.0</td>\n",
       "      <td>1.0</td>\n",
       "      <td>0.0</td>\n",
       "      <td>0.0</td>\n",
       "      <td>0.0</td>\n",
       "      <td>0.0</td>\n",
       "      <td>0.0</td>\n",
       "    </tr>\n",
       "    <tr>\n",
       "      <th>4</th>\n",
       "      <td>208848</td>\n",
       "      <td>0.0</td>\n",
       "      <td>0.0</td>\n",
       "      <td>0.0</td>\n",
       "      <td>1.0</td>\n",
       "      <td>1.0</td>\n",
       "      <td>0.0</td>\n",
       "      <td>0.0</td>\n",
       "    </tr>\n",
       "    <tr>\n",
       "      <th>...</th>\n",
       "      <td>...</td>\n",
       "      <td>...</td>\n",
       "      <td>...</td>\n",
       "      <td>...</td>\n",
       "      <td>...</td>\n",
       "      <td>...</td>\n",
       "      <td>...</td>\n",
       "      <td>...</td>\n",
       "    </tr>\n",
       "    <tr>\n",
       "      <th>80</th>\n",
       "      <td>185955</td>\n",
       "      <td>0.0</td>\n",
       "      <td>1.0</td>\n",
       "      <td>1.0</td>\n",
       "      <td>1.0</td>\n",
       "      <td>1.0</td>\n",
       "      <td>0.0</td>\n",
       "      <td>0.0</td>\n",
       "    </tr>\n",
       "    <tr>\n",
       "      <th>81</th>\n",
       "      <td>313100</td>\n",
       "      <td>0.0</td>\n",
       "      <td>1.0</td>\n",
       "      <td>0.0</td>\n",
       "      <td>0.0</td>\n",
       "      <td>0.0</td>\n",
       "      <td>0.0</td>\n",
       "      <td>1.0</td>\n",
       "    </tr>\n",
       "    <tr>\n",
       "      <th>82</th>\n",
       "      <td>369866</td>\n",
       "      <td>1.0</td>\n",
       "      <td>1.0</td>\n",
       "      <td>0.0</td>\n",
       "      <td>1.0</td>\n",
       "      <td>1.0</td>\n",
       "      <td>0.0</td>\n",
       "      <td>0.0</td>\n",
       "    </tr>\n",
       "    <tr>\n",
       "      <th>83</th>\n",
       "      <td>124821</td>\n",
       "      <td>0.0</td>\n",
       "      <td>1.0</td>\n",
       "      <td>1.0</td>\n",
       "      <td>1.0</td>\n",
       "      <td>0.0</td>\n",
       "      <td>0.0</td>\n",
       "      <td>1.0</td>\n",
       "    </tr>\n",
       "    <tr>\n",
       "      <th>84</th>\n",
       "      <td>61202</td>\n",
       "      <td>0.0</td>\n",
       "      <td>1.0</td>\n",
       "      <td>1.0</td>\n",
       "      <td>1.0</td>\n",
       "      <td>0.0</td>\n",
       "      <td>0.0</td>\n",
       "      <td>1.0</td>\n",
       "    </tr>\n",
       "  </tbody>\n",
       "</table>\n",
       "<p>85 rows × 8 columns</p>\n",
       "</div>"
      ],
      "text/plain": [
       "        Id  Caring  Confident  Emotionally stable  Intelligent  Responsible  \\\n",
       "0     6269     1.0        0.0                 0.0          0.0          1.0   \n",
       "1   272998     1.0        1.0                 0.0          0.0          0.0   \n",
       "2   274783     1.0        1.0                 0.0          0.0          1.0   \n",
       "3   430823     0.0        1.0                 0.0          0.0          0.0   \n",
       "4   208848     0.0        0.0                 0.0          1.0          1.0   \n",
       "..     ...     ...        ...                 ...          ...          ...   \n",
       "80  185955     0.0        1.0                 1.0          1.0          1.0   \n",
       "81  313100     0.0        1.0                 0.0          0.0          0.0   \n",
       "82  369866     1.0        1.0                 0.0          1.0          1.0   \n",
       "83  124821     0.0        1.0                 1.0          1.0          0.0   \n",
       "84   61202     0.0        1.0                 1.0          1.0          0.0   \n",
       "\n",
       "    Sociable  Trustworthy  \n",
       "0        0.0          0.0  \n",
       "1        0.0          0.0  \n",
       "2        1.0          1.0  \n",
       "3        0.0          0.0  \n",
       "4        0.0          0.0  \n",
       "..       ...          ...  \n",
       "80       0.0          0.0  \n",
       "81       0.0          1.0  \n",
       "82       0.0          0.0  \n",
       "83       0.0          1.0  \n",
       "84       0.0          1.0  \n",
       "\n",
       "[85 rows x 8 columns]"
      ]
     },
     "execution_count": 8,
     "metadata": {},
     "output_type": "execute_result"
    }
   ],
   "source": [
    "df"
   ]
  },
  {
   "cell_type": "markdown",
   "id": "b33ecd64",
   "metadata": {},
   "source": [
    "## FaceNetで埋め込み"
   ]
  },
  {
   "cell_type": "markdown",
   "id": "48698ddb",
   "metadata": {},
   "source": [
    "メモ：```\\Lib\\site-packages\\facenet\\src\\facenet.py```の408行目をtensorflow v2仕様に書き換える必要がある"
   ]
  },
  {
   "cell_type": "code",
   "execution_count": 9,
   "id": "9bbf47af",
   "metadata": {},
   "outputs": [],
   "source": [
    "from face_embedding import FaceEmbedding"
   ]
  },
  {
   "cell_type": "code",
   "execution_count": 10,
   "id": "7f8b7e3e",
   "metadata": {},
   "outputs": [
    {
     "name": "stdout",
     "output_type": "stream",
     "text": [
      "Model filename: ../facenet//20180402-114759/20180402-114759.pb\n",
      "WARNING:tensorflow:From C:\\Users\\Owner\\python_venvs\\tensorflow\\lib\\site-packages\\facenet\\src\\facenet.py:407: FastGFile.__init__ (from tensorflow.python.platform.gfile) is deprecated and will be removed in a future version.\n",
      "Instructions for updating:\n",
      "Use tf.gfile.GFile.\n"
     ]
    }
   ],
   "source": [
    "FACE_MEDEL_PATH = '../facenet//20180402-114759/20180402-114759.pb'\n",
    "face_embedding = FaceEmbedding(FACE_MEDEL_PATH)"
   ]
  },
  {
   "cell_type": "code",
   "execution_count": 11,
   "id": "4c6301e4",
   "metadata": {},
   "outputs": [],
   "source": [
    "X = []\n",
    "for img_id in df[\"Id\"]:\n",
    "    path = f\"images/cleaned_20220519/{img_id}.jpg\"\n",
    "    face_vec = face_embedding.face_embeddings(path)[0]\n",
    "    X.append(face_vec)"
   ]
  },
  {
   "cell_type": "code",
   "execution_count": 12,
   "id": "c5e77dc3",
   "metadata": {},
   "outputs": [],
   "source": [
    "X = np.array(X)"
   ]
  },
  {
   "cell_type": "code",
   "execution_count": 13,
   "id": "147fc0af",
   "metadata": {},
   "outputs": [
    {
     "data": {
      "text/plain": [
       "(85, 512)"
      ]
     },
     "execution_count": 13,
     "metadata": {},
     "output_type": "execute_result"
    }
   ],
   "source": [
    "X.shape"
   ]
  },
  {
   "cell_type": "markdown",
   "id": "5546d6f1",
   "metadata": {},
   "source": [
    "# 二値分類モデル"
   ]
  },
  {
   "cell_type": "markdown",
   "id": "8bb4ca29",
   "metadata": {},
   "source": [
    "## モデル構築"
   ]
  },
  {
   "cell_type": "code",
   "execution_count": 18,
   "id": "d63c3934",
   "metadata": {},
   "outputs": [],
   "source": [
    "from tensorflow import keras\n",
    "from tensorflow.keras import Sequential, Model\n",
    "from tensorflow.keras.layers import Dense, Flatten, Dropout, MaxPool2D, Lambda, Conv2D, Reshape, Input, RandomFlip, RandomRotation"
   ]
  },
  {
   "cell_type": "code",
   "execution_count": 19,
   "id": "016fb432",
   "metadata": {},
   "outputs": [],
   "source": [
    "def get_binary_model():\n",
    "    input_ts = Input(shape=(512,))\n",
    "    dense1 = Dense(512, activation=\"relu\")(input_ts)\n",
    "    dense2 = Dense(1024, activation=\"relu\")(dense1)\n",
    "    drop1 = Dropout(0.4, seed=SEED)(dense2)\n",
    "    dense3 = Dense(1024, activation=\"relu\")(drop1)\n",
    "    drop2 = Dropout(0.4, seed=SEED)(dense3)\n",
    "    dense4 = Dense(512, activation=\"relu\")(drop2)\n",
    "    dense5 = Dense(256, activation=\"relu\")(dense4)\n",
    "    dense6 = Dense(128, activation=\"relu\")(dense5)\n",
    "    drop3 = Dropout(0.2, seed=SEED)(dense6)\n",
    "    final = Dense(2, activation=\"softmax\")(drop3)\n",
    "    \n",
    "    model = Model(\n",
    "        inputs=[input_ts],\n",
    "        outputs=[final]\n",
    "    )\n",
    "    return model"
   ]
  },
  {
   "cell_type": "code",
   "execution_count": 20,
   "id": "b4d25ba5",
   "metadata": {},
   "outputs": [],
   "source": [
    "model = get_binary_model()"
   ]
  },
  {
   "cell_type": "code",
   "execution_count": 21,
   "id": "158b5902",
   "metadata": {},
   "outputs": [
    {
     "name": "stdout",
     "output_type": "stream",
     "text": [
      "Model: \"model\"\n",
      "_________________________________________________________________\n",
      " Layer (type)                Output Shape              Param #   \n",
      "=================================================================\n",
      " input_1 (InputLayer)        [(None, 512)]             0         \n",
      "                                                                 \n",
      " dense (Dense)               (None, 512)               262656    \n",
      "                                                                 \n",
      " dense_1 (Dense)             (None, 1024)              525312    \n",
      "                                                                 \n",
      " dropout (Dropout)           (None, 1024)              0         \n",
      "                                                                 \n",
      " dense_2 (Dense)             (None, 1024)              1049600   \n",
      "                                                                 \n",
      " dropout_1 (Dropout)         (None, 1024)              0         \n",
      "                                                                 \n",
      " dense_3 (Dense)             (None, 512)               524800    \n",
      "                                                                 \n",
      " dense_4 (Dense)             (None, 256)               131328    \n",
      "                                                                 \n",
      " dense_5 (Dense)             (None, 128)               32896     \n",
      "                                                                 \n",
      " dropout_2 (Dropout)         (None, 128)               0         \n",
      "                                                                 \n",
      " dense_6 (Dense)             (None, 2)                 258       \n",
      "                                                                 \n",
      "=================================================================\n",
      "Total params: 2,526,850\n",
      "Trainable params: 2,526,850\n",
      "Non-trainable params: 0\n",
      "_________________________________________________________________\n"
     ]
    }
   ],
   "source": [
    "model.summary()"
   ]
  },
  {
   "cell_type": "code",
   "execution_count": 22,
   "id": "565e1711",
   "metadata": {},
   "outputs": [],
   "source": [
    "METRICS = [\n",
    "      keras.metrics.TruePositives(name='tp'),\n",
    "      keras.metrics.FalsePositives(name='fp'),\n",
    "      keras.metrics.TrueNegatives(name='tn'),\n",
    "      keras.metrics.FalseNegatives(name='fn'),\n",
    "      keras.metrics.BinaryAccuracy(name='accuracy'),\n",
    "      keras.metrics.Precision(name='precision'),\n",
    "      keras.metrics.Recall(name='recall'),\n",
    "      keras.metrics.AUC(name='auc'),\n",
    "]"
   ]
  },
  {
   "cell_type": "code",
   "execution_count": 23,
   "id": "c957700b",
   "metadata": {},
   "outputs": [],
   "source": [
    "del model"
   ]
  },
  {
   "cell_type": "code",
   "execution_count": 25,
   "id": "2bb8a60c",
   "metadata": {},
   "outputs": [],
   "source": [
    "kf = KFold(n_splits=3, shuffle=True, random_state=SEED)"
   ]
  },
  {
   "cell_type": "code",
   "execution_count": 26,
   "id": "19ff1464",
   "metadata": {},
   "outputs": [],
   "source": [
    "from sklearn.metrics import f1_score"
   ]
  },
  {
   "cell_type": "markdown",
   "id": "2cd4d914",
   "metadata": {},
   "source": [
    "cf. https://www.kaggle.com/code/rejpalcz/best-loss-function-for-f1-score-metric/notebook"
   ]
  },
  {
   "cell_type": "code",
   "execution_count": 27,
   "id": "2c9f2380",
   "metadata": {},
   "outputs": [],
   "source": [
    "from tensorflow.keras import backend as K"
   ]
  },
  {
   "cell_type": "markdown",
   "id": "ed8efe50",
   "metadata": {},
   "source": [
    "## すべてのラベルでやってみる"
   ]
  },
  {
   "cell_type": "code",
   "execution_count": 28,
   "id": "449383e8",
   "metadata": {},
   "outputs": [],
   "source": [
    "labels = [\"Caring\",\"Confident\",\"Emotionally stable\",\"Intelligent\",\"Responsible\",\"Sociable\",\"Trustworthy\"]"
   ]
  },
  {
   "cell_type": "code",
   "execution_count": 31,
   "id": "7e9da9ae",
   "metadata": {},
   "outputs": [],
   "source": [
    "kf = KFold(n_splits=3, shuffle=True, random_state=SEED)"
   ]
  },
  {
   "cell_type": "code",
   "execution_count": 32,
   "id": "64b3039d",
   "metadata": {},
   "outputs": [],
   "source": [
    "import gc"
   ]
  },
  {
   "cell_type": "code",
   "execution_count": 33,
   "id": "b530f0ff",
   "metadata": {},
   "outputs": [
    {
     "name": "stdout",
     "output_type": "stream",
     "text": [
      "Caring\n",
      "origin pos:21.0 neg:35.0\n",
      "Epoch 1/6\n",
      "7/7 [==============================] - 1s 20ms/step - loss: 0.7010 - tp: 21.0000 - fp: 35.0000 - tn: 21.0000 - fn: 35.0000 - accuracy: 0.3750 - precision: 0.3750 - recall: 0.3750 - auc: 0.3273\n",
      "Epoch 2/6\n",
      "7/7 [==============================] - 0s 22ms/step - loss: 0.7112 - tp: 26.0000 - fp: 30.0000 - tn: 26.0000 - fn: 30.0000 - accuracy: 0.4643 - precision: 0.4643 - recall: 0.4643 - auc: 0.3941             \n",
      "Epoch 3/6\n",
      "7/7 [==============================] - 0s 7ms/step - loss: 0.6896 - tp: 32.0000 - fp: 24.0000 - tn: 32.0000 - fn: 24.0000 - accuracy: 0.5714 - precision: 0.5714 - recall: 0.5714 - auc: 0.5702\n",
      "Epoch 4/6\n",
      "7/7 [==============================] - 0s 6ms/step - loss: 0.6708 - tp: 36.0000 - fp: 20.0000 - tn: 36.0000 - fn: 20.0000 - accuracy: 0.6429 - precision: 0.6429 - recall: 0.6429 - auc: 0.7003\n",
      "Epoch 5/6\n",
      "7/7 [==============================] - 0s 6ms/step - loss: 0.5481 - tp: 48.0000 - fp: 8.0000 - tn: 48.0000 - fn: 8.0000 - accuracy: 0.8571 - precision: 0.8571 - recall: 0.8571 - auc: 0.8916\n",
      "Epoch 6/6\n",
      "7/7 [==============================] - 0s 8ms/step - loss: 0.2028 - tp: 54.0000 - fp: 2.0000 - tn: 54.0000 - fn: 2.0000 - accuracy: 0.9643 - precision: 0.9643 - recall: 0.9643 - auc: 0.9962  \n",
      "Predict: [0 1 1 1 0 1 0 1 0 1 1 0 0 0 0 0 0 0 0 1 0 1 1 1 1 1 1 1 0]\n",
      "True: [1 0 0 1 1 0 0 0 0 0 0 0 0 0 0 0 0 0 0 1 0 0 0 0 0 0 1 0 0]\n",
      "F1 score: 0.3\n",
      "origin pos:17.0 neg:40.0\n",
      "Epoch 1/6\n",
      "8/8 [==============================] - 1s 8ms/step - loss: 0.6998 - tp: 93.0000 - fp: 20.0000 - tn: 93.0000 - fn: 20.0000 - accuracy: 0.8230 - precision: 0.8230 - recall: 0.8230 - auc: 0.8910\n",
      "Epoch 2/6\n",
      "8/8 [==============================] - 0s 8ms/step - loss: 0.7006 - tp: 40.0000 - fp: 17.0000 - tn: 40.0000 - fn: 17.0000 - accuracy: 0.7018 - precision: 0.7018 - recall: 0.7018 - auc: 0.7079\n",
      "Epoch 3/6\n",
      "8/8 [==============================] - 0s 8ms/step - loss: 0.6453 - tp: 41.0000 - fp: 16.0000 - tn: 41.0000 - fn: 16.0000 - accuracy: 0.7193 - precision: 0.7193 - recall: 0.7193 - auc: 0.8449\n",
      "Epoch 4/6\n",
      "8/8 [==============================] - 0s 8ms/step - loss: 0.4829 - tp: 52.0000 - fp: 5.0000 - tn: 52.0000 - fn: 5.0000 - accuracy: 0.9123 - precision: 0.9123 - recall: 0.9123 - auc: 0.9498 \n",
      "Epoch 5/6\n",
      "8/8 [==============================] - 0s 8ms/step - loss: 0.1774 - tp: 54.0000 - fp: 3.0000 - tn: 54.0000 - fn: 3.0000 - accuracy: 0.9474 - precision: 0.9474 - recall: 0.9474 - auc: 0.9957 \n",
      "Epoch 6/6\n",
      "8/8 [==============================] - 0s 8ms/step - loss: 0.3230 - tp: 52.0000 - fp: 5.0000 - tn: 52.0000 - fn: 5.0000 - accuracy: 0.9123 - precision: 0.9123 - recall: 0.9123 - auc: 0.9388\n",
      "Predict: [0 0 1 0 1 0 0 0 0 1 0 0 0 1 0 1 1 1 0 0 1 0 0 1 0 0 0 0]\n",
      "True: [1 0 0 1 0 1 0 0 1 0 1 1 1 0 0 0 0 0 0 0 0 0 0 1 0 0 0 1]\n",
      "F1 score: 0.1111111111111111\n",
      "origin pos:14.0 neg:43.0\n",
      "Epoch 1/6\n",
      "8/8 [==============================] - 1s 12ms/step - loss: 0.6997 - tp: 92.0000 - fp: 22.0000 - tn: 92.0000 - fn: 22.0000 - accuracy: 0.8070 - precision: 0.8070 - recall: 0.8070 - auc: 0.8716\n",
      "Epoch 2/6\n",
      "8/8 [==============================] - 0s 13ms/step - loss: 0.6949 - tp: 43.0000 - fp: 14.0000 - tn: 43.0000 - fn: 14.0000 - accuracy: 0.7544 - precision: 0.7544 - recall: 0.7544 - auc: 0.7842\n",
      "Epoch 3/6\n",
      "8/8 [==============================] - 0s 12ms/step - loss: 0.6516 - tp: 43.0000 - fp: 14.0000 - tn: 43.0000 - fn: 14.0000 - accuracy: 0.7544 - precision: 0.7544 - recall: 0.7544 - auc: 0.8769\n",
      "Epoch 4/6\n",
      "8/8 [==============================] - 0s 11ms/step - loss: 0.6062 - tp: 46.0000 - fp: 11.0000 - tn: 46.0000 - fn: 11.0000 - accuracy: 0.8070 - precision: 0.8070 - recall: 0.8070 - auc: 0.9034\n",
      "Epoch 5/6\n",
      "8/8 [==============================] - 0s 12ms/step - loss: 0.3759 - tp: 55.0000 - fp: 2.0000 - tn: 55.0000 - fn: 2.0000 - accuracy: 0.9649 - precision: 0.9649 - recall: 0.9649 - auc: 0.9988\n",
      "Epoch 6/6\n",
      "8/8 [==============================] - 0s 8ms/step - loss: 0.3134 - tp: 48.0000 - fp: 9.0000 - tn: 48.0000 - fn: 9.0000 - accuracy: 0.8421 - precision: 0.8421 - recall: 0.8421 - auc: 0.9304\n",
      "Predict: [0 1 0 1 0 1 0 1 1 0 0 1 1 1 1 0 0 1 0 0 0 0 0 1 0 0 0 1]\n",
      "True: [1 0 1 0 1 1 0 0 0 0 1 1 0 1 1 0 0 0 1 1 0 0 0 1 1 0 0 0]\n",
      "F1 score: 0.4166666666666667\n",
      "Confident\n",
      "origin pos:43.0 neg:13.0\n",
      "Epoch 1/6\n",
      "7/7 [==============================] - 1s 8ms/step - loss: 0.6923 - tp: 89.0000 - fp: 24.0000 - tn: 89.0000 - fn: 24.0000 - accuracy: 0.7876 - precision: 0.7876 - recall: 0.7876 - auc: 0.8474\n",
      "Epoch 2/6\n",
      "7/7 [==============================] - 0s 7ms/step - loss: 0.6846 - tp: 42.0000 - fp: 14.0000 - tn: 42.0000 - fn: 14.0000 - accuracy: 0.7500 - precision: 0.7500 - recall: 0.7500 - auc: 0.8257\n",
      "Epoch 3/6\n",
      "7/7 [==============================] - 0s 7ms/step - loss: 0.5680 - tp: 49.0000 - fp: 7.0000 - tn: 49.0000 - fn: 7.0000 - accuracy: 0.8750 - precision: 0.8750 - recall: 0.8750 - auc: 0.9330\n",
      "Epoch 4/6\n",
      "7/7 [==============================] - 0s 7ms/step - loss: 0.3994 - tp: 50.0000 - fp: 6.0000 - tn: 50.0000 - fn: 6.0000 - accuracy: 0.8929 - precision: 0.8929 - recall: 0.8929 - auc: 0.9608  \n",
      "Epoch 5/6\n",
      "7/7 [==============================] - 0s 7ms/step - loss: 0.1875 - tp: 50.0000 - fp: 6.0000 - tn: 50.0000 - fn: 6.0000 - accuracy: 0.8929 - precision: 0.8929 - recall: 0.8929 - auc: 0.9694\n",
      "Epoch 6/6\n",
      "7/7 [==============================] - 0s 8ms/step - loss: 0.2051 - tp: 54.0000 - fp: 2.0000 - tn: 54.0000 - fn: 2.0000 - accuracy: 0.9643 - precision: 0.9643 - recall: 0.9643 - auc: 0.9809  \n",
      "Predict: [1 1 1 0 0 0 1 0 0 1 0 1 1 1 0 1 0 1 0 1 1 0 0 1 1 0 1 1 1]\n",
      "True: [1 1 1 1 1 1 1 1 1 1 1 0 1 1 0 0 1 1 1 0 1 1 1 1 1 0 0 0 1]\n",
      "F1 score: 0.6153846153846153\n",
      "origin pos:42.0 neg:15.0\n",
      "Epoch 1/6\n",
      "8/8 [==============================] - 1s 12ms/step - loss: 0.6975 - tp: 97.0000 - fp: 16.0000 - tn: 97.0000 - fn: 16.0000 - accuracy: 0.8584 - precision: 0.8584 - recall: 0.8584 - auc: 0.9015\n",
      "Epoch 2/6\n",
      "8/8 [==============================] - 0s 12ms/step - loss: 0.7378 - tp: 42.0000 - fp: 15.0000 - tn: 42.0000 - fn: 15.0000 - accuracy: 0.7368 - precision: 0.7368 - recall: 0.7368 - auc: 0.7356\n",
      "Epoch 3/6\n",
      "8/8 [==============================] - 0s 12ms/step - loss: 0.6736 - tp: 43.0000 - fp: 14.0000 - tn: 43.0000 - fn: 14.0000 - accuracy: 0.7544 - precision: 0.7544 - recall: 0.7544 - auc: 0.8570\n",
      "Epoch 4/6\n",
      "8/8 [==============================] - 0s 12ms/step - loss: 0.6108 - tp: 44.0000 - fp: 13.0000 - tn: 44.0000 - fn: 13.0000 - accuracy: 0.7719 - precision: 0.7719 - recall: 0.7719 - auc: 0.8910\n",
      "Epoch 5/6\n",
      "8/8 [==============================] - 0s 12ms/step - loss: 0.4650 - tp: 53.0000 - fp: 4.0000 - tn: 53.0000 - fn: 4.0000 - accuracy: 0.9298 - precision: 0.9298 - recall: 0.9298 - auc: 0.9609\n",
      "Epoch 6/6\n",
      "8/8 [==============================] - 0s 12ms/step - loss: 0.3545 - tp: 52.0000 - fp: 5.0000 - tn: 52.0000 - fn: 5.0000 - accuracy: 0.9123 - precision: 0.9123 - recall: 0.9123 - auc: 0.9732\n",
      "Predict: [1 1 0 1 0 1 1 0 0 0 0 0 1 0 1 1 1 0 1 0 1 0 0 0 1 1 0 0]\n",
      "True: [0 1 1 1 1 1 1 1 1 1 0 0 1 0 1 1 1 1 1 1 1 1 1 1 1 0 1 1]\n",
      "F1 score: 0.6111111111111112\n",
      "origin pos:45.0 neg:12.0\n",
      "Epoch 1/6\n",
      "8/8 [==============================] - 1s 9ms/step - loss: 0.6953 - tp: 71.0000 - fp: 43.0000 - tn: 71.0000 - fn: 43.0000 - accuracy: 0.6228 - precision: 0.6228 - recall: 0.6228 - auc: 0.7707\n",
      "Epoch 2/6\n",
      "8/8 [==============================] - 0s 8ms/step - loss: 0.7156 - tp: 45.0000 - fp: 12.0000 - tn: 45.0000 - fn: 12.0000 - accuracy: 0.7895 - precision: 0.7895 - recall: 0.7895 - auc: 0.7436\n",
      "Epoch 3/6\n",
      "8/8 [==============================] - 0s 8ms/step - loss: 0.6680 - tp: 45.0000 - fp: 12.0000 - tn: 45.0000 - fn: 12.0000 - accuracy: 0.7895 - precision: 0.7895 - recall: 0.7895 - auc: 0.8812\n",
      "Epoch 4/6\n",
      "8/8 [==============================] - 0s 8ms/step - loss: 0.5577 - tp: 47.0000 - fp: 10.0000 - tn: 47.0000 - fn: 10.0000 - accuracy: 0.8246 - precision: 0.8246 - recall: 0.8246 - auc: 0.9438\n",
      "Epoch 5/6\n",
      "8/8 [==============================] - 0s 8ms/step - loss: 0.4158 - tp: 54.0000 - fp: 3.0000 - tn: 54.0000 - fn: 3.0000 - accuracy: 0.9474 - precision: 0.9474 - recall: 0.9474 - auc: 0.9775 \n",
      "Epoch 6/6\n"
     ]
    },
    {
     "name": "stdout",
     "output_type": "stream",
     "text": [
      "8/8 [==============================] - 0s 8ms/step - loss: 0.1043 - tp: 55.0000 - fp: 2.0000 - tn: 55.0000 - fn: 2.0000 - accuracy: 0.9649 - precision: 0.9649 - recall: 0.9649 - auc: 0.9988 \n",
      "Predict: [1 0 1 1 1 1 0 1 1 1 1 1 1 1 0 1 1 0 1 0 1 1 1 1 1 1 1 0]\n",
      "True: [1 0 1 1 1 1 1 1 0 0 1 0 1 0 1 1 1 1 1 1 0 1 0 1 0 1 1 1]\n",
      "F1 score: 0.7142857142857143\n",
      "Emotionally stable\n",
      "origin pos:16.0 neg:40.0\n",
      "Epoch 1/6\n",
      "7/7 [==============================] - 1s 10ms/step - loss: 0.6994 - tp: 71.0000 - fp: 42.0000 - tn: 71.0000 - fn: 42.0000 - accuracy: 0.6283 - precision: 0.6283 - recall: 0.6283 - auc: 0.7956\n",
      "Epoch 2/6\n",
      "7/7 [==============================] - 0s 10ms/step - loss: 0.6905 - tp: 15.0000 - fp: 41.0000 - tn: 15.0000 - fn: 41.0000 - accuracy: 0.2679 - precision: 0.2679 - recall: 0.2679 - auc: 0.3072\n",
      "Epoch 3/6\n",
      "7/7 [==============================] - 0s 10ms/step - loss: 0.6257 - tp: 35.0000 - fp: 21.0000 - tn: 35.0000 - fn: 21.0000 - accuracy: 0.6250 - precision: 0.6250 - recall: 0.6250 - auc: 0.6268\n",
      "Epoch 4/6\n",
      "7/7 [==============================] - 0s 10ms/step - loss: 0.4545 - tp: 42.0000 - fp: 14.0000 - tn: 42.0000 - fn: 14.0000 - accuracy: 0.7500 - precision: 0.7500 - recall: 0.7500 - auc: 0.7803\n",
      "Epoch 5/6\n",
      "7/7 [==============================] - 0s 9ms/step - loss: 0.2987 - tp: 52.0000 - fp: 4.0000 - tn: 52.0000 - fn: 4.0000 - accuracy: 0.9286 - precision: 0.9286 - recall: 0.9286 - auc: 0.9707 \n",
      "Epoch 6/6\n",
      "7/7 [==============================] - 0s 10ms/step - loss: 0.2701 - tp: 53.0000 - fp: 3.0000 - tn: 53.0000 - fn: 3.0000 - accuracy: 0.9464 - precision: 0.9464 - recall: 0.9464 - auc: 0.9499\n",
      "Predict: [0 0 0 0 1 0 0 1 1 0 0 0 1 0 0 0 0 0 0 0 0 0 0 1 1 0 0 0 0]\n",
      "True: [0 0 1 0 1 1 0 0 1 0 0 1 0 0 0 1 1 0 1 1 0 0 1 0 0 1 1 0 1]\n",
      "F1 score: 0.21052631578947367\n",
      "origin pos:23.0 neg:34.0\n",
      "Epoch 1/6\n",
      "8/8 [==============================] - 1s 8ms/step - loss: 0.6960 - tp: 86.0000 - fp: 27.0000 - tn: 86.0000 - fn: 27.0000 - accuracy: 0.7611 - precision: 0.7611 - recall: 0.7611 - auc: 0.8447\n",
      "Epoch 2/6\n",
      "8/8 [==============================] - 0s 9ms/step - loss: 0.6901 - tp: 34.0000 - fp: 23.0000 - tn: 34.0000 - fn: 23.0000 - accuracy: 0.5965 - precision: 0.5965 - recall: 0.5965 - auc: 0.6704\n",
      "Epoch 3/6\n",
      "8/8 [==============================] - 0s 8ms/step - loss: 0.6473 - tp: 38.0000 - fp: 19.0000 - tn: 38.0000 - fn: 19.0000 - accuracy: 0.6667 - precision: 0.6667 - recall: 0.6667 - auc: 0.7953\n",
      "Epoch 4/6\n",
      "8/8 [==============================] - 0s 8ms/step - loss: 0.5817 - tp: 44.0000 - fp: 13.0000 - tn: 44.0000 - fn: 13.0000 - accuracy: 0.7719 - precision: 0.7719 - recall: 0.7719 - auc: 0.8378\n",
      "Epoch 5/6\n",
      "8/8 [==============================] - 0s 8ms/step - loss: 0.2904 - tp: 51.0000 - fp: 6.0000 - tn: 51.0000 - fn: 6.0000 - accuracy: 0.8947 - precision: 0.8947 - recall: 0.8947 - auc: 0.9483\n",
      "Epoch 6/6\n",
      "8/8 [==============================] - 0s 9ms/step - loss: 0.1004 - tp: 55.0000 - fp: 2.0000 - tn: 55.0000 - fn: 2.0000 - accuracy: 0.9649 - precision: 0.9649 - recall: 0.9649 - auc: 0.9954 \n",
      "Predict: [1 1 1 1 1 1 1 1 0 1 0 1 1 0 1 0 1 1 0 1 0 1 0 1 1 1 1 1]\n",
      "True: [0 0 0 0 0 1 0 0 0 1 1 0 0 1 0 0 0 0 1 0 0 0 0 0 0 0 1 0]\n",
      "F1 score: 0.22222222222222224\n",
      "origin pos:19.0 neg:38.0\n",
      "Epoch 1/6\n",
      "8/8 [==============================] - 1s 12ms/step - loss: 0.6988 - tp: 91.0000 - fp: 23.0000 - tn: 91.0000 - fn: 23.0000 - accuracy: 0.7982 - precision: 0.7982 - recall: 0.7982 - auc: 0.8900\n",
      "Epoch 2/6\n",
      "8/8 [==============================] - 0s 12ms/step - loss: 0.6880 - tp: 36.0000 - fp: 21.0000 - tn: 36.0000 - fn: 21.0000 - accuracy: 0.6316 - precision: 0.6316 - recall: 0.6316 - auc: 0.6416\n",
      "Epoch 3/6\n",
      "8/8 [==============================] - 0s 12ms/step - loss: 0.5967 - tp: 45.0000 - fp: 12.0000 - tn: 45.0000 - fn: 12.0000 - accuracy: 0.7895 - precision: 0.7895 - recall: 0.7895 - auc: 0.8960\n",
      "Epoch 4/6\n",
      "8/8 [==============================] - 0s 12ms/step - loss: 0.4332 - tp: 51.0000 - fp: 6.0000 - tn: 51.0000 - fn: 6.0000 - accuracy: 0.8947 - precision: 0.8947 - recall: 0.8947 - auc: 0.9110\n",
      "Epoch 5/6\n",
      "8/8 [==============================] - 0s 12ms/step - loss: 0.2926 - tp: 53.0000 - fp: 4.0000 - tn: 53.0000 - fn: 4.0000 - accuracy: 0.9298 - precision: 0.9298 - recall: 0.9298 - auc: 0.9714\n",
      "Epoch 6/6\n",
      "8/8 [==============================] - 0s 11ms/step - loss: 0.2096 - tp: 51.0000 - fp: 6.0000 - tn: 51.0000 - fn: 6.0000 - accuracy: 0.8947 - precision: 0.8947 - recall: 0.8947 - auc: 0.9412\n",
      "Predict: [0 1 0 0 0 0 0 0 0 0 0 0 0 0 1 0 0 1 0 0 0 0 0 0 0 0 0 0]\n",
      "True: [0 0 1 0 0 1 0 0 1 0 1 0 0 0 0 1 0 1 0 0 1 0 0 0 1 0 1 1]\n",
      "F1 score: 0.15384615384615383\n",
      "Intelligent\n",
      "origin pos:35.0 neg:21.0\n",
      "Epoch 1/6\n",
      "7/7 [==============================] - 1s 9ms/step - loss: 0.7122 - tp: 83.0000 - fp: 30.0000 - tn: 83.0000 - fn: 30.0000 - accuracy: 0.7345 - precision: 0.7345 - recall: 0.7345 - auc: 0.8235\n",
      "Epoch 2/6\n",
      "7/7 [==============================] - 0s 11ms/step - loss: 0.6965 - tp: 34.0000 - fp: 22.0000 - tn: 34.0000 - fn: 22.0000 - accuracy: 0.6071 - precision: 0.6071 - recall: 0.6071 - auc: 0.5883\n",
      "Epoch 3/6\n",
      "7/7 [==============================] - 0s 10ms/step - loss: 0.6791 - tp: 35.0000 - fp: 21.0000 - tn: 35.0000 - fn: 21.0000 - accuracy: 0.6250 - precision: 0.6250 - recall: 0.6250 - auc: 0.7569\n",
      "Epoch 4/6\n",
      "7/7 [==============================] - 0s 10ms/step - loss: 0.6783 - tp: 37.0000 - fp: 19.0000 - tn: 37.0000 - fn: 19.0000 - accuracy: 0.6607 - precision: 0.6607 - recall: 0.6607 - auc: 0.7401\n",
      "Epoch 5/6\n",
      "7/7 [==============================] - 0s 10ms/step - loss: 0.5318 - tp: 49.0000 - fp: 7.0000 - tn: 49.0000 - fn: 7.0000 - accuracy: 0.8750 - precision: 0.8750 - recall: 0.8750 - auc: 0.9444\n",
      "Epoch 6/6\n",
      "7/7 [==============================] - 0s 7ms/step - loss: 0.2421 - tp: 56.0000 - fp: 0.0000e+00 - tn: 56.0000 - fn: 0.0000e+00 - accuracy: 1.0000 - precision: 1.0000 - recall: 1.0000 - auc: 1.0000\n",
      "Predict: [1 0 1 0 1 1 1 0 1 1 1 1 1 0 1 1 0 0 0 0 0 1 1 0 0 1 1 1 1]\n",
      "True: [0 1 0 0 1 0 1 1 0 0 1 1 0 0 1 0 0 1 1 1 1 1 0 0 1 1 0 0 1]\n",
      "F1 score: 0.4848484848484848\n",
      "origin pos:33.0 neg:24.0\n",
      "Epoch 1/6\n",
      "8/8 [==============================] - 1s 9ms/step - loss: 0.6931 - tp: 83.0000 - fp: 30.0000 - tn: 83.0000 - fn: 30.0000 - accuracy: 0.7345 - precision: 0.7345 - recall: 0.7345 - auc: 0.8781\n",
      "Epoch 2/6\n",
      "8/8 [==============================] - 0s 8ms/step - loss: 0.7022 - tp: 32.0000 - fp: 25.0000 - tn: 32.0000 - fn: 25.0000 - accuracy: 0.5614 - precision: 0.5614 - recall: 0.5614 - auc: 0.5557\n",
      "Epoch 3/6\n",
      "8/8 [==============================] - 0s 9ms/step - loss: 0.6836 - tp: 37.0000 - fp: 20.0000 - tn: 37.0000 - fn: 20.0000 - accuracy: 0.6491 - precision: 0.6491 - recall: 0.6491 - auc: 0.6587\n",
      "Epoch 4/6\n",
      "8/8 [==============================] - 0s 8ms/step - loss: 0.6670 - tp: 36.0000 - fp: 21.0000 - tn: 36.0000 - fn: 21.0000 - accuracy: 0.6316 - precision: 0.6316 - recall: 0.6316 - auc: 0.6842\n",
      "Epoch 5/6\n",
      "8/8 [==============================] - 0s 8ms/step - loss: 0.5575 - tp: 46.0000 - fp: 11.0000 - tn: 46.0000 - fn: 11.0000 - accuracy: 0.8070 - precision: 0.8070 - recall: 0.8070 - auc: 0.8486\n",
      "Epoch 6/6\n",
      "8/8 [==============================] - 0s 10ms/step - loss: 0.3245 - tp: 53.0000 - fp: 4.0000 - tn: 53.0000 - fn: 4.0000 - accuracy: 0.9298 - precision: 0.9298 - recall: 0.9298 - auc: 0.9541\n",
      "Predict: [1 0 1 0 1 0 1 1 0 1 1 1 1 1 1 1 1 0 1 1 0 1 1 1 1 0 0 0]\n",
      "True: [0 0 0 1 0 1 1 1 0 1 1 1 1 1 1 1 1 0 0 1 0 1 0 0 1 1 0 1]\n",
      "F1 score: 0.7222222222222222\n",
      "origin pos:32.0 neg:25.0\n",
      "Epoch 1/6\n",
      "8/8 [==============================] - 1s 14ms/step - loss: 0.6941 - tp: 75.0000 - fp: 39.0000 - tn: 75.0000 - fn: 39.0000 - accuracy: 0.6579 - precision: 0.6579 - recall: 0.6579 - auc: 0.8049\n",
      "Epoch 2/6\n",
      "8/8 [==============================] - 0s 12ms/step - loss: 0.6956 - tp: 31.0000 - fp: 26.0000 - tn: 31.0000 - fn: 26.0000 - accuracy: 0.5439 - precision: 0.5439 - recall: 0.5439 - auc: 0.5714\n",
      "Epoch 3/6\n",
      "8/8 [==============================] - 0s 12ms/step - loss: 0.6955 - tp: 33.0000 - fp: 24.0000 - tn: 33.0000 - fn: 24.0000 - accuracy: 0.5789 - precision: 0.5789 - recall: 0.5789 - auc: 0.5990\n",
      "Epoch 4/6\n"
     ]
    },
    {
     "name": "stdout",
     "output_type": "stream",
     "text": [
      "8/8 [==============================] - 0s 11ms/step - loss: 0.6607 - tp: 30.0000 - fp: 27.0000 - tn: 30.0000 - fn: 27.0000 - accuracy: 0.5263 - precision: 0.5263 - recall: 0.5263 - auc: 0.6368\n",
      "Epoch 5/6\n",
      "8/8 [==============================] - 0s 12ms/step - loss: 0.5591 - tp: 44.0000 - fp: 13.0000 - tn: 44.0000 - fn: 13.0000 - accuracy: 0.7719 - precision: 0.7719 - recall: 0.7719 - auc: 0.8247\n",
      "Epoch 6/6\n",
      "8/8 [==============================] - 0s 12ms/step - loss: 0.3166 - tp: 49.0000 - fp: 8.0000 - tn: 49.0000 - fn: 8.0000 - accuracy: 0.8596 - precision: 0.8596 - recall: 0.8596 - auc: 0.9418\n",
      "Predict: [0 0 1 1 1 1 0 1 1 1 1 1 1 1 0 1 1 1 1 0 0 0 1 1 0 1 1 1]\n",
      "True: [0 1 0 0 1 1 1 1 1 1 0 1 1 1 0 1 0 0 0 1 1 1 1 0 1 0 1 1]\n",
      "F1 score: 0.631578947368421\n",
      "Responsible\n",
      "origin pos:25.0 neg:31.0\n",
      "Epoch 1/6\n",
      "7/7 [==============================] - 1s 10ms/step - loss: 0.6892 - tp: 78.0000 - fp: 35.0000 - tn: 78.0000 - fn: 35.0000 - accuracy: 0.6903 - precision: 0.6903 - recall: 0.6903 - auc: 0.8251\n",
      "Epoch 2/6\n",
      "7/7 [==============================] - 0s 10ms/step - loss: 0.6564 - tp: 40.0000 - fp: 16.0000 - tn: 40.0000 - fn: 16.0000 - accuracy: 0.7143 - precision: 0.7143 - recall: 0.7143 - auc: 0.7282\n",
      "Epoch 3/6\n",
      "7/7 [==============================] - 0s 10ms/step - loss: 0.5368 - tp: 38.0000 - fp: 18.0000 - tn: 38.0000 - fn: 18.0000 - accuracy: 0.6786 - precision: 0.6786 - recall: 0.6786 - auc: 0.7997\n",
      "Epoch 4/6\n",
      "7/7 [==============================] - 0s 9ms/step - loss: 0.3096 - tp: 49.0000 - fp: 7.0000 - tn: 49.0000 - fn: 7.0000 - accuracy: 0.8750 - precision: 0.8750 - recall: 0.8750 - auc: 0.9455\n",
      "Epoch 5/6\n",
      "7/7 [==============================] - 0s 9ms/step - loss: 0.1423 - tp: 53.0000 - fp: 3.0000 - tn: 53.0000 - fn: 3.0000 - accuracy: 0.9464 - precision: 0.9464 - recall: 0.9464 - auc: 0.9871 \n",
      "Epoch 6/6\n",
      "7/7 [==============================] - 0s 7ms/step - loss: 0.1066 - tp: 54.0000 - fp: 2.0000 - tn: 54.0000 - fn: 2.0000 - accuracy: 0.9643 - precision: 0.9643 - recall: 0.9643 - auc: 0.9965  \n",
      "Predict: [0 1 0 1 0 1 0 1 0 0 1 0 1 0 0 0 1 0 1 1 1 0 0 0 0 1 0 1 1]\n",
      "True: [1 1 1 1 0 0 0 0 1 0 1 1 0 0 1 1 0 1 0 0 1 1 0 0 1 1 1 0 1]\n",
      "F1 score: 0.41379310344827586\n",
      "origin pos:28.0 neg:29.0\n",
      "Epoch 1/6\n",
      "8/8 [==============================] - 1s 9ms/step - loss: 0.7019 - tp: 77.0000 - fp: 36.0000 - tn: 77.0000 - fn: 36.0000 - accuracy: 0.6814 - precision: 0.6814 - recall: 0.6814 - auc: 0.8391\n",
      "Epoch 2/6\n",
      "8/8 [==============================] - 0s 8ms/step - loss: 0.6914 - tp: 31.0000 - fp: 26.0000 - tn: 31.0000 - fn: 26.0000 - accuracy: 0.5439 - precision: 0.5439 - recall: 0.5439 - auc: 0.5486\n",
      "Epoch 3/6\n",
      "8/8 [==============================] - 0s 8ms/step - loss: 0.6852 - tp: 36.0000 - fp: 21.0000 - tn: 36.0000 - fn: 21.0000 - accuracy: 0.6316 - precision: 0.6316 - recall: 0.6316 - auc: 0.6981\n",
      "Epoch 4/6\n",
      "8/8 [==============================] - 0s 9ms/step - loss: 0.6476 - tp: 30.0000 - fp: 27.0000 - tn: 30.0000 - fn: 27.0000 - accuracy: 0.5263 - precision: 0.5263 - recall: 0.5263 - auc: 0.6768\n",
      "Epoch 5/6\n",
      "8/8 [==============================] - 0s 8ms/step - loss: 0.5420 - tp: 46.0000 - fp: 11.0000 - tn: 46.0000 - fn: 11.0000 - accuracy: 0.8070 - precision: 0.8070 - recall: 0.8070 - auc: 0.8263\n",
      "Epoch 6/6\n",
      "8/8 [==============================] - 0s 8ms/step - loss: 0.3509 - tp: 50.0000 - fp: 7.0000 - tn: 50.0000 - fn: 7.0000 - accuracy: 0.8772 - precision: 0.8772 - recall: 0.8772 - auc: 0.9151\n",
      "Predict: [0 0 0 0 0 1 0 0 0 1 0 0 0 0 0 0 0 0 0 0 0 0 0 0 0 1 1 0]\n",
      "True: [1 0 1 0 1 1 0 0 1 0 1 0 0 1 0 0 1 1 0 0 1 0 1 0 0 1 0 1]\n",
      "F1 score: 0.23529411764705882\n",
      "origin pos:29.0 neg:28.0\n",
      "Epoch 1/6\n",
      "8/8 [==============================] - 1s 11ms/step - loss: 0.6924 - tp: 77.0000 - fp: 37.0000 - tn: 77.0000 - fn: 37.0000 - accuracy: 0.6754 - precision: 0.6754 - recall: 0.6754 - auc: 0.7987\n",
      "Epoch 2/6\n",
      "8/8 [==============================] - 0s 13ms/step - loss: 0.6674 - tp: 32.0000 - fp: 25.0000 - tn: 32.0000 - fn: 25.0000 - accuracy: 0.5614 - precision: 0.5614 - recall: 0.5614 - auc: 0.7071\n",
      "Epoch 3/6\n",
      "8/8 [==============================] - 0s 13ms/step - loss: 0.5788 - tp: 38.0000 - fp: 19.0000 - tn: 38.0000 - fn: 19.0000 - accuracy: 0.6667 - precision: 0.6667 - recall: 0.6667 - auc: 0.7599\n",
      "Epoch 4/6\n",
      "8/8 [==============================] - 0s 12ms/step - loss: 0.4195 - tp: 49.0000 - fp: 8.0000 - tn: 49.0000 - fn: 8.0000 - accuracy: 0.8596 - precision: 0.8596 - recall: 0.8596 - auc: 0.9000\n",
      "Epoch 5/6\n",
      "8/8 [==============================] - 0s 11ms/step - loss: 0.2374 - tp: 52.0000 - fp: 5.0000 - tn: 52.0000 - fn: 5.0000 - accuracy: 0.9123 - precision: 0.9123 - recall: 0.9123 - auc: 0.9538\n",
      "Epoch 6/6\n",
      "8/8 [==============================] - 0s 11ms/step - loss: 0.1591 - tp: 55.0000 - fp: 2.0000 - tn: 55.0000 - fn: 2.0000 - accuracy: 0.9649 - precision: 0.9649 - recall: 0.9649 - auc: 0.9825\n",
      "Predict: [1 0 0 0 1 0 1 0 0 0 1 0 0 1 1 0 0 0 1 1 1 0 0 1 0 0 0 0]\n",
      "True: [0 1 1 0 0 0 1 1 1 0 0 1 1 0 1 0 1 1 0 0 1 0 0 0 1 0 0 0]\n",
      "F1 score: 0.2727272727272727\n",
      "Sociable\n",
      "origin pos:16.0 neg:40.0\n",
      "Epoch 1/6\n",
      "7/7 [==============================] - 1s 10ms/step - loss: 0.7040 - tp: 94.0000 - fp: 19.0000 - tn: 94.0000 - fn: 19.0000 - accuracy: 0.8319 - precision: 0.8319 - recall: 0.8319 - auc: 0.8973\n",
      "Epoch 2/6\n",
      "7/7 [==============================] - 0s 9ms/step - loss: 0.6828 - tp: 40.0000 - fp: 16.0000 - tn: 40.0000 - fn: 16.0000 - accuracy: 0.7143 - precision: 0.7143 - recall: 0.7143 - auc: 0.8160\n",
      "Epoch 3/6\n",
      "7/7 [==============================] - 0s 9ms/step - loss: 0.6400 - tp: 40.0000 - fp: 16.0000 - tn: 40.0000 - fn: 16.0000 - accuracy: 0.7143 - precision: 0.7143 - recall: 0.7143 - auc: 0.8498\n",
      "Epoch 4/6\n",
      "7/7 [==============================] - 0s 6ms/step - loss: 0.5370 - tp: 46.0000 - fp: 10.0000 - tn: 46.0000 - fn: 10.0000 - accuracy: 0.8214 - precision: 0.8214 - recall: 0.8214 - auc: 0.9118\n",
      "Epoch 5/6\n",
      "7/7 [==============================] - 0s 6ms/step - loss: 0.2699 - tp: 54.0000 - fp: 2.0000 - tn: 54.0000 - fn: 2.0000 - accuracy: 0.9643 - precision: 0.9643 - recall: 0.9643 - auc: 0.9904  \n",
      "Epoch 6/6\n",
      "7/7 [==============================] - 0s 8ms/step - loss: 0.2161 - tp: 52.0000 - fp: 4.0000 - tn: 52.0000 - fn: 4.0000 - accuracy: 0.9286 - precision: 0.9286 - recall: 0.9286 - auc: 0.9359  \n",
      "Predict: [1 0 0 0 0 0 0 1 0 0 0 0 0 0 0 0 0 0 0 1 0 0 0 0 0 1 0 0 0]\n",
      "True: [1 1 0 1 1 0 0 0 0 1 1 1 1 0 0 1 0 0 0 0 0 1 0 1 1 0 1 1 0]\n",
      "F1 score: 0.11111111111111112\n",
      "origin pos:24.0 neg:33.0\n",
      "Epoch 1/6\n",
      "8/8 [==============================] - 1s 8ms/step - loss: 0.6987 - tp: 84.0000 - fp: 29.0000 - tn: 84.0000 - fn: 29.0000 - accuracy: 0.7434 - precision: 0.7434 - recall: 0.7434 - auc: 0.8238\n",
      "Epoch 2/6\n",
      "8/8 [==============================] - 0s 8ms/step - loss: 0.6937 - tp: 28.0000 - fp: 29.0000 - tn: 28.0000 - fn: 29.0000 - accuracy: 0.4912 - precision: 0.4912 - recall: 0.4912 - auc: 0.4701\n",
      "Epoch 3/6\n",
      "8/8 [==============================] - 0s 9ms/step - loss: 0.6905 - tp: 28.0000 - fp: 29.0000 - tn: 28.0000 - fn: 29.0000 - accuracy: 0.4912 - precision: 0.4912 - recall: 0.4912 - auc: 0.5194\n",
      "Epoch 4/6\n",
      "8/8 [==============================] - 0s 8ms/step - loss: 0.6869 - tp: 36.0000 - fp: 21.0000 - tn: 36.0000 - fn: 21.0000 - accuracy: 0.6316 - precision: 0.6316 - recall: 0.6316 - auc: 0.6477\n",
      "Epoch 5/6\n",
      "8/8 [==============================] - 0s 8ms/step - loss: 0.5925 - tp: 50.0000 - fp: 7.0000 - tn: 50.0000 - fn: 7.0000 - accuracy: 0.8772 - precision: 0.8772 - recall: 0.8772 - auc: 0.8749 \n",
      "Epoch 6/6\n",
      "8/8 [==============================] - 0s 11ms/step - loss: 0.3415 - tp: 53.0000 - fp: 4.0000 - tn: 53.0000 - fn: 4.0000 - accuracy: 0.9298 - precision: 0.9298 - recall: 0.9298 - auc: 0.9723\n",
      "Predict: [0 0 0 0 0 1 0 0 0 0 0 0 1 0 0 0 0 1 0 0 0 0 0 0 1 0 0 0]\n",
      "True: [0 0 0 0 1 0 0 0 0 0 1 1 0 0 0 0 0 0 0 1 1 0 0 1 0 0 0 0]\n",
      "F1 score: 0.0\n",
      "origin pos:20.0 neg:37.0\n",
      "Epoch 1/6\n",
      "8/8 [==============================] - 1s 13ms/step - loss: 0.7008 - tp: 85.0000 - fp: 29.0000 - tn: 85.0000 - fn: 29.0000 - accuracy: 0.7456 - precision: 0.7456 - recall: 0.7456 - auc: 0.8422\n",
      "Epoch 2/6\n",
      "8/8 [==============================] - 0s 12ms/step - loss: 0.6911 - tp: 37.0000 - fp: 20.0000 - tn: 37.0000 - fn: 20.0000 - accuracy: 0.6491 - precision: 0.6491 - recall: 0.6491 - auc: 0.7008\n",
      "Epoch 3/6\n"
     ]
    },
    {
     "name": "stdout",
     "output_type": "stream",
     "text": [
      "8/8 [==============================] - 0s 11ms/step - loss: 0.6752 - tp: 37.0000 - fp: 20.0000 - tn: 37.0000 - fn: 20.0000 - accuracy: 0.6491 - precision: 0.6491 - recall: 0.6491 - auc: 0.7553\n",
      "Epoch 4/6\n",
      "8/8 [==============================] - 0s 12ms/step - loss: 0.5726 - tp: 50.0000 - fp: 7.0000 - tn: 50.0000 - fn: 7.0000 - accuracy: 0.8772 - precision: 0.8772 - recall: 0.8772 - auc: 0.9394\n",
      "Epoch 5/6\n",
      "8/8 [==============================] - 0s 12ms/step - loss: 0.3624 - tp: 49.0000 - fp: 8.0000 - tn: 49.0000 - fn: 8.0000 - accuracy: 0.8596 - precision: 0.8596 - recall: 0.8596 - auc: 0.9372\n",
      "Epoch 6/6\n",
      "8/8 [==============================] - 0s 11ms/step - loss: 0.0929 - tp: 56.0000 - fp: 1.0000 - tn: 56.0000 - fn: 1.0000 - accuracy: 0.9825 - precision: 0.9825 - recall: 0.9825 - auc: 0.9791\n",
      "Predict: [0 0 0 0 0 0 0 0 0 0 0 0 0 0 1 0 0 0 0 1 0 0 0 1 0 0 0 0]\n",
      "True: [0 0 1 1 1 1 0 0 0 0 1 0 1 0 0 0 0 1 0 1 0 0 1 1 0 0 0 0]\n",
      "F1 score: 0.30769230769230765\n",
      "Trustworthy\n",
      "origin pos:10.0 neg:46.0\n",
      "Epoch 1/6\n",
      "7/7 [==============================] - 1s 10ms/step - loss: 0.7002 - tp: 97.0000 - fp: 16.0000 - tn: 97.0000 - fn: 16.0000 - accuracy: 0.8584 - precision: 0.8584 - recall: 0.8584 - auc: 0.9357\n",
      "Epoch 2/6\n",
      "7/7 [==============================] - 0s 10ms/step - loss: 0.6921 - tp: 46.0000 - fp: 10.0000 - tn: 46.0000 - fn: 10.0000 - accuracy: 0.8214 - precision: 0.8214 - recall: 0.8214 - auc: 0.8476\n",
      "Epoch 3/6\n",
      "7/7 [==============================] - 0s 9ms/step - loss: 0.6513 - tp: 46.0000 - fp: 10.0000 - tn: 46.0000 - fn: 10.0000 - accuracy: 0.8214 - precision: 0.8214 - recall: 0.8214 - auc: 0.9066\n",
      "Epoch 4/6\n",
      "7/7 [==============================] - 0s 11ms/step - loss: 0.4891 - tp: 48.0000 - fp: 8.0000 - tn: 48.0000 - fn: 8.0000 - accuracy: 0.8571 - precision: 0.8571 - recall: 0.8571 - auc: 0.9684\n",
      "Epoch 5/6\n",
      "7/7 [==============================] - 0s 10ms/step - loss: 0.3007 - tp: 56.0000 - fp: 0.0000e+00 - tn: 56.0000 - fn: 0.0000e+00 - accuracy: 1.0000 - precision: 1.0000 - recall: 1.0000 - auc: 1.0000\n",
      "Epoch 6/6\n",
      "7/7 [==============================] - 0s 7ms/step - loss: 0.0655 - tp: 56.0000 - fp: 0.0000e+00 - tn: 56.0000 - fn: 0.0000e+00 - accuracy: 1.0000 - precision: 1.0000 - recall: 1.0000 - auc: 1.0000\n",
      "Predict: [0 0 0 0 0 0 0 0 0 0 0 0 0 0 0 0 1 1 0 0 0 0 0 0 0 0 0 1 0]\n",
      "True: [1 0 0 1 1 1 1 0 0 0 0 0 0 0 0 0 0 0 0 1 0 0 0 0 1 1 0 1 0]\n",
      "F1 score: 0.16666666666666666\n",
      "origin pos:18.0 neg:39.0\n",
      "Epoch 1/6\n",
      "8/8 [==============================] - 1s 8ms/step - loss: 0.7036 - tp: 85.0000 - fp: 28.0000 - tn: 85.0000 - fn: 28.0000 - accuracy: 0.7522 - precision: 0.7522 - recall: 0.7522 - auc: 0.8743\n",
      "Epoch 2/6\n",
      "8/8 [==============================] - 0s 8ms/step - loss: 0.6939 - tp: 39.0000 - fp: 18.0000 - tn: 39.0000 - fn: 18.0000 - accuracy: 0.6842 - precision: 0.6842 - recall: 0.6842 - auc: 0.7191\n",
      "Epoch 3/6\n",
      "8/8 [==============================] - 0s 8ms/step - loss: 0.6744 - tp: 39.0000 - fp: 18.0000 - tn: 39.0000 - fn: 18.0000 - accuracy: 0.6842 - precision: 0.6842 - recall: 0.6842 - auc: 0.7941\n",
      "Epoch 4/6\n",
      "8/8 [==============================] - 0s 9ms/step - loss: 0.5763 - tp: 41.0000 - fp: 16.0000 - tn: 41.0000 - fn: 16.0000 - accuracy: 0.7193 - precision: 0.7193 - recall: 0.7193 - auc: 0.8861\n",
      "Epoch 5/6\n",
      "8/8 [==============================] - 0s 8ms/step - loss: 0.3793 - tp: 54.0000 - fp: 3.0000 - tn: 54.0000 - fn: 3.0000 - accuracy: 0.9474 - precision: 0.9474 - recall: 0.9474 - auc: 0.9781\n",
      "Epoch 6/6\n",
      "8/8 [==============================] - 0s 9ms/step - loss: 0.1480 - tp: 55.0000 - fp: 2.0000 - tn: 55.0000 - fn: 2.0000 - accuracy: 0.9649 - precision: 0.9649 - recall: 0.9649 - auc: 0.9926 \n",
      "Predict: [0 0 0 0 1 0 0 0 0 0 0 1 0 0 0 0 0 0 0 0 0 0 0 0 1 0 0 1]\n",
      "True: [0 0 0 0 0 0 0 0 0 0 0 0 0 0 0 0 0 0 0 0 0 0 0 0 0 1 0 0]\n",
      "F1 score: 0.0\n",
      "origin pos:10.0 neg:47.0\n",
      "Epoch 1/6\n",
      "8/8 [==============================] - 1s 12ms/step - loss: 0.7065 - tp: 99.0000 - fp: 15.0000 - tn: 99.0000 - fn: 15.0000 - accuracy: 0.8684 - precision: 0.8684 - recall: 0.8684 - auc: 0.9264\n",
      "Epoch 2/6\n",
      "8/8 [==============================] - 0s 11ms/step - loss: 0.6787 - tp: 47.0000 - fp: 10.0000 - tn: 47.0000 - fn: 10.0000 - accuracy: 0.8246 - precision: 0.8246 - recall: 0.8246 - auc: 0.9218\n",
      "Epoch 3/6\n",
      "8/8 [==============================] - 0s 11ms/step - loss: 0.7051 - tp: 47.0000 - fp: 10.0000 - tn: 47.0000 - fn: 10.0000 - accuracy: 0.8246 - precision: 0.8246 - recall: 0.8246 - auc: 0.8677\n",
      "Epoch 4/6\n",
      "8/8 [==============================] - 0s 11ms/step - loss: 0.5294 - tp: 50.0000 - fp: 7.0000 - tn: 50.0000 - fn: 7.0000 - accuracy: 0.8772 - precision: 0.8772 - recall: 0.8772 - auc: 0.9740\n",
      "Epoch 5/6\n",
      "8/8 [==============================] - 0s 11ms/step - loss: 0.3514 - tp: 54.0000 - fp: 3.0000 - tn: 54.0000 - fn: 3.0000 - accuracy: 0.9474 - precision: 0.9474 - recall: 0.9474 - auc: 0.9902\n",
      "Epoch 6/6\n",
      "8/8 [==============================] - 0s 11ms/step - loss: 0.2273 - tp: 57.0000 - fp: 0.0000e+00 - tn: 57.0000 - fn: 0.0000e+00 - accuracy: 1.0000 - precision: 1.0000 - recall: 1.0000 - auc: 1.0000\n",
      "Predict: [0 0 1 0 0 0 0 0 0 0 0 0 0 0 0 0 0 0 0 0 0 0 0 0 0 0 0 0]\n",
      "True: [0 0 1 1 1 0 0 0 1 0 0 0 0 1 0 0 0 0 0 0 0 0 1 0 0 1 1 1]\n",
      "F1 score: 0.19999999999999998\n"
     ]
    }
   ],
   "source": [
    "f1_dict = dict()\n",
    "y_true_preds = dict()\n",
    "\n",
    "for label in labels:\n",
    "    y_raw = df[label]\n",
    "    y = tf.keras.utils.to_categorical(y_raw)\n",
    "    \n",
    "    f1_dict[label] = []\n",
    "    y_true_preds[label] = []\n",
    "    print(label)\n",
    "    \n",
    "    for train_index, test_index in kf.split(X):     \n",
    "        X_train, X_test = X[train_index], X[test_index]\n",
    "        y_train, y_test = y[train_index], y[test_index]\n",
    "        \n",
    "        neg = y_train.sum(axis=0)[0]\n",
    "        pos = y_train.sum(axis=0)[1]\n",
    "        total = pos + neg\n",
    "        print(f\"origin pos:{pos} neg:{neg}\")\n",
    "\n",
    "        # クラスの重み\n",
    "        weight_for_0 = (1 / neg) * (total / 2.0)\n",
    "        weight_for_1 = (1 / pos) * (total / 2.0)\n",
    "        class_weight = {0: weight_for_0, 1: weight_for_1}\n",
    "        \n",
    "        model = get_binary_model()\n",
    "        \n",
    "        # 初期重みの最適化\n",
    "        initial_bias = np.log([neg/pos])\n",
    "        model.layers[-1].bias_initializer=initial_bias\n",
    "        \n",
    "        model.compile(loss=\"binary_crossentropy\", optimizer=\"adam\", metrics=METRICS)\n",
    "        model.fit(X_train, y_train, batch_size=8, epochs=6, class_weight=class_weight)\n",
    "        y_pred_tf = model.predict(X_test, batch_size=1)\n",
    "        y_pred = np.argmax(y_pred_tf, axis=1)\n",
    "        y_test_sk = np.argmax(y_test, axis=1)\n",
    "        print(\"Predict:\", y_pred)\n",
    "        print(\"True:\", y_test_sk)\n",
    "        f1 = f1_score(y_test_sk, y_pred, average=\"binary\")\n",
    "        print(\"F1 score:\", f1)\n",
    "        f1_dict[label].append(f1)\n",
    "        y_true_preds[label].append((y_test_sk, y_pred))\n",
    "        del model\n",
    "        gc.collect()\n",
    "    "
   ]
  },
  {
   "cell_type": "code",
   "execution_count": 36,
   "id": "51125f0f",
   "metadata": {},
   "outputs": [
    {
     "data": {
      "text/plain": [
       "0.269704433497537"
      ]
     },
     "execution_count": 36,
     "metadata": {},
     "output_type": "execute_result"
    }
   ],
   "source": [
    "HL = 0\n",
    "cnt = 0\n",
    "for l in labels:\n",
    "    for k in range(3):\n",
    "        y_true, y_pred = y_true_preds[label][k]\n",
    "        HL += hamming_loss(y_true, y_pred)\n",
    "        cnt += 1\n",
    "HL /= cnt\n",
    "HL"
   ]
  },
  {
   "cell_type": "code",
   "execution_count": 37,
   "id": "f44638be",
   "metadata": {},
   "outputs": [],
   "source": [
    "f1_list = []\n",
    "for label in labels:\n",
    "    f1_list.append(np.mean(f1_dict[label]))\n",
    "macro_f1_val = np.mean(f1_list) "
   ]
  },
  {
   "cell_type": "code",
   "execution_count": 40,
   "id": "7699672a",
   "metadata": {},
   "outputs": [
    {
     "data": {
      "image/png": "[encoded data removed]",
      "text/plain": [
       "<Figure size 720x288 with 1 Axes>"
      ]
     },
     "metadata": {
      "needs_background": "light"
     },
     "output_type": "display_data"
    }
   ],
   "source": [
    "plt.figure(figsize=(10,4))\n",
    "plt.bar(f1_dict.keys(), f1_list)\n",
    "plt.title(f\"F1 score per label  (macro-f1: {macro_f1_val:.3f}, , Hamming Loss: {HL:.3f}, k=3)\")\n",
    "plt.show() ;"
   ]
  },
  {
   "cell_type": "markdown",
   "id": "e45111c2",
   "metadata": {},
   "source": [
    "### いろいろやってみてわかること\n",
    " - Predictを見るとわかるが，まったく学習できていない\n",
    " - 役に立たない　やはりデータが少なすぎるか\n",
    " - f1をlossに用いるほうが全然良い\n",
    " - macro-f1はf1の平均"
   ]
  },
  {
   "cell_type": "markdown",
   "id": "c95bf039",
   "metadata": {},
   "source": [
    "# マルチラベル問題"
   ]
  },
  {
   "cell_type": "code",
   "execution_count": 41,
   "id": "97351565",
   "metadata": {},
   "outputs": [],
   "source": [
    "def get_multi_model():\n",
    "    input_ts = Input(shape=(512,))\n",
    "    dense1 = Dense(512, activation=\"relu\")(input_ts)\n",
    "    dense2 = Dense(1024, activation=\"relu\")(dense1)\n",
    "    drop1 = Dropout(0.4, seed=SEED)(dense2)\n",
    "    dense3 = Dense(1024, activation=\"relu\")(drop1)\n",
    "    drop2 = Dropout(0.4, seed=SEED)(dense3)\n",
    "    dense4 = Dense(512, activation=\"relu\")(drop2)\n",
    "    dense5 = Dense(256, activation=\"relu\")(dense4)\n",
    "    dense6 = Dense(128, activation=\"relu\")(dense5)\n",
    "    drop3 = Dropout(0.2, seed=SEED)(dense6)\n",
    "    final = Dense(len(labels), activation=\"sigmoid\")(drop3)\n",
    "    \n",
    "    model = Model(\n",
    "        inputs=[input_ts],\n",
    "        outputs=[final]\n",
    "    )\n",
    "    return model"
   ]
  },
  {
   "cell_type": "code",
   "execution_count": 42,
   "id": "e44ab02d",
   "metadata": {},
   "outputs": [],
   "source": [
    "model = get_multi_model()"
   ]
  },
  {
   "cell_type": "code",
   "execution_count": 43,
   "id": "f915e7dc",
   "metadata": {},
   "outputs": [
    {
     "name": "stdout",
     "output_type": "stream",
     "text": [
      "Model: \"model_22\"\n",
      "_________________________________________________________________\n",
      " Layer (type)                Output Shape              Param #   \n",
      "=================================================================\n",
      " input_23 (InputLayer)       [(None, 512)]             0         \n",
      "                                                                 \n",
      " dense_154 (Dense)           (None, 512)               262656    \n",
      "                                                                 \n",
      " dense_155 (Dense)           (None, 1024)              525312    \n",
      "                                                                 \n",
      " dropout_66 (Dropout)        (None, 1024)              0         \n",
      "                                                                 \n",
      " dense_156 (Dense)           (None, 1024)              1049600   \n",
      "                                                                 \n",
      " dropout_67 (Dropout)        (None, 1024)              0         \n",
      "                                                                 \n",
      " dense_157 (Dense)           (None, 512)               524800    \n",
      "                                                                 \n",
      " dense_158 (Dense)           (None, 256)               131328    \n",
      "                                                                 \n",
      " dense_159 (Dense)           (None, 128)               32896     \n",
      "                                                                 \n",
      " dropout_68 (Dropout)        (None, 128)               0         \n",
      "                                                                 \n",
      " dense_160 (Dense)           (None, 7)                 903       \n",
      "                                                                 \n",
      "=================================================================\n",
      "Total params: 2,527,495\n",
      "Trainable params: 2,527,495\n",
      "Non-trainable params: 0\n",
      "_________________________________________________________________\n"
     ]
    }
   ],
   "source": [
    "model.summary()"
   ]
  },
  {
   "cell_type": "code",
   "execution_count": 44,
   "id": "38a8ea24",
   "metadata": {},
   "outputs": [
    {
     "data": {
      "text/plain": [
       "65.0"
      ]
     },
     "execution_count": 44,
     "metadata": {},
     "output_type": "execute_result"
    }
   ],
   "source": [
    "df[\"Confident\"].sum()"
   ]
  },
  {
   "cell_type": "code",
   "execution_count": 45,
   "id": "9fb5ce9e",
   "metadata": {},
   "outputs": [],
   "source": [
    "y = np.array(df.T[1:].T)"
   ]
  },
  {
   "cell_type": "code",
   "execution_count": 46,
   "id": "d1ddc464",
   "metadata": {},
   "outputs": [
    {
     "data": {
      "text/plain": [
       "array([[1., 0., 0., 0., 1., 0., 0.],\n",
       "       [1., 1., 0., 0., 0., 0., 0.],\n",
       "       [1., 1., 0., 0., 1., 1., 1.],\n",
       "       [0., 1., 0., 0., 0., 0., 0.],\n",
       "       [0., 0., 0., 1., 1., 0., 0.],\n",
       "       [0., 1., 0., 0., 1., 0., 0.],\n",
       "       [1., 1., 0., 1., 0., 0., 0.],\n",
       "       [0., 1., 0., 0., 1., 1., 0.],\n",
       "       [0., 1., 0., 1., 1., 1., 0.],\n",
       "       [1., 1., 1., 0., 1., 1., 1.]])"
      ]
     },
     "execution_count": 46,
     "metadata": {},
     "output_type": "execute_result"
    }
   ],
   "source": [
    "y[:10]"
   ]
  },
  {
   "cell_type": "code",
   "execution_count": 47,
   "id": "e9131ec8",
   "metadata": {},
   "outputs": [
    {
     "data": {
      "text/plain": [
       "array([26., 65., 29., 50., 41., 30., 19.])"
      ]
     },
     "execution_count": 47,
     "metadata": {},
     "output_type": "execute_result"
    }
   ],
   "source": [
    "y.sum(axis=0) # 各ラベルの数"
   ]
  },
  {
   "cell_type": "code",
   "execution_count": 48,
   "id": "87fcabdc",
   "metadata": {},
   "outputs": [
    {
     "data": {
      "text/plain": [
       "85"
      ]
     },
     "execution_count": 48,
     "metadata": {},
     "output_type": "execute_result"
    }
   ],
   "source": [
    "len(X)"
   ]
  },
  {
   "cell_type": "code",
   "execution_count": 49,
   "id": "e1fc6acb",
   "metadata": {},
   "outputs": [],
   "source": [
    "rate = y.sum(axis=0) / len(X) "
   ]
  },
  {
   "cell_type": "code",
   "execution_count": 50,
   "id": "05146db8",
   "metadata": {},
   "outputs": [
    {
     "data": {
      "text/plain": [
       "array([0.30588235, 0.76470588, 0.34117647, 0.58823529, 0.48235294,\n",
       "       0.35294118, 0.22352941])"
      ]
     },
     "execution_count": 50,
     "metadata": {},
     "output_type": "execute_result"
    }
   ],
   "source": [
    "rate"
   ]
  },
  {
   "cell_type": "code",
   "execution_count": 51,
   "id": "4c7dec6f",
   "metadata": {},
   "outputs": [
    {
     "name": "stdout",
     "output_type": "stream",
     "text": [
      "Epoch 1/10\n",
      "7/7 [==============================] - 0s 17ms/step - loss: 0.6732 - acc: 0.3750\n",
      "Epoch 2/10\n",
      "7/7 [==============================] - 0s 13ms/step - loss: 0.6413 - acc: 0.4821\n",
      "Epoch 3/10\n",
      "7/7 [==============================] - 0s 3ms/step - loss: 0.6085 - acc: 0.4821\n",
      "Epoch 4/10\n",
      "7/7 [==============================] - 0s 4ms/step - loss: 0.5695 - acc: 0.5000\n",
      "Epoch 5/10\n",
      "7/7 [==============================] - 0s 3ms/step - loss: 0.5707 - acc: 0.5000\n",
      "Epoch 6/10\n",
      "7/7 [==============================] - 0s 3ms/step - loss: 0.5486 - acc: 0.5179\n",
      "Epoch 7/10\n",
      "7/7 [==============================] - 0s 3ms/step - loss: 0.5330 - acc: 0.5000\n",
      "Epoch 8/10\n",
      "7/7 [==============================] - 0s 4ms/step - loss: 0.4917 - acc: 0.4643\n",
      "Epoch 9/10\n",
      "7/7 [==============================] - 0s 3ms/step - loss: 0.4646 - acc: 0.4821\n",
      "Epoch 10/10\n",
      "7/7 [==============================] - 0s 3ms/step - loss: 0.4332 - acc: 0.4107\n",
      "1/1 [==============================] - 0s 108ms/step - loss: 0.7773 - acc: 0.4828\n",
      "Epoch 1/10\n",
      "8/8 [==============================] - 0s 4ms/step - loss: 0.6833 - acc: 0.3333\n",
      "Epoch 2/10\n",
      "8/8 [==============================] - 0s 4ms/step - loss: 0.6592 - acc: 0.5088\n",
      "Epoch 3/10\n",
      "8/8 [==============================] - 0s 4ms/step - loss: 0.6286 - acc: 0.5263\n",
      "Epoch 4/10\n",
      "8/8 [==============================] - 0s 4ms/step - loss: 0.6317 - acc: 0.5263\n",
      "Epoch 5/10\n",
      "8/8 [==============================] - 0s 4ms/step - loss: 0.6198 - acc: 0.5263\n",
      "Epoch 6/10\n",
      "8/8 [==============================] - 0s 5ms/step - loss: 0.5951 - acc: 0.5263\n",
      "Epoch 7/10\n",
      "8/8 [==============================] - 0s 4ms/step - loss: 0.5748 - acc: 0.5263\n",
      "Epoch 8/10\n",
      "8/8 [==============================] - 0s 4ms/step - loss: 0.5692 - acc: 0.5263\n",
      "Epoch 9/10\n",
      "8/8 [==============================] - 0s 4ms/step - loss: 0.5443 - acc: 0.5263\n",
      "Epoch 10/10\n",
      "8/8 [==============================] - 0s 4ms/step - loss: 0.4930 - acc: 0.4737\n",
      "1/1 [==============================] - 0s 87ms/step - loss: 0.6272 - acc: 0.6071\n",
      "Epoch 1/10\n",
      "8/8 [==============================] - 0s 4ms/step - loss: 0.6748 - acc: 0.3684\n",
      "Epoch 2/10\n",
      "8/8 [==============================] - 0s 4ms/step - loss: 0.5956 - acc: 0.6316\n",
      "Epoch 3/10\n",
      "8/8 [==============================] - 0s 4ms/step - loss: 0.5917 - acc: 0.6140\n",
      "Epoch 4/10\n",
      "8/8 [==============================] - 0s 4ms/step - loss: 0.5490 - acc: 0.6316\n",
      "Epoch 5/10\n",
      "8/8 [==============================] - 0s 4ms/step - loss: 0.5214 - acc: 0.6140\n",
      "Epoch 6/10\n",
      "8/8 [==============================] - 0s 4ms/step - loss: 0.5044 - acc: 0.6316\n",
      "Epoch 7/10\n",
      "8/8 [==============================] - 0s 4ms/step - loss: 0.4963 - acc: 0.6140\n",
      "Epoch 8/10\n",
      "8/8 [==============================] - 0s 4ms/step - loss: 0.4717 - acc: 0.6316\n",
      "Epoch 9/10\n",
      "8/8 [==============================] - 0s 4ms/step - loss: 0.4593 - acc: 0.5965\n",
      "Epoch 10/10\n",
      "8/8 [==============================] - 0s 4ms/step - loss: 0.4361 - acc: 0.6140\n",
      "1/1 [==============================] - 0s 89ms/step - loss: 1.0840 - acc: 0.3929\n"
     ]
    }
   ],
   "source": [
    "y_preds = []\n",
    "for train_index, test_index in kf.split(X):     \n",
    "    X_train, X_test = X[train_index], X[test_index]\n",
    "    y_train, y_test = y[train_index], y[test_index]\n",
    "\n",
    "    model = get_multi_model()\n",
    "\n",
    "    model.compile(loss=\"binary_crossentropy\", optimizer=\"adam\", metrics=[\"acc\"])\n",
    "    model.fit(X_train, y_train, batch_size=8, epochs=10)\n",
    "    model.evaluate(X_test,y_test)\n",
    "    y_pred = model.predict(X_test, batch_size=1)\n",
    "    y_preds.append(y_pred)\n",
    "    del model\n",
    "    gc.collect()"
   ]
  },
  {
   "cell_type": "code",
   "execution_count": 52,
   "id": "e62ac759",
   "metadata": {},
   "outputs": [
    {
     "data": {
      "text/plain": [
       "[array([[0.3480044 , 0.96158415, 0.13790752, 0.82578725, 0.12868656,\n",
       "         0.10724779, 0.05311371],\n",
       "        [0.26353317, 0.8845837 , 0.24696907, 0.35228607, 0.7501337 ,\n",
       "         0.27973256, 0.06813965],\n",
       "        [0.43888357, 0.9287361 , 0.19063966, 0.8350435 , 0.11116539,\n",
       "         0.14523025, 0.09537812],\n",
       "        [0.3788582 , 0.6094732 , 0.41492474, 0.5163023 , 0.6441501 ,\n",
       "         0.40490672, 0.29636797],\n",
       "        [0.19188379, 0.6125812 , 0.21754777, 0.89803356, 0.5330028 ,\n",
       "         0.14631735, 0.1408485 ],\n",
       "        [0.29091945, 0.930504  , 0.15770687, 0.7670047 , 0.30581674,\n",
       "         0.14160877, 0.06492046],\n",
       "        [0.5590902 , 0.9684388 , 0.2034316 , 0.73024976, 0.0469426 ,\n",
       "         0.16657452, 0.07682388],\n",
       "        [0.3600059 , 0.5642307 , 0.42813316, 0.5240273 , 0.6689957 ,\n",
       "         0.40250945, 0.31430492],\n",
       "        [0.40854394, 0.48860016, 0.45666742, 0.58691907, 0.5781081 ,\n",
       "         0.43073335, 0.40348426],\n",
       "        [0.42971185, 0.9427252 , 0.17765503, 0.8340942 , 0.09983784,\n",
       "         0.13423349, 0.0817836 ],\n",
       "        [0.4100278 , 0.7539563 , 0.36148039, 0.4878204 , 0.5594214 ,\n",
       "         0.37573263, 0.21180719],\n",
       "        [0.5855525 , 0.9759646 , 0.26653937, 0.41881943, 0.09946838,\n",
       "         0.25897846, 0.07554457],\n",
       "        [0.18329401, 0.5140258 , 0.300629  , 0.7815048 , 0.74020106,\n",
       "         0.2333551 , 0.18595243],\n",
       "        [0.5392692 , 0.8350058 , 0.3843045 , 0.4947936 , 0.2719956 ,\n",
       "         0.37664405, 0.23610216],\n",
       "        [0.43199825, 0.5093578 , 0.46755144, 0.55192286, 0.57238066,\n",
       "         0.44956753, 0.40494618],\n",
       "        [0.5372899 , 0.8740148 , 0.31440926, 0.65895385, 0.15563694,\n",
       "         0.27858844, 0.1897083 ],\n",
       "        [0.3981319 , 0.6691065 , 0.37842238, 0.57921326, 0.5614044 ,\n",
       "         0.36941662, 0.26052848],\n",
       "        [0.5350422 , 0.79446274, 0.36136922, 0.6393457 , 0.2042804 ,\n",
       "         0.32482335, 0.26140127],\n",
       "        [0.30053434, 0.6203874 , 0.3701661 , 0.5699386 , 0.6974341 ,\n",
       "         0.33942258, 0.23127021],\n",
       "        [0.29350802, 0.70481616, 0.34998816, 0.47124013, 0.7398396 ,\n",
       "         0.3377258 , 0.18062378],\n",
       "        [0.03875276, 0.95820075, 0.07510702, 0.48826385, 0.96042156,\n",
       "         0.07228013, 0.0054594 ],\n",
       "        [0.52851176, 0.6699635 , 0.46628594, 0.46980336, 0.41505072,\n",
       "         0.46136862, 0.3680932 ],\n",
       "        [0.54784405, 0.8194802 , 0.35599986, 0.62081146, 0.18398298,\n",
       "         0.31845602, 0.24000102],\n",
       "        [0.5265011 , 0.6357497 , 0.47617742, 0.4935002 , 0.40703583,\n",
       "         0.46020988, 0.39988056],\n",
       "        [0.55513465, 0.85175085, 0.39407617, 0.4895667 , 0.22233945,\n",
       "         0.36615705, 0.23294272],\n",
       "        [0.5210973 , 0.56609666, 0.47657445, 0.5469363 , 0.42020342,\n",
       "         0.45927608, 0.43808374],\n",
       "        [0.56242186, 0.90152025, 0.32152325, 0.58721274, 0.1388583 ,\n",
       "         0.28726646, 0.16892394],\n",
       "        [0.5452886 , 0.7606124 , 0.4191722 , 0.5299445 , 0.2828565 ,\n",
       "         0.4010976 , 0.30575818],\n",
       "        [0.2988795 , 0.7419961 , 0.31061125, 0.53629494, 0.69357216,\n",
       "         0.32202673, 0.16412291]], dtype=float32),\n",
       " array([[0.02714188, 0.97741115, 0.1571599 , 0.72278535, 0.8621233 ,\n",
       "         0.49772853, 0.03383202],\n",
       "        [0.13500942, 0.87327164, 0.6997129 , 0.44325182, 0.25924364,\n",
       "         0.2991735 , 0.20777212],\n",
       "        [0.43844837, 0.574352  , 0.48071966, 0.5202776 , 0.51487935,\n",
       "         0.5412638 , 0.48283777],\n",
       "        [0.2363092 , 0.7621799 , 0.61397004, 0.4644089 , 0.36941838,\n",
       "         0.43195027, 0.3379211 ],\n",
       "        [0.09673797, 0.8937538 , 0.11746786, 0.7566773 , 0.8589452 ,\n",
       "         0.5554871 , 0.09313088],\n",
       "        [0.04452952, 0.96210134, 0.1331774 , 0.72937566, 0.87917435,\n",
       "         0.53078765, 0.04713314],\n",
       "        [0.06163905, 0.9519551 , 0.27355272, 0.6077995 , 0.7231212 ,\n",
       "         0.3228958 , 0.0451845 ],\n",
       "        [0.09949179, 0.91237324, 0.7275836 , 0.42544362, 0.22230627,\n",
       "         0.23524305, 0.14758162],\n",
       "        [0.12500358, 0.8654373 , 0.23296936, 0.6442734 , 0.714564  ,\n",
       "         0.40567163, 0.1111129 ],\n",
       "        [0.1184641 , 0.9026747 , 0.31985068, 0.603027  , 0.7206294 ,\n",
       "         0.49676588, 0.12648723],\n",
       "        [0.30653518, 0.7004469 , 0.3762621 , 0.5539768 , 0.59476566,\n",
       "         0.5107829 , 0.30546132],\n",
       "        [0.4585723 , 0.5413403 , 0.49505723, 0.52427477, 0.48622397,\n",
       "         0.5390458 , 0.5656465 ],\n",
       "        [0.369161  , 0.6208444 , 0.53919476, 0.50448084, 0.45566127,\n",
       "         0.5300641 , 0.5102178 ],\n",
       "        [0.3286731 , 0.67896616, 0.49747497, 0.5051007 , 0.46156216,\n",
       "         0.41967508, 0.33069813],\n",
       "        [0.05232596, 0.9603126 , 0.756497  , 0.4065616 , 0.19180992,\n",
       "         0.14945891, 0.06240882],\n",
       "        [0.02501955, 0.9727428 , 0.06037523, 0.8134504 , 0.9215663 ,\n",
       "         0.45365623, 0.01986585],\n",
       "        [0.03922689, 0.96370614, 0.18220359, 0.6907372 , 0.7643316 ,\n",
       "         0.301765  , 0.0303252 ],\n",
       "        [0.33036348, 0.6602802 , 0.5790511 , 0.4878964 , 0.4070182 ,\n",
       "         0.4570546 , 0.42369023],\n",
       "        [0.12802169, 0.86794174, 0.19293809, 0.6703249 , 0.7964161 ,\n",
       "         0.63161016, 0.17434175],\n",
       "        [0.13529344, 0.87112045, 0.68642324, 0.4418814 , 0.2581892 ,\n",
       "         0.28262243, 0.1975492 ],\n",
       "        [0.01528339, 0.9849309 , 0.0803628 , 0.77798647, 0.8872858 ,\n",
       "         0.23337281, 0.00786425],\n",
       "        [0.22485454, 0.77103096, 0.6316732 , 0.462223  , 0.35440686,\n",
       "         0.39663744, 0.3165404 ],\n",
       "        [0.06293916, 0.9218756 , 0.07020722, 0.7963036 , 0.90125805,\n",
       "         0.5563877 , 0.05958156],\n",
       "        [0.35690004, 0.6301048 , 0.5334037 , 0.4972769 , 0.41892245,\n",
       "         0.44998616, 0.41404083],\n",
       "        [0.16700633, 0.8470066 , 0.264647  , 0.6320026 , 0.7473199 ,\n",
       "         0.631449  , 0.22391318],\n",
       "        [0.03552322, 0.9683714 , 0.41079572, 0.5301271 , 0.52371997,\n",
       "         0.20065764, 0.02874685],\n",
       "        [0.27993858, 0.73639643, 0.57698077, 0.46657458, 0.41258967,\n",
       "         0.4003174 , 0.29787093],\n",
       "        [0.41840255, 0.57893604, 0.51623833, 0.5093099 , 0.4737727 ,\n",
       "         0.536525  , 0.523723  ]], dtype=float32),\n",
       " array([[5.55660296e-03, 9.92695928e-01, 2.16684148e-01, 3.83825451e-01,\n",
       "         2.09019352e-02, 8.07914287e-02, 1.42461539e-03],\n",
       "        [3.09817977e-02, 9.59624767e-01, 2.52016246e-01, 4.40795302e-01,\n",
       "         5.36177233e-02, 1.97727621e-01, 1.43322274e-02],\n",
       "        [3.05615366e-01, 7.02900767e-01, 5.44754565e-01, 4.44261521e-01,\n",
       "         5.89334130e-01, 3.94181430e-01, 2.58274913e-01],\n",
       "        [2.04639137e-02, 9.73833203e-01, 1.39766529e-01, 5.14248073e-01,\n",
       "         2.49042455e-02, 1.81460172e-01, 8.11729580e-03],\n",
       "        [8.16363469e-02, 9.22907710e-01, 4.44107890e-01, 6.89133823e-01,\n",
       "         9.32214618e-01, 3.09273273e-01, 3.97347584e-02],\n",
       "        [5.61284684e-02, 9.35286522e-01, 2.05621317e-01, 5.80040336e-01,\n",
       "         6.27807602e-02, 2.27176145e-01, 2.52357032e-02],\n",
       "        [2.71172106e-01, 7.30884671e-01, 5.57111382e-01, 4.59661037e-01,\n",
       "         6.87314689e-01, 3.90883327e-01, 2.16364563e-01],\n",
       "        [3.84869836e-02, 9.56638634e-01, 2.78141201e-01, 4.88472134e-01,\n",
       "         7.60656744e-02, 1.80622563e-01, 1.55199608e-02],\n",
       "        [1.27225230e-02, 9.85563874e-01, 1.55584902e-01, 5.86106539e-01,\n",
       "         2.48336270e-02, 1.06889561e-01, 3.16479965e-03],\n",
       "        [1.54384912e-03, 9.98665094e-01, 3.67765009e-01, 3.25224578e-01,\n",
       "         4.81395461e-02, 2.57604942e-02, 1.88529782e-04],\n",
       "        [2.10886132e-02, 9.83921170e-01, 2.96111912e-01, 7.18936265e-01,\n",
       "         9.07690048e-01, 1.66095987e-01, 5.78304753e-03],\n",
       "        [1.55213967e-01, 8.29411209e-01, 3.50428134e-01, 5.00310957e-01,\n",
       "         1.83590487e-01, 3.33968252e-01, 1.07145585e-01],\n",
       "        [7.36719812e-04, 9.99130428e-01, 4.25997600e-02, 6.71658933e-01,\n",
       "         2.11624918e-03, 3.20372619e-02, 7.43844430e-05],\n",
       "        [2.75118917e-01, 7.31783211e-01, 5.03676713e-01, 4.55678642e-01,\n",
       "         4.51544136e-01, 3.70454252e-01, 2.21219122e-01],\n",
       "        [1.18065014e-01, 8.93841326e-01, 5.88072240e-01, 4.58845258e-01,\n",
       "         6.28994823e-01, 2.55128771e-01, 6.50956854e-02],\n",
       "        [1.94000092e-03, 9.97399926e-01, 3.49355116e-02, 6.38118327e-01,\n",
       "         2.56186118e-03, 7.30286390e-02, 3.36977042e-04],\n",
       "        [5.50361257e-03, 9.96167362e-01, 2.19440997e-01, 6.00755632e-01,\n",
       "         5.18494189e-01, 5.95429167e-02, 9.19945829e-04],\n",
       "        [4.73813750e-02, 9.45760369e-01, 3.32932860e-01, 4.61925209e-01,\n",
       "         1.01517983e-01, 1.85391337e-01, 2.06031464e-02],\n",
       "        [2.45687515e-02, 9.75443721e-01, 1.93363979e-01, 5.62696099e-01,\n",
       "         6.07697666e-02, 1.52745292e-01, 7.72022130e-03],\n",
       "        [3.07344973e-01, 6.86624348e-01, 4.79421586e-01, 4.33849037e-01,\n",
       "         4.89047825e-01, 4.20733243e-01, 2.76871949e-01],\n",
       "        [1.91135749e-01, 8.06634784e-01, 4.95603293e-01, 5.22571623e-01,\n",
       "         8.04215729e-01, 3.54772627e-01, 1.29773676e-01],\n",
       "        [3.91233563e-02, 9.63763237e-01, 4.70819145e-01, 3.39199930e-01,\n",
       "         2.02762246e-01, 1.49466857e-01, 1.62241682e-02],\n",
       "        [5.82937500e-04, 9.99605954e-01, 1.63613468e-01, 7.66919553e-01,\n",
       "         2.95784891e-01, 1.86434239e-02, 3.62318642e-05],\n",
       "        [1.98212743e-01, 7.74062753e-01, 4.39305544e-01, 5.91612935e-01,\n",
       "         8.40883315e-01, 4.34523046e-01, 1.58308312e-01],\n",
       "        [8.64009897e-04, 9.99399185e-01, 6.54874802e-01, 2.28702620e-01,\n",
       "         1.85433939e-01, 1.39344400e-02, 9.07821377e-05],\n",
       "        [1.11194169e-02, 9.87962782e-01, 2.82011420e-01, 3.88377875e-01,\n",
       "         4.87852506e-02, 9.79608521e-02, 3.14869615e-03],\n",
       "        [1.17649352e-02, 9.89246547e-01, 9.72812548e-02, 6.85989857e-01,\n",
       "         6.92751929e-02, 1.12808019e-01, 2.61607184e-03],\n",
       "        [2.66302824e-02, 9.69217539e-01, 1.11500822e-01, 6.71549618e-01,\n",
       "         2.75309458e-02, 1.80070177e-01, 8.55014566e-03]], dtype=float32)]"
      ]
     },
     "execution_count": 52,
     "metadata": {},
     "output_type": "execute_result"
    }
   ],
   "source": [
    "y_preds"
   ]
  },
  {
   "cell_type": "code",
   "execution_count": 53,
   "id": "e493d733",
   "metadata": {},
   "outputs": [],
   "source": [
    "y_preds_sk = []"
   ]
  },
  {
   "cell_type": "code",
   "execution_count": 54,
   "id": "2a7c099b",
   "metadata": {},
   "outputs": [],
   "source": [
    "for yp in y_preds:\n",
    "    y_preds_sk.append(np.where(yp > 0.5,1,0))"
   ]
  },
  {
   "cell_type": "code",
   "execution_count": 55,
   "id": "25ae7b64",
   "metadata": {},
   "outputs": [
    {
     "data": {
      "text/plain": [
       "array([[0, 0, 0, 0, 0, 0, 1, 0, 0, 0, 0, 1, 0, 1, 0, 1, 0, 1, 0, 0, 0, 1,\n",
       "        1, 1, 1, 1, 1, 1, 0],\n",
       "       [1, 1, 1, 1, 1, 1, 1, 1, 0, 1, 1, 1, 1, 1, 1, 1, 1, 1, 1, 1, 1, 1,\n",
       "        1, 1, 1, 1, 1, 1, 1],\n",
       "       [0, 0, 0, 0, 0, 0, 0, 0, 0, 0, 0, 0, 0, 0, 0, 0, 0, 0, 0, 0, 0, 0,\n",
       "        0, 0, 0, 0, 0, 0, 0],\n",
       "       [1, 0, 1, 1, 1, 1, 1, 1, 1, 1, 0, 0, 1, 0, 1, 1, 1, 1, 1, 0, 0, 0,\n",
       "        1, 0, 0, 1, 1, 1, 1],\n",
       "       [0, 1, 0, 1, 1, 0, 0, 1, 1, 0, 1, 0, 1, 0, 1, 0, 1, 0, 1, 1, 1, 0,\n",
       "        0, 0, 0, 0, 0, 0, 1],\n",
       "       [0, 0, 0, 0, 0, 0, 0, 0, 0, 0, 0, 0, 0, 0, 0, 0, 0, 0, 0, 0, 0, 0,\n",
       "        0, 0, 0, 0, 0, 0, 0],\n",
       "       [0, 0, 0, 0, 0, 0, 0, 0, 0, 0, 0, 0, 0, 0, 0, 0, 0, 0, 0, 0, 0, 0,\n",
       "        0, 0, 0, 0, 0, 0, 0]])"
      ]
     },
     "execution_count": 55,
     "metadata": {},
     "output_type": "execute_result"
    }
   ],
   "source": [
    "y_preds_sk[0].T"
   ]
  },
  {
   "cell_type": "code",
   "execution_count": 35,
   "id": "1dbea810",
   "metadata": {},
   "outputs": [],
   "source": [
    "from sklearn.metrics import hamming_loss"
   ]
  },
  {
   "cell_type": "code",
   "execution_count": 56,
   "id": "44402f00",
   "metadata": {},
   "outputs": [
    {
     "data": {
      "text/plain": [
       "0.384001876612714"
      ]
     },
     "execution_count": 56,
     "metadata": {},
     "output_type": "execute_result"
    }
   ],
   "source": [
    "k = 0\n",
    "hl = []\n",
    "for train_index, test_index in kf.split(X):     \n",
    "    y_train, y_test = y[train_index], y[test_index]\n",
    "    l = hamming_loss(y_test, y_preds_sk[k])\n",
    "    hl.append(l)\n",
    "    k+=1\n",
    "HL = np.mean(hl)\n",
    "HL"
   ]
  },
  {
   "cell_type": "code",
   "execution_count": 57,
   "id": "d4bebb92",
   "metadata": {},
   "outputs": [],
   "source": [
    "f1_dict = dict()\n",
    "for i,label in enumerate(labels):\n",
    "    f1_dict[label] = []\n",
    "    k = 0\n",
    "    for train_index, test_index in kf.split(X):     \n",
    "        y_train, y_test = y[train_index], y[test_index]\n",
    "        y_pred_label = y_preds_sk[k].T[i]\n",
    "        f1 = f1_score(y_test.T[i], y_pred_label, average=\"binary\")\n",
    "        f1_dict[label].append(f1)\n",
    "        k+=1"
   ]
  },
  {
   "cell_type": "code",
   "execution_count": 58,
   "id": "d46f7146",
   "metadata": {},
   "outputs": [],
   "source": [
    "f1_list = []\n",
    "for label in labels:\n",
    "    f1_list.append(np.mean(f1_dict[label]))\n",
    "macro_f1_val = np.mean(f1_list) "
   ]
  },
  {
   "cell_type": "code",
   "execution_count": 61,
   "id": "a6f0d2d9",
   "metadata": {},
   "outputs": [
    {
     "data": {
      "image/png": "[encoded data removed]",
      "text/plain": [
       "<Figure size 720x288 with 1 Axes>"
      ]
     },
     "metadata": {
      "needs_background": "light"
     },
     "output_type": "display_data"
    }
   ],
   "source": [
    "plt.figure(figsize=(10,4))\n",
    "plt.bar(f1_dict.keys(), f1_list)\n",
    "plt.title(f\"F1 score per label  (macro-f1: {macro_f1_val:.3f}, Hamming Loss: {HL:.3f}, k=3)\")\n",
    "plt.show() ;"
   ]
  },
  {
   "cell_type": "code",
   "execution_count": 190,
   "id": "8a37fc54",
   "metadata": {},
   "outputs": [],
   "source": [
    "import japanize_matplotlib"
   ]
  },
  {
   "cell_type": "code",
   "execution_count": 191,
   "id": "8a6d970a",
   "metadata": {},
   "outputs": [
    {
     "data": {
      "image/png": "[encoded data removed]",
      "text/plain": [
       "<Figure size 720x288 with 1 Axes>"
      ]
     },
     "metadata": {
      "needs_background": "light"
     },
     "output_type": "display_data"
    }
   ],
   "source": [
    "plt.figure(figsize=(10,4))\n",
    "plt.bar(f1_dict.keys(), rate)\n",
    "plt.title(f\"そのラベルを持つ顔写真は全体の何割か\")\n",
    "plt.show() ;"
   ]
  },
  {
   "cell_type": "code",
   "execution_count": null,
   "id": "1427a231",
   "metadata": {},
   "outputs": [],
   "source": []
  }
 ],
 "metadata": {
  "kernelspec": {
   "display_name": "Python 3 (ipykernel)",
   "language": "python",
   "name": "python3"
  },
  "language_info": {
   "codemirror_mode": {
    "name": "ipython",
    "version": 3
   },
   "file_extension": ".py",
   "mimetype": "text/x-python",
   "name": "python",
   "nbconvert_exporter": "python",
   "pygments_lexer": "ipython3",
   "version": "3.9.10"
  }
 },
 "nbformat": 4,
 "nbformat_minor": 5
}
