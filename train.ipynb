{
 "cells": [
  {
   "cell_type": "markdown",
   "id": "a06fea3d",
   "metadata": {},
   "source": [
    "# 学習と評価\n",
    " - FaceNetの利用"
   ]
  },
  {
   "cell_type": "code",
   "execution_count": 4,
   "id": "3c8fdcf0",
   "metadata": {},
   "outputs": [],
   "source": [
    "import numpy as np\n",
    "import pandas as pd\n",
    "from matplotlib import pyplot as plt"
   ]
  },
  {
   "cell_type": "code",
   "execution_count": 5,
   "id": "d51b929b",
   "metadata": {},
   "outputs": [],
   "source": [
    "from pathlib import Path"
   ]
  },
  {
   "cell_type": "code",
   "execution_count": 6,
   "id": "d3d4b59f",
   "metadata": {},
   "outputs": [],
   "source": [
    "import tensorflow as tf"
   ]
  },
  {
   "cell_type": "code",
   "execution_count": 7,
   "id": "e5d712f6",
   "metadata": {},
   "outputs": [
    {
     "data": {
      "text/plain": [
       "'2.8.0'"
      ]
     },
     "execution_count": 7,
     "metadata": {},
     "output_type": "execute_result"
    }
   ],
   "source": [
    "tf.__version__"
   ]
  },
  {
   "cell_type": "code",
   "execution_count": 8,
   "id": "c978fc4a",
   "metadata": {},
   "outputs": [],
   "source": [
    "AUTOTUNE = tf.data.experimental.AUTOTUNE"
   ]
  },
  {
   "cell_type": "code",
   "execution_count": 9,
   "id": "8d763348",
   "metadata": {},
   "outputs": [],
   "source": [
    "from sklearn.model_selection import KFold"
   ]
  },
  {
   "cell_type": "markdown",
   "id": "821abac3",
   "metadata": {},
   "source": [
    "### GPU使用時のTFの再現性確保を担保する\n",
    "cf. https://book-read-yoshi.hatenablog.com/entry/2021/03/21/TensorFlow_determinism"
   ]
  },
  {
   "cell_type": "code",
   "execution_count": 83,
   "id": "e91882a7",
   "metadata": {},
   "outputs": [],
   "source": [
    "import os\n",
    "os.environ['PYTHONHASHSEED'] = '0'\n",
    "import tensorflow as tf\n",
    "os.environ['TF_DETERMINISTIC_OPS'] = 'true'\n",
    "os.environ['TF_CUDNN_DETERMINISTIC'] = 'true'\n",
    "\n",
    "import numpy as np\n",
    "import random as rn\n",
    "\n",
    "SEED = 1001\n",
    "def reset_random_seeds():\n",
    "    tf.random.set_seed(SEED)\n",
    "    np.random.seed(SEED)\n",
    "    rn.seed(SEED)\n",
    "\n",
    "reset_random_seeds()    \n",
    "\n",
    "session_conf = tf.compat.v1.ConfigProto(intra_op_parallelism_threads=32, inter_op_parallelism_threads=32)\n",
    "tf.compat.v1.set_random_seed(SEED)\n",
    "sess = tf.compat.v1.Session(graph=tf.compat.v1.get_default_graph(), config=session_conf)"
   ]
  },
  {
   "cell_type": "markdown",
   "id": "83471da0",
   "metadata": {},
   "source": [
    "## データのロード\n",
    "\n",
    "- 画像サイズは224×224"
   ]
  },
  {
   "cell_type": "code",
   "execution_count": 10,
   "id": "38c4d888",
   "metadata": {},
   "outputs": [],
   "source": [
    "df = pd.read_csv(\"data1_union.csv\")"
   ]
  },
  {
   "cell_type": "code",
   "execution_count": 11,
   "id": "e36eab61",
   "metadata": {},
   "outputs": [
    {
     "data": {
      "text/html": [
       "<div>\n",
       "<style scoped>\n",
       "    .dataframe tbody tr th:only-of-type {\n",
       "        vertical-align: middle;\n",
       "    }\n",
       "\n",
       "    .dataframe tbody tr th {\n",
       "        vertical-align: top;\n",
       "    }\n",
       "\n",
       "    .dataframe thead th {\n",
       "        text-align: right;\n",
       "    }\n",
       "</style>\n",
       "<table border=\"1\" class=\"dataframe\">\n",
       "  <thead>\n",
       "    <tr style=\"text-align: right;\">\n",
       "      <th></th>\n",
       "      <th>Id</th>\n",
       "      <th>Caring</th>\n",
       "      <th>Confident</th>\n",
       "      <th>Emotionally stable</th>\n",
       "      <th>Intelligent</th>\n",
       "      <th>Responsible</th>\n",
       "      <th>Sociable</th>\n",
       "      <th>Trustworthy</th>\n",
       "    </tr>\n",
       "  </thead>\n",
       "  <tbody>\n",
       "    <tr>\n",
       "      <th>0</th>\n",
       "      <td>6269</td>\n",
       "      <td>1.0</td>\n",
       "      <td>0.0</td>\n",
       "      <td>0.0</td>\n",
       "      <td>0.0</td>\n",
       "      <td>1.0</td>\n",
       "      <td>0.0</td>\n",
       "      <td>0.0</td>\n",
       "    </tr>\n",
       "    <tr>\n",
       "      <th>1</th>\n",
       "      <td>272998</td>\n",
       "      <td>1.0</td>\n",
       "      <td>1.0</td>\n",
       "      <td>0.0</td>\n",
       "      <td>0.0</td>\n",
       "      <td>0.0</td>\n",
       "      <td>0.0</td>\n",
       "      <td>0.0</td>\n",
       "    </tr>\n",
       "    <tr>\n",
       "      <th>2</th>\n",
       "      <td>274783</td>\n",
       "      <td>1.0</td>\n",
       "      <td>1.0</td>\n",
       "      <td>0.0</td>\n",
       "      <td>0.0</td>\n",
       "      <td>1.0</td>\n",
       "      <td>1.0</td>\n",
       "      <td>1.0</td>\n",
       "    </tr>\n",
       "    <tr>\n",
       "      <th>3</th>\n",
       "      <td>430823</td>\n",
       "      <td>0.0</td>\n",
       "      <td>1.0</td>\n",
       "      <td>0.0</td>\n",
       "      <td>0.0</td>\n",
       "      <td>0.0</td>\n",
       "      <td>0.0</td>\n",
       "      <td>0.0</td>\n",
       "    </tr>\n",
       "    <tr>\n",
       "      <th>4</th>\n",
       "      <td>208848</td>\n",
       "      <td>0.0</td>\n",
       "      <td>0.0</td>\n",
       "      <td>0.0</td>\n",
       "      <td>1.0</td>\n",
       "      <td>1.0</td>\n",
       "      <td>0.0</td>\n",
       "      <td>0.0</td>\n",
       "    </tr>\n",
       "    <tr>\n",
       "      <th>...</th>\n",
       "      <td>...</td>\n",
       "      <td>...</td>\n",
       "      <td>...</td>\n",
       "      <td>...</td>\n",
       "      <td>...</td>\n",
       "      <td>...</td>\n",
       "      <td>...</td>\n",
       "      <td>...</td>\n",
       "    </tr>\n",
       "    <tr>\n",
       "      <th>80</th>\n",
       "      <td>185955</td>\n",
       "      <td>0.0</td>\n",
       "      <td>1.0</td>\n",
       "      <td>1.0</td>\n",
       "      <td>1.0</td>\n",
       "      <td>1.0</td>\n",
       "      <td>0.0</td>\n",
       "      <td>0.0</td>\n",
       "    </tr>\n",
       "    <tr>\n",
       "      <th>81</th>\n",
       "      <td>313100</td>\n",
       "      <td>0.0</td>\n",
       "      <td>1.0</td>\n",
       "      <td>0.0</td>\n",
       "      <td>0.0</td>\n",
       "      <td>0.0</td>\n",
       "      <td>0.0</td>\n",
       "      <td>1.0</td>\n",
       "    </tr>\n",
       "    <tr>\n",
       "      <th>82</th>\n",
       "      <td>369866</td>\n",
       "      <td>1.0</td>\n",
       "      <td>1.0</td>\n",
       "      <td>0.0</td>\n",
       "      <td>1.0</td>\n",
       "      <td>1.0</td>\n",
       "      <td>0.0</td>\n",
       "      <td>0.0</td>\n",
       "    </tr>\n",
       "    <tr>\n",
       "      <th>83</th>\n",
       "      <td>124821</td>\n",
       "      <td>0.0</td>\n",
       "      <td>1.0</td>\n",
       "      <td>1.0</td>\n",
       "      <td>1.0</td>\n",
       "      <td>0.0</td>\n",
       "      <td>0.0</td>\n",
       "      <td>1.0</td>\n",
       "    </tr>\n",
       "    <tr>\n",
       "      <th>84</th>\n",
       "      <td>61202</td>\n",
       "      <td>0.0</td>\n",
       "      <td>1.0</td>\n",
       "      <td>1.0</td>\n",
       "      <td>1.0</td>\n",
       "      <td>0.0</td>\n",
       "      <td>0.0</td>\n",
       "      <td>1.0</td>\n",
       "    </tr>\n",
       "  </tbody>\n",
       "</table>\n",
       "<p>85 rows × 8 columns</p>\n",
       "</div>"
      ],
      "text/plain": [
       "        Id  Caring  Confident  Emotionally stable  Intelligent  Responsible  \\\n",
       "0     6269     1.0        0.0                 0.0          0.0          1.0   \n",
       "1   272998     1.0        1.0                 0.0          0.0          0.0   \n",
       "2   274783     1.0        1.0                 0.0          0.0          1.0   \n",
       "3   430823     0.0        1.0                 0.0          0.0          0.0   \n",
       "4   208848     0.0        0.0                 0.0          1.0          1.0   \n",
       "..     ...     ...        ...                 ...          ...          ...   \n",
       "80  185955     0.0        1.0                 1.0          1.0          1.0   \n",
       "81  313100     0.0        1.0                 0.0          0.0          0.0   \n",
       "82  369866     1.0        1.0                 0.0          1.0          1.0   \n",
       "83  124821     0.0        1.0                 1.0          1.0          0.0   \n",
       "84   61202     0.0        1.0                 1.0          1.0          0.0   \n",
       "\n",
       "    Sociable  Trustworthy  \n",
       "0        0.0          0.0  \n",
       "1        0.0          0.0  \n",
       "2        1.0          1.0  \n",
       "3        0.0          0.0  \n",
       "4        0.0          0.0  \n",
       "..       ...          ...  \n",
       "80       0.0          0.0  \n",
       "81       0.0          1.0  \n",
       "82       0.0          0.0  \n",
       "83       0.0          1.0  \n",
       "84       0.0          1.0  \n",
       "\n",
       "[85 rows x 8 columns]"
      ]
     },
     "execution_count": 11,
     "metadata": {},
     "output_type": "execute_result"
    }
   ],
   "source": [
    "df"
   ]
  },
  {
   "cell_type": "markdown",
   "id": "b33ecd64",
   "metadata": {},
   "source": [
    "## FaceNetで埋め込み"
   ]
  },
  {
   "cell_type": "markdown",
   "id": "48698ddb",
   "metadata": {},
   "source": [
    "メモ：```\\Lib\\site-packages\\facenet\\src\\facenet.py```の408行目をtensorflow v2仕様に書き換える必要がある"
   ]
  },
  {
   "cell_type": "code",
   "execution_count": 12,
   "id": "9bbf47af",
   "metadata": {},
   "outputs": [],
   "source": [
    "from face_embedding import FaceEmbedding"
   ]
  },
  {
   "cell_type": "code",
   "execution_count": 13,
   "id": "7f8b7e3e",
   "metadata": {},
   "outputs": [
    {
     "name": "stdout",
     "output_type": "stream",
     "text": [
      "Model filename: ../facenet//20180402-114759/20180402-114759.pb\n",
      "WARNING:tensorflow:From C:\\Users\\Owner\\python_venvs\\tensorflow\\lib\\site-packages\\facenet\\src\\facenet.py:407: FastGFile.__init__ (from tensorflow.python.platform.gfile) is deprecated and will be removed in a future version.\n",
      "Instructions for updating:\n",
      "Use tf.gfile.GFile.\n"
     ]
    }
   ],
   "source": [
    "FACE_MEDEL_PATH = '../facenet//20180402-114759/20180402-114759.pb'\n",
    "face_embedding = FaceEmbedding(FACE_MEDEL_PATH)"
   ]
  },
  {
   "cell_type": "code",
   "execution_count": 14,
   "id": "4c6301e4",
   "metadata": {},
   "outputs": [],
   "source": [
    "X = []\n",
    "for img_id in df[\"Id\"]:\n",
    "    path = f\"images/cleaned_20220519/{img_id}.jpg\"\n",
    "    face_vec = face_embedding.face_embeddings(path)[0]\n",
    "    X.append(face_vec)"
   ]
  },
  {
   "cell_type": "code",
   "execution_count": 15,
   "id": "c5e77dc3",
   "metadata": {},
   "outputs": [],
   "source": [
    "X = np.array(X)"
   ]
  },
  {
   "cell_type": "code",
   "execution_count": 16,
   "id": "147fc0af",
   "metadata": {},
   "outputs": [
    {
     "data": {
      "text/plain": [
       "(85, 512)"
      ]
     },
     "execution_count": 16,
     "metadata": {},
     "output_type": "execute_result"
    }
   ],
   "source": [
    "X.shape"
   ]
  },
  {
   "cell_type": "markdown",
   "id": "5546d6f1",
   "metadata": {},
   "source": [
    "# 二値分類モデル"
   ]
  },
  {
   "cell_type": "markdown",
   "id": "8bb4ca29",
   "metadata": {},
   "source": [
    "## モデル構築"
   ]
  },
  {
   "cell_type": "code",
   "execution_count": 17,
   "id": "d63c3934",
   "metadata": {},
   "outputs": [],
   "source": [
    "from tensorflow import keras\n",
    "from tensorflow.keras import Sequential, Model\n",
    "from tensorflow.keras.layers import Dense, Flatten, Dropout, MaxPool2D, Lambda, Conv2D, Reshape, Input, RandomFlip, RandomRotation"
   ]
  },
  {
   "cell_type": "code",
   "execution_count": 68,
   "id": "016fb432",
   "metadata": {},
   "outputs": [],
   "source": [
    "def get_binary_model():\n",
    "    input_ts = Input(shape=(512,))\n",
    "    dense1 = Dense(512, activation=\"relu\")(input_ts)\n",
    "    dense2 = Dense(1024, activation=\"relu\")(dense1)\n",
    "    drop1 = Dropout(0.4)(dense2)\n",
    "    dense3 = Dense(1024, activation=\"relu\")(drop1)\n",
    "    drop2 = Dropout(0.4)(dense3)\n",
    "    dense4 = Dense(512, activation=\"relu\")(drop2)\n",
    "    dense5 = Dense(256, activation=\"relu\")(dense4)\n",
    "    dense6 = Dense(128, activation=\"relu\")(dense5)\n",
    "    drop3 = Dropout(0.2)(dense6)\n",
    "    final = Dense(2, activation=\"softmax\")(drop3)\n",
    "    \n",
    "    model = Model(\n",
    "        inputs=[input_ts],\n",
    "        outputs=[final]\n",
    "    )\n",
    "    return model"
   ]
  },
  {
   "cell_type": "code",
   "execution_count": 24,
   "id": "b4d25ba5",
   "metadata": {},
   "outputs": [],
   "source": [
    "model = get_binary_model()"
   ]
  },
  {
   "cell_type": "code",
   "execution_count": 25,
   "id": "158b5902",
   "metadata": {},
   "outputs": [
    {
     "name": "stdout",
     "output_type": "stream",
     "text": [
      "Model: \"model_1\"\n",
      "_________________________________________________________________\n",
      " Layer (type)                Output Shape              Param #   \n",
      "=================================================================\n",
      " input_2 (InputLayer)        [(None, 512)]             0         \n",
      "                                                                 \n",
      " dense_7 (Dense)             (None, 512)               262656    \n",
      "                                                                 \n",
      " dense_8 (Dense)             (None, 1024)              525312    \n",
      "                                                                 \n",
      " dropout_3 (Dropout)         (None, 1024)              0         \n",
      "                                                                 \n",
      " dense_9 (Dense)             (None, 1024)              1049600   \n",
      "                                                                 \n",
      " dropout_4 (Dropout)         (None, 1024)              0         \n",
      "                                                                 \n",
      " dense_10 (Dense)            (None, 512)               524800    \n",
      "                                                                 \n",
      " dense_11 (Dense)            (None, 256)               131328    \n",
      "                                                                 \n",
      " dense_12 (Dense)            (None, 128)               32896     \n",
      "                                                                 \n",
      " dropout_5 (Dropout)         (None, 128)               0         \n",
      "                                                                 \n",
      " dense_13 (Dense)            (None, 2)                 258       \n",
      "                                                                 \n",
      "=================================================================\n",
      "Total params: 2,526,850\n",
      "Trainable params: 2,526,850\n",
      "Non-trainable params: 0\n",
      "_________________________________________________________________\n"
     ]
    }
   ],
   "source": [
    "model.summary()"
   ]
  },
  {
   "cell_type": "code",
   "execution_count": 26,
   "id": "565e1711",
   "metadata": {},
   "outputs": [],
   "source": [
    "METRICS = [\n",
    "      keras.metrics.TruePositives(name='tp'),\n",
    "      keras.metrics.FalsePositives(name='fp'),\n",
    "      keras.metrics.TrueNegatives(name='tn'),\n",
    "      keras.metrics.FalseNegatives(name='fn'),\n",
    "      keras.metrics.BinaryAccuracy(name='accuracy'),\n",
    "      keras.metrics.Precision(name='precision'),\n",
    "      keras.metrics.Recall(name='recall'),\n",
    "      keras.metrics.AUC(name='auc'),\n",
    "]"
   ]
  },
  {
   "cell_type": "code",
   "execution_count": 27,
   "id": "c957700b",
   "metadata": {},
   "outputs": [],
   "source": [
    "del model"
   ]
  },
  {
   "cell_type": "code",
   "execution_count": 28,
   "id": "2bb8a60c",
   "metadata": {},
   "outputs": [],
   "source": [
    "kf = KFold(n_splits=3, shuffle=True, random_state=1001)"
   ]
  },
  {
   "cell_type": "code",
   "execution_count": 29,
   "id": "19ff1464",
   "metadata": {},
   "outputs": [],
   "source": [
    "from sklearn.metrics import f1_score"
   ]
  },
  {
   "cell_type": "markdown",
   "id": "2cd4d914",
   "metadata": {},
   "source": [
    "cf. https://www.kaggle.com/code/rejpalcz/best-loss-function-for-f1-score-metric/notebook"
   ]
  },
  {
   "cell_type": "code",
   "execution_count": 40,
   "id": "2c9f2380",
   "metadata": {},
   "outputs": [],
   "source": [
    "from tensorflow.keras import backend as K"
   ]
  },
  {
   "cell_type": "code",
   "execution_count": 45,
   "id": "91d3eb02",
   "metadata": {},
   "outputs": [],
   "source": [
    "def f1(y_true, y_pred):\n",
    "    y_pred = K.round(y_pred)\n",
    "    tp = K.sum(K.cast(y_true*y_pred, 'float'), axis=0)\n",
    "    tn = K.sum(K.cast((1-y_true)*(1-y_pred), 'float'), axis=0)\n",
    "    fp = K.sum(K.cast((1-y_true)*y_pred, 'float'), axis=0)\n",
    "    fn = K.sum(K.cast(y_true*(1-y_pred), 'float'), axis=0)\n",
    "\n",
    "    p = tp / (tp + fp + K.epsilon())\n",
    "    r = tp / (tp + fn + K.epsilon())\n",
    "\n",
    "    f1 = 2*p*r / (p+r+K.epsilon())\n",
    "    f1 = tf.where(tf.is_nan(f1), tf.zeros_like(f1), f1)\n",
    "    return K.mean(f1)\n",
    "\n",
    "def f1_loss(y_true, y_pred):\n",
    "    \n",
    "    tp = K.sum(K.cast(y_true*y_pred, 'float'), axis=0)\n",
    "    tn = K.sum(K.cast((1-y_true)*(1-y_pred), 'float'), axis=0)\n",
    "    fp = K.sum(K.cast((1-y_true)*y_pred, 'float'), axis=0)\n",
    "    fn = K.sum(K.cast(y_true*(1-y_pred), 'float'), axis=0)\n",
    "\n",
    "    p = tp / (tp + fp + K.epsilon())\n",
    "    r = tp / (tp + fn + K.epsilon())\n",
    "\n",
    "    f1 = 2*p*r / (p+r+K.epsilon())\n",
    "    f1 = tf.where(tf.math.is_nan(f1), tf.zeros_like(f1), f1)\n",
    "    return 1 - K.mean(f1)"
   ]
  },
  {
   "cell_type": "markdown",
   "id": "ed8efe50",
   "metadata": {},
   "source": [
    "## すべてのラベルでやってみる"
   ]
  },
  {
   "cell_type": "code",
   "execution_count": 46,
   "id": "449383e8",
   "metadata": {},
   "outputs": [],
   "source": [
    "labels = [\"Caring\",\"Confident\",\"Emotionally stable\",\"Intelligent\",\"Responsible\",\"Sociable\",\"Trustworthy\"]"
   ]
  },
  {
   "cell_type": "code",
   "execution_count": 47,
   "id": "7e9da9ae",
   "metadata": {},
   "outputs": [],
   "source": [
    "kf = KFold(n_splits=3, shuffle=True, random_state=1001)"
   ]
  },
  {
   "cell_type": "code",
   "execution_count": 74,
   "id": "64b3039d",
   "metadata": {},
   "outputs": [],
   "source": [
    "import gc"
   ]
  },
  {
   "cell_type": "code",
   "execution_count": 84,
   "id": "b530f0ff",
   "metadata": {},
   "outputs": [
    {
     "name": "stdout",
     "output_type": "stream",
     "text": [
      "Caring\n",
      "origin pos:21.0 neg:35.0\n",
      "Epoch 1/6\n",
      "7/7 [==============================] - 1s 21ms/step - loss: 0.5182 - tp: 85.0000 - fp: 28.0000 - tn: 85.0000 - fn: 28.0000 - accuracy: 0.7522 - precision: 0.7522 - recall: 0.7522 - auc: 0.8541\n",
      "Epoch 2/6\n",
      "7/7 [==============================] - 0s 20ms/step - loss: 0.5093 - tp: 35.0000 - fp: 21.0000 - tn: 35.0000 - fn: 21.0000 - accuracy: 0.6250 - precision: 0.6250 - recall: 0.6250 - auc: 0.6993\n",
      "Epoch 3/6\n",
      "7/7 [==============================] - 0s 7ms/step - loss: 0.4183 - tp: 38.0000 - fp: 18.0000 - tn: 38.0000 - fn: 18.0000 - accuracy: 0.6786 - precision: 0.6786 - recall: 0.6786 - auc: 0.7958\n",
      "Epoch 4/6\n",
      "7/7 [==============================] - 0s 7ms/step - loss: 0.2754 - tp: 49.0000 - fp: 7.0000 - tn: 49.0000 - fn: 7.0000 - accuracy: 0.8750 - precision: 0.8750 - recall: 0.8750 - auc: 0.9190\n",
      "Epoch 5/6\n",
      "7/7 [==============================] - 0s 7ms/step - loss: 0.0715 - tp: 54.0000 - fp: 2.0000 - tn: 54.0000 - fn: 2.0000 - accuracy: 0.9643 - precision: 0.9643 - recall: 0.9643 - auc: 0.9911  \n",
      "Epoch 6/6\n",
      "7/7 [==============================] - 0s 6ms/step - loss: 0.0579 - tp: 53.0000 - fp: 3.0000 - tn: 53.0000 - fn: 3.0000 - accuracy: 0.9464 - precision: 0.9464 - recall: 0.9464 - auc: 0.9601\n",
      "Predict: [1 1 0 1 0 1 1 1 0 1 1 1 0 0 1 0 1 1 0 1 0 1 1 1 1 1 1 1 1]\n",
      "True: [1 0 0 1 1 0 0 0 0 0 0 0 0 0 0 0 0 0 0 1 0 0 0 0 0 0 1 0 0]\n",
      "F1 score: 0.3076923076923077\n",
      "origin pos:17.0 neg:40.0\n",
      "Epoch 1/6\n",
      "8/8 [==============================] - 1s 8ms/step - loss: 0.5224 - tp: 92.0000 - fp: 21.0000 - tn: 92.0000 - fn: 21.0000 - accuracy: 0.8142 - precision: 0.8142 - recall: 0.8142 - auc: 0.8885\n",
      "Epoch 2/6\n",
      "8/8 [==============================] - 0s 8ms/step - loss: 0.4975 - tp: 40.0000 - fp: 17.0000 - tn: 40.0000 - fn: 17.0000 - accuracy: 0.7018 - precision: 0.7018 - recall: 0.7018 - auc: 0.7593\n",
      "Epoch 3/6\n",
      "8/8 [==============================] - 0s 8ms/step - loss: 0.4403 - tp: 40.0000 - fp: 17.0000 - tn: 40.0000 - fn: 17.0000 - accuracy: 0.7018 - precision: 0.7018 - recall: 0.7018 - auc: 0.8452\n",
      "Epoch 4/6\n",
      "8/8 [==============================] - 0s 8ms/step - loss: 0.3642 - tp: 48.0000 - fp: 9.0000 - tn: 48.0000 - fn: 9.0000 - accuracy: 0.8421 - precision: 0.8421 - recall: 0.8421 - auc: 0.9289\n",
      "Epoch 5/6\n",
      "8/8 [==============================] - 0s 8ms/step - loss: 0.2084 - tp: 54.0000 - fp: 3.0000 - tn: 54.0000 - fn: 3.0000 - accuracy: 0.9474 - precision: 0.9474 - recall: 0.9474 - auc: 0.9609\n",
      "Epoch 6/6\n",
      "8/8 [==============================] - 0s 8ms/step - loss: 0.0746 - tp: 55.0000 - fp: 2.0000 - tn: 55.0000 - fn: 2.0000 - accuracy: 0.9649 - precision: 0.9649 - recall: 0.9649 - auc: 0.9751 \n",
      "Predict: [0 0 1 0 1 0 0 0 0 0 0 0 0 0 0 1 0 0 0 0 0 0 0 0 0 0 0 0]\n",
      "True: [1 0 0 1 0 1 0 0 1 0 1 1 1 0 0 0 0 0 0 0 0 0 0 1 0 0 0 1]\n",
      "F1 score: 0.0\n",
      "origin pos:14.0 neg:43.0\n",
      "Epoch 1/6\n",
      "8/8 [==============================] - 1s 12ms/step - loss: 0.5234 - tp: 96.0000 - fp: 18.0000 - tn: 96.0000 - fn: 18.0000 - accuracy: 0.8421 - precision: 0.8421 - recall: 0.8421 - auc: 0.9239\n",
      "Epoch 2/6\n",
      "8/8 [==============================] - 0s 14ms/step - loss: 0.5319 - tp: 43.0000 - fp: 14.0000 - tn: 43.0000 - fn: 14.0000 - accuracy: 0.7544 - precision: 0.7544 - recall: 0.7544 - auc: 0.8172\n",
      "Epoch 3/6\n",
      "8/8 [==============================] - 0s 13ms/step - loss: 0.4960 - tp: 43.0000 - fp: 14.0000 - tn: 43.0000 - fn: 14.0000 - accuracy: 0.7544 - precision: 0.7544 - recall: 0.7544 - auc: 0.8095\n",
      "Epoch 4/6\n",
      "8/8 [==============================] - 0s 11ms/step - loss: 0.3941 - tp: 43.0000 - fp: 14.0000 - tn: 43.0000 - fn: 14.0000 - accuracy: 0.7544 - precision: 0.7544 - recall: 0.7544 - auc: 0.9191\n",
      "Epoch 5/6\n",
      "8/8 [==============================] - 0s 8ms/step - loss: 0.2868 - tp: 45.0000 - fp: 12.0000 - tn: 45.0000 - fn: 12.0000 - accuracy: 0.7895 - precision: 0.7895 - recall: 0.7895 - auc: 0.9375\n",
      "Epoch 6/6\n",
      "8/8 [==============================] - 0s 9ms/step - loss: 0.2073 - tp: 56.0000 - fp: 1.0000 - tn: 56.0000 - fn: 1.0000 - accuracy: 0.9825 - precision: 0.9825 - recall: 0.9825 - auc: 0.9923 \n",
      "Predict: [0 0 0 0 0 1 0 0 0 0 0 1 1 1 1 0 0 0 0 0 0 0 0 1 0 0 0 1]\n",
      "True: [1 0 1 0 1 1 0 0 0 0 1 1 0 1 1 0 0 0 1 1 0 0 0 1 1 0 0 0]\n",
      "F1 score: 0.5263157894736842\n",
      "Confident\n",
      "origin pos:43.0 neg:13.0\n",
      "Epoch 1/6\n",
      "7/7 [==============================] - 1s 7ms/step - loss: 0.5333 - tp: 96.0000 - fp: 17.0000 - tn: 96.0000 - fn: 17.0000 - accuracy: 0.8496 - precision: 0.8496 - recall: 0.8496 - auc: 0.9050\n",
      "Epoch 2/6\n",
      "7/7 [==============================] - 0s 7ms/step - loss: 0.4872 - tp: 43.0000 - fp: 13.0000 - tn: 43.0000 - fn: 13.0000 - accuracy: 0.7679 - precision: 0.7679 - recall: 0.7679 - auc: 0.8559\n",
      "Epoch 3/6\n",
      "7/7 [==============================] - 0s 7ms/step - loss: 0.3999 - tp: 43.0000 - fp: 13.0000 - tn: 43.0000 - fn: 13.0000 - accuracy: 0.7679 - precision: 0.7679 - recall: 0.7679 - auc: 0.9302\n",
      "Epoch 4/6\n",
      "7/7 [==============================] - 0s 7ms/step - loss: 0.3055 - tp: 49.0000 - fp: 7.0000 - tn: 49.0000 - fn: 7.0000 - accuracy: 0.8750 - precision: 0.8750 - recall: 0.8750 - auc: 0.9587\n",
      "Epoch 5/6\n",
      "7/7 [==============================] - 0s 7ms/step - loss: 0.1516 - tp: 56.0000 - fp: 0.0000e+00 - tn: 56.0000 - fn: 0.0000e+00 - accuracy: 1.0000 - precision: 1.0000 - recall: 1.0000 - auc: 1.0000\n",
      "Epoch 6/6\n",
      "7/7 [==============================] - 0s 9ms/step - loss: 0.0830 - tp: 55.0000 - fp: 1.0000 - tn: 55.0000 - fn: 1.0000 - accuracy: 0.9821 - precision: 0.9821 - recall: 0.9821 - auc: 0.9997\n",
      "Predict: [1 1 1 1 0 1 1 0 1 1 1 1 1 1 0 1 1 1 0 1 1 0 0 1 1 0 1 1 1]\n",
      "True: [1 1 1 1 1 1 1 1 1 1 1 0 1 1 0 0 1 1 1 0 1 1 1 1 1 0 0 0 1]\n",
      "F1 score: 0.7727272727272727\n",
      "origin pos:42.0 neg:15.0\n",
      "Epoch 1/6\n",
      "8/8 [==============================] - 1s 12ms/step - loss: 0.5447 - tp: 95.0000 - fp: 18.0000 - tn: 95.0000 - fn: 18.0000 - accuracy: 0.8407 - precision: 0.8407 - recall: 0.8407 - auc: 0.9184\n",
      "Epoch 2/6\n",
      "8/8 [==============================] - 0s 14ms/step - loss: 0.4842 - tp: 42.0000 - fp: 15.0000 - tn: 42.0000 - fn: 15.0000 - accuracy: 0.7368 - precision: 0.7368 - recall: 0.7368 - auc: 0.8298\n",
      "Epoch 3/6\n",
      "8/8 [==============================] - 0s 13ms/step - loss: 0.4629 - tp: 42.0000 - fp: 15.0000 - tn: 42.0000 - fn: 15.0000 - accuracy: 0.7368 - precision: 0.7368 - recall: 0.7368 - auc: 0.8612\n",
      "Epoch 4/6\n",
      "8/8 [==============================] - 0s 11ms/step - loss: 0.3742 - tp: 43.0000 - fp: 14.0000 - tn: 43.0000 - fn: 14.0000 - accuracy: 0.7544 - precision: 0.7544 - recall: 0.7544 - auc: 0.8941\n",
      "Epoch 5/6\n",
      "8/8 [==============================] - 0s 8ms/step - loss: 0.2745 - tp: 53.0000 - fp: 4.0000 - tn: 53.0000 - fn: 4.0000 - accuracy: 0.9298 - precision: 0.9298 - recall: 0.9298 - auc: 0.9840\n",
      "Epoch 6/6\n",
      "8/8 [==============================] - 0s 8ms/step - loss: 0.1891 - tp: 54.0000 - fp: 3.0000 - tn: 54.0000 - fn: 3.0000 - accuracy: 0.9474 - precision: 0.9474 - recall: 0.9474 - auc: 0.9861 \n",
      "Predict: [1 0 1 1 0 1 1 0 0 0 0 0 0 1 1 0 1 0 1 0 1 0 0 0 0 1 0 0]\n",
      "True: [0 1 1 1 1 1 1 1 1 1 0 0 1 0 1 1 1 1 1 1 1 1 1 1 1 0 1 1]\n",
      "F1 score: 0.4705882352941176\n",
      "origin pos:45.0 neg:12.0\n",
      "Epoch 1/6\n",
      "8/8 [==============================] - 1s 8ms/step - loss: 0.5336 - tp: 96.0000 - fp: 18.0000 - tn: 96.0000 - fn: 18.0000 - accuracy: 0.8421 - precision: 0.8421 - recall: 0.8421 - auc: 0.9063\n",
      "Epoch 2/6\n",
      "8/8 [==============================] - 0s 8ms/step - loss: 0.4858 - tp: 45.0000 - fp: 12.0000 - tn: 45.0000 - fn: 12.0000 - accuracy: 0.7895 - precision: 0.7895 - recall: 0.7895 - auc: 0.8458\n",
      "Epoch 3/6\n",
      "8/8 [==============================] - 0s 8ms/step - loss: 0.3818 - tp: 45.0000 - fp: 12.0000 - tn: 45.0000 - fn: 12.0000 - accuracy: 0.7895 - precision: 0.7895 - recall: 0.7895 - auc: 0.9406\n",
      "Epoch 4/6\n",
      "8/8 [==============================] - 0s 10ms/step - loss: 0.2815 - tp: 52.0000 - fp: 5.0000 - tn: 52.0000 - fn: 5.0000 - accuracy: 0.9123 - precision: 0.9123 - recall: 0.9123 - auc: 0.9728\n",
      "Epoch 5/6\n",
      "8/8 [==============================] - 0s 11ms/step - loss: 0.2198 - tp: 56.0000 - fp: 1.0000 - tn: 56.0000 - fn: 1.0000 - accuracy: 0.9825 - precision: 0.9825 - recall: 0.9825 - auc: 0.9929\n",
      "Epoch 6/6\n"
     ]
    },
    {
     "name": "stdout",
     "output_type": "stream",
     "text": [
      "8/8 [==============================] - 0s 12ms/step - loss: 0.0583 - tp: 57.0000 - fp: 0.0000e+00 - tn: 57.0000 - fn: 0.0000e+00 - accuracy: 1.0000 - precision: 1.0000 - recall: 1.0000 - auc: 1.0000\n",
      "Predict: [1 1 1 1 1 1 1 1 1 1 1 1 1 1 0 1 1 1 1 1 1 1 1 1 1 1 1 0]\n",
      "True: [1 0 1 1 1 1 1 1 0 0 1 0 1 0 1 1 1 1 1 1 0 1 0 1 0 1 1 1]\n",
      "F1 score: 0.7826086956521738\n",
      "Emotionally stable\n",
      "origin pos:16.0 neg:40.0\n",
      "Epoch 1/6\n",
      "7/7 [==============================] - 1s 7ms/step - loss: 0.5267 - tp: 94.0000 - fp: 19.0000 - tn: 94.0000 - fn: 19.0000 - accuracy: 0.8319 - precision: 0.8319 - recall: 0.8319 - auc: 0.9281\n",
      "Epoch 2/6\n",
      "7/7 [==============================] - 0s 7ms/step - loss: 0.4825 - tp: 40.0000 - fp: 16.0000 - tn: 40.0000 - fn: 16.0000 - accuracy: 0.7143 - precision: 0.7143 - recall: 0.7143 - auc: 0.7883\n",
      "Epoch 3/6\n",
      "7/7 [==============================] - 0s 7ms/step - loss: 0.4119 - tp: 40.0000 - fp: 16.0000 - tn: 40.0000 - fn: 16.0000 - accuracy: 0.7143 - precision: 0.7143 - recall: 0.7143 - auc: 0.8747\n",
      "Epoch 4/6\n",
      "7/7 [==============================] - 0s 7ms/step - loss: 0.3145 - tp: 46.0000 - fp: 10.0000 - tn: 46.0000 - fn: 10.0000 - accuracy: 0.8214 - precision: 0.8214 - recall: 0.8214 - auc: 0.8941\n",
      "Epoch 5/6\n",
      "7/7 [==============================] - 0s 7ms/step - loss: 0.2256 - tp: 54.0000 - fp: 2.0000 - tn: 54.0000 - fn: 2.0000 - accuracy: 0.9643 - precision: 0.9643 - recall: 0.9643 - auc: 0.9503\n",
      "Epoch 6/6\n",
      "7/7 [==============================] - 0s 7ms/step - loss: 0.0693 - tp: 54.0000 - fp: 2.0000 - tn: 54.0000 - fn: 2.0000 - accuracy: 0.9643 - precision: 0.9643 - recall: 0.9643 - auc: 0.9585  \n",
      "Predict: [0 0 0 0 1 0 0 1 1 0 0 0 1 0 1 0 0 0 1 1 0 0 0 1 1 0 0 0 0]\n",
      "True: [0 0 1 0 1 1 0 0 1 0 0 1 0 0 0 1 1 0 1 1 0 0 1 0 0 1 1 0 1]\n",
      "F1 score: 0.3636363636363637\n",
      "origin pos:23.0 neg:34.0\n",
      "Epoch 1/6\n",
      "8/8 [==============================] - 1s 12ms/step - loss: 0.5208 - tp: 89.0000 - fp: 24.0000 - tn: 89.0000 - fn: 24.0000 - accuracy: 0.7876 - precision: 0.7876 - recall: 0.7876 - auc: 0.8563\n",
      "Epoch 2/6\n",
      "8/8 [==============================] - 0s 12ms/step - loss: 0.5154 - tp: 30.0000 - fp: 27.0000 - tn: 30.0000 - fn: 27.0000 - accuracy: 0.5263 - precision: 0.5263 - recall: 0.5263 - auc: 0.6106\n",
      "Epoch 3/6\n",
      "8/8 [==============================] - 0s 12ms/step - loss: 0.4533 - tp: 39.0000 - fp: 18.0000 - tn: 39.0000 - fn: 18.0000 - accuracy: 0.6842 - precision: 0.6842 - recall: 0.6842 - auc: 0.7879\n",
      "Epoch 4/6\n",
      "8/8 [==============================] - 0s 12ms/step - loss: 0.3231 - tp: 44.0000 - fp: 13.0000 - tn: 44.0000 - fn: 13.0000 - accuracy: 0.7719 - precision: 0.7719 - recall: 0.7719 - auc: 0.8512\n",
      "Epoch 5/6\n",
      "8/8 [==============================] - 0s 11ms/step - loss: 0.1807 - tp: 48.0000 - fp: 9.0000 - tn: 48.0000 - fn: 9.0000 - accuracy: 0.8421 - precision: 0.8421 - recall: 0.8421 - auc: 0.9274\n",
      "Epoch 6/6\n",
      "8/8 [==============================] - 0s 11ms/step - loss: 0.1629 - tp: 49.0000 - fp: 8.0000 - tn: 49.0000 - fn: 8.0000 - accuracy: 0.8596 - precision: 0.8596 - recall: 0.8596 - auc: 0.9280\n",
      "Predict: [1 1 1 0 1 0 0 1 0 1 0 1 1 0 1 0 0 1 1 0 0 1 0 0 1 1 1 1]\n",
      "True: [0 0 0 0 0 1 0 0 0 1 1 0 0 1 0 0 0 0 1 0 0 0 0 0 0 0 1 0]\n",
      "F1 score: 0.2727272727272727\n",
      "origin pos:19.0 neg:38.0\n",
      "Epoch 1/6\n",
      "8/8 [==============================] - 1s 12ms/step - loss: 0.5090 - tp: 85.0000 - fp: 29.0000 - tn: 85.0000 - fn: 29.0000 - accuracy: 0.7456 - precision: 0.7456 - recall: 0.7456 - auc: 0.8348\n",
      "Epoch 2/6\n",
      "8/8 [==============================] - 0s 12ms/step - loss: 0.4965 - tp: 38.0000 - fp: 19.0000 - tn: 38.0000 - fn: 19.0000 - accuracy: 0.6667 - precision: 0.6667 - recall: 0.6667 - auc: 0.7649\n",
      "Epoch 3/6\n",
      "8/8 [==============================] - 0s 9ms/step - loss: 0.4356 - tp: 38.0000 - fp: 19.0000 - tn: 38.0000 - fn: 19.0000 - accuracy: 0.6667 - precision: 0.6667 - recall: 0.6667 - auc: 0.8409\n",
      "Epoch 4/6\n",
      "8/8 [==============================] - 0s 8ms/step - loss: 0.2763 - tp: 53.0000 - fp: 4.0000 - tn: 53.0000 - fn: 4.0000 - accuracy: 0.9298 - precision: 0.9298 - recall: 0.9298 - auc: 0.9529 \n",
      "Epoch 5/6\n",
      "8/8 [==============================] - 0s 8ms/step - loss: 0.1159 - tp: 52.0000 - fp: 5.0000 - tn: 52.0000 - fn: 5.0000 - accuracy: 0.9123 - precision: 0.9123 - recall: 0.9123 - auc: 0.9415 \n",
      "Epoch 6/6\n",
      "8/8 [==============================] - 0s 8ms/step - loss: 0.1145 - tp: 52.0000 - fp: 5.0000 - tn: 52.0000 - fn: 5.0000 - accuracy: 0.9123 - precision: 0.9123 - recall: 0.9123 - auc: 0.9428     \n",
      "Predict: [0 1 0 0 1 0 1 1 1 0 0 1 0 0 1 0 0 0 1 0 1 1 0 0 0 0 0 0]\n",
      "True: [0 0 1 0 0 1 0 0 1 0 1 0 0 0 0 1 0 1 0 0 1 0 0 0 1 0 1 1]\n",
      "F1 score: 0.20000000000000004\n",
      "Intelligent\n",
      "origin pos:35.0 neg:21.0\n",
      "Epoch 1/6\n",
      "7/7 [==============================] - 1s 7ms/step - loss: 0.5194 - tp: 84.0000 - fp: 29.0000 - tn: 84.0000 - fn: 29.0000 - accuracy: 0.7434 - precision: 0.7434 - recall: 0.7434 - auc: 0.8498\n",
      "Epoch 2/6\n",
      "7/7 [==============================] - 0s 6ms/step - loss: 0.5102 - tp: 35.0000 - fp: 21.0000 - tn: 35.0000 - fn: 21.0000 - accuracy: 0.6250 - precision: 0.6250 - recall: 0.6250 - auc: 0.6221\n",
      "Epoch 3/6\n",
      "7/7 [==============================] - 0s 7ms/step - loss: 0.4475 - tp: 41.0000 - fp: 15.0000 - tn: 41.0000 - fn: 15.0000 - accuracy: 0.7321 - precision: 0.7321 - recall: 0.7321 - auc: 0.8315\n",
      "Epoch 4/6\n",
      "7/7 [==============================] - 0s 10ms/step - loss: 0.3255 - tp: 42.0000 - fp: 14.0000 - tn: 42.0000 - fn: 14.0000 - accuracy: 0.7500 - precision: 0.7500 - recall: 0.7500 - auc: 0.8517\n",
      "Epoch 5/6\n",
      "7/7 [==============================] - 0s 9ms/step - loss: 0.1391 - tp: 51.0000 - fp: 5.0000 - tn: 51.0000 - fn: 5.0000 - accuracy: 0.9107 - precision: 0.9107 - recall: 0.9107 - auc: 0.9499\n",
      "Epoch 6/6\n",
      "7/7 [==============================] - 0s 10ms/step - loss: 0.1157 - tp: 53.0000 - fp: 3.0000 - tn: 53.0000 - fn: 3.0000 - accuracy: 0.9464 - precision: 0.9464 - recall: 0.9464 - auc: 0.9563\n",
      "Predict: [1 0 1 0 1 0 1 0 1 0 0 0 1 0 0 1 0 0 0 0 0 0 0 0 0 1 0 1 1]\n",
      "True: [0 1 0 0 1 0 1 1 0 0 1 1 0 0 1 0 0 1 1 1 1 1 0 0 1 1 0 0 1]\n",
      "F1 score: 0.32\n",
      "origin pos:33.0 neg:24.0\n",
      "Epoch 1/6\n",
      "8/8 [==============================] - 1s 8ms/step - loss: 0.5168 - tp: 83.0000 - fp: 30.0000 - tn: 83.0000 - fn: 30.0000 - accuracy: 0.7345 - precision: 0.7345 - recall: 0.7345 - auc: 0.8362\n",
      "Epoch 2/6\n",
      "8/8 [==============================] - 0s 8ms/step - loss: 0.5319 - tp: 30.0000 - fp: 27.0000 - tn: 30.0000 - fn: 27.0000 - accuracy: 0.5263 - precision: 0.5263 - recall: 0.5263 - auc: 0.5355\n",
      "Epoch 3/6\n",
      "8/8 [==============================] - 0s 8ms/step - loss: 0.4754 - tp: 32.0000 - fp: 25.0000 - tn: 32.0000 - fn: 25.0000 - accuracy: 0.5614 - precision: 0.5614 - recall: 0.5614 - auc: 0.7088\n",
      "Epoch 4/6\n",
      "8/8 [==============================] - 0s 8ms/step - loss: 0.3556 - tp: 43.0000 - fp: 14.0000 - tn: 43.0000 - fn: 14.0000 - accuracy: 0.7544 - precision: 0.7544 - recall: 0.7544 - auc: 0.8538\n",
      "Epoch 5/6\n",
      "8/8 [==============================] - 0s 8ms/step - loss: 0.1302 - tp: 53.0000 - fp: 4.0000 - tn: 53.0000 - fn: 4.0000 - accuracy: 0.9298 - precision: 0.9298 - recall: 0.9298 - auc: 0.9726 \n",
      "Epoch 6/6\n",
      "8/8 [==============================] - 0s 8ms/step - loss: 0.0570 - tp: 55.0000 - fp: 2.0000 - tn: 55.0000 - fn: 2.0000 - accuracy: 0.9649 - precision: 0.9649 - recall: 0.9649 - auc: 0.9791\n",
      "Predict: [1 0 0 0 1 0 1 0 0 1 1 0 0 1 1 1 1 0 0 0 1 0 1 1 0 0 0 0]\n",
      "True: [0 0 0 1 0 1 1 1 0 1 1 1 1 1 1 1 1 0 0 1 0 1 0 0 1 1 0 1]\n",
      "F1 score: 0.4827586206896552\n",
      "origin pos:32.0 neg:25.0\n",
      "Epoch 1/6\n",
      "8/8 [==============================] - 1s 14ms/step - loss: 0.5572 - tp: 74.0000 - fp: 40.0000 - tn: 74.0000 - fn: 40.0000 - accuracy: 0.6491 - precision: 0.6491 - recall: 0.6491 - auc: 0.8083\n",
      "Epoch 2/6\n",
      "8/8 [==============================] - 0s 12ms/step - loss: 0.5216 - tp: 31.0000 - fp: 26.0000 - tn: 31.0000 - fn: 26.0000 - accuracy: 0.5439 - precision: 0.5439 - recall: 0.5439 - auc: 0.5388\n",
      "Epoch 3/6\n",
      "8/8 [==============================] - 0s 11ms/step - loss: 0.5278 - tp: 30.0000 - fp: 27.0000 - tn: 30.0000 - fn: 27.0000 - accuracy: 0.5263 - precision: 0.5263 - recall: 0.5263 - auc: 0.5777\n",
      "Epoch 4/6\n"
     ]
    },
    {
     "name": "stdout",
     "output_type": "stream",
     "text": [
      "8/8 [==============================] - 0s 13ms/step - loss: 0.4749 - tp: 33.0000 - fp: 24.0000 - tn: 33.0000 - fn: 24.0000 - accuracy: 0.5789 - precision: 0.5789 - recall: 0.5789 - auc: 0.6713\n",
      "Epoch 5/6\n",
      "8/8 [==============================] - 0s 8ms/step - loss: 0.3318 - tp: 44.0000 - fp: 13.0000 - tn: 44.0000 - fn: 13.0000 - accuracy: 0.7719 - precision: 0.7719 - recall: 0.7719 - auc: 0.8456\n",
      "Epoch 6/6\n",
      "8/8 [==============================] - 0s 8ms/step - loss: 0.1367 - tp: 53.0000 - fp: 4.0000 - tn: 53.0000 - fn: 4.0000 - accuracy: 0.9298 - precision: 0.9298 - recall: 0.9298 - auc: 0.9471\n",
      "Predict: [0 0 0 1 1 1 0 1 1 0 0 1 1 0 0 1 1 1 0 0 0 0 1 1 0 1 0 1]\n",
      "True: [0 1 0 0 1 1 1 1 1 1 0 1 1 1 0 1 0 0 0 1 1 1 1 0 1 0 1 1]\n",
      "F1 score: 0.5625000000000001\n",
      "Responsible\n",
      "origin pos:25.0 neg:31.0\n",
      "Epoch 1/6\n",
      "7/7 [==============================] - 1s 7ms/step - loss: 0.5179 - tp: 80.0000 - fp: 33.0000 - tn: 80.0000 - fn: 33.0000 - accuracy: 0.7080 - precision: 0.7080 - recall: 0.7080 - auc: 0.8232\n",
      "Epoch 2/6\n",
      "7/7 [==============================] - 0s 9ms/step - loss: 0.4637 - tp: 36.0000 - fp: 20.0000 - tn: 36.0000 - fn: 20.0000 - accuracy: 0.6429 - precision: 0.6429 - recall: 0.6429 - auc: 0.7522\n",
      "Epoch 3/6\n",
      "7/7 [==============================] - 0s 8ms/step - loss: 0.3062 - tp: 47.0000 - fp: 9.0000 - tn: 47.0000 - fn: 9.0000 - accuracy: 0.8393 - precision: 0.8393 - recall: 0.8393 - auc: 0.9072\n",
      "Epoch 4/6\n",
      "7/7 [==============================] - 0s 7ms/step - loss: 0.0737 - tp: 53.0000 - fp: 3.0000 - tn: 53.0000 - fn: 3.0000 - accuracy: 0.9464 - precision: 0.9464 - recall: 0.9464 - auc: 0.9716  \n",
      "Epoch 5/6\n",
      "7/7 [==============================] - 0s 7ms/step - loss: 0.2864 - tp: 41.0000 - fp: 15.0000 - tn: 41.0000 - fn: 15.0000 - accuracy: 0.7321 - precision: 0.7321 - recall: 0.7321 - auc: 0.7695    \n",
      "Epoch 6/6\n",
      "7/7 [==============================] - 0s 7ms/step - loss: 0.2666 - tp: 46.0000 - fp: 10.0000 - tn: 46.0000 - fn: 10.0000 - accuracy: 0.8214 - precision: 0.8214 - recall: 0.8214 - auc: 0.8268\n",
      "Predict: [0 0 0 1 0 0 0 1 0 0 0 0 0 0 0 0 0 0 0 1 1 0 0 0 0 0 0 0 0]\n",
      "True: [1 1 1 1 0 0 0 0 1 0 1 1 0 0 1 1 0 1 0 0 1 1 0 0 1 1 1 0 1]\n",
      "F1 score: 0.2\n",
      "origin pos:28.0 neg:29.0\n",
      "Epoch 1/6\n",
      "8/8 [==============================] - 1s 12ms/step - loss: 0.5263 - tp: 73.0000 - fp: 40.0000 - tn: 73.0000 - fn: 40.0000 - accuracy: 0.6460 - precision: 0.6460 - recall: 0.6460 - auc: 0.7342\n",
      "Epoch 2/6\n",
      "8/8 [==============================] - 0s 15ms/step - loss: 0.5077 - tp: 26.0000 - fp: 31.0000 - tn: 26.0000 - fn: 31.0000 - accuracy: 0.4561 - precision: 0.4561 - recall: 0.4561 - auc: 0.4763\n",
      "Epoch 3/6\n",
      "8/8 [==============================] - 0s 14ms/step - loss: 0.4860 - tp: 31.0000 - fp: 26.0000 - tn: 31.0000 - fn: 26.0000 - accuracy: 0.5439 - precision: 0.5439 - recall: 0.5439 - auc: 0.6254\n",
      "Epoch 4/6\n",
      "8/8 [==============================] - 0s 12ms/step - loss: 0.4297 - tp: 46.0000 - fp: 11.0000 - tn: 46.0000 - fn: 11.0000 - accuracy: 0.8070 - precision: 0.8070 - recall: 0.8070 - auc: 0.7913\n",
      "Epoch 5/6\n",
      "8/8 [==============================] - 0s 8ms/step - loss: 0.2185 - tp: 49.0000 - fp: 8.0000 - tn: 49.0000 - fn: 8.0000 - accuracy: 0.8596 - precision: 0.8596 - recall: 0.8596 - auc: 0.9049\n",
      "Epoch 6/6\n",
      "8/8 [==============================] - 0s 8ms/step - loss: 0.1428 - tp: 49.0000 - fp: 8.0000 - tn: 49.0000 - fn: 8.0000 - accuracy: 0.8596 - precision: 0.8596 - recall: 0.8596 - auc: 0.9181\n",
      "Predict: [1 0 0 0 1 1 0 0 0 1 0 0 0 0 0 0 0 0 0 0 0 0 0 0 1 1 1 0]\n",
      "True: [1 0 1 0 1 1 0 0 1 0 1 0 0 1 0 0 1 1 0 0 1 0 1 0 0 1 0 1]\n",
      "F1 score: 0.4\n",
      "origin pos:29.0 neg:28.0\n",
      "Epoch 1/6\n",
      "8/8 [==============================] - 1s 8ms/step - loss: 0.5382 - tp: 69.0000 - fp: 45.0000 - tn: 69.0000 - fn: 45.0000 - accuracy: 0.6053 - precision: 0.6053 - recall: 0.6053 - auc: 0.7540\n",
      "Epoch 2/6\n",
      "8/8 [==============================] - 0s 8ms/step - loss: 0.5141 - tp: 33.0000 - fp: 24.0000 - tn: 33.0000 - fn: 24.0000 - accuracy: 0.5789 - precision: 0.5789 - recall: 0.5789 - auc: 0.6493\n",
      "Epoch 3/6\n",
      "8/8 [==============================] - 0s 8ms/step - loss: 0.4359 - tp: 42.0000 - fp: 15.0000 - tn: 42.0000 - fn: 15.0000 - accuracy: 0.7368 - precision: 0.7368 - recall: 0.7368 - auc: 0.7998\n",
      "Epoch 4/6\n",
      "8/8 [==============================] - 0s 8ms/step - loss: 0.1987 - tp: 49.0000 - fp: 8.0000 - tn: 49.0000 - fn: 8.0000 - accuracy: 0.8596 - precision: 0.8596 - recall: 0.8596 - auc: 0.9049\n",
      "Epoch 5/6\n",
      "8/8 [==============================] - 0s 12ms/step - loss: 0.1489 - tp: 48.0000 - fp: 9.0000 - tn: 48.0000 - fn: 9.0000 - accuracy: 0.8421 - precision: 0.8421 - recall: 0.8421 - auc: 0.9234\n",
      "Epoch 6/6\n",
      "8/8 [==============================] - 0s 13ms/step - loss: 0.1559 - tp: 49.0000 - fp: 8.0000 - tn: 49.0000 - fn: 8.0000 - accuracy: 0.8596 - precision: 0.8596 - recall: 0.8596 - auc: 0.9141\n",
      "Predict: [0 0 0 0 1 0 1 0 0 0 1 0 0 0 1 0 1 0 0 1 1 1 1 1 0 0 0 0]\n",
      "True: [0 1 1 0 0 0 1 1 1 0 0 1 1 0 1 0 1 1 0 0 1 0 0 0 1 0 0 0]\n",
      "F1 score: 0.3636363636363636\n",
      "Sociable\n",
      "origin pos:16.0 neg:40.0\n",
      "Epoch 1/6\n",
      "7/7 [==============================] - 1s 7ms/step - loss: 0.5269 - tp: 87.0000 - fp: 26.0000 - tn: 87.0000 - fn: 26.0000 - accuracy: 0.7699 - precision: 0.7699 - recall: 0.7699 - auc: 0.8312\n",
      "Epoch 2/6\n",
      "7/7 [==============================] - 0s 7ms/step - loss: 0.4890 - tp: 40.0000 - fp: 16.0000 - tn: 40.0000 - fn: 16.0000 - accuracy: 0.7143 - precision: 0.7143 - recall: 0.7143 - auc: 0.7924\n",
      "Epoch 3/6\n",
      "7/7 [==============================] - 0s 8ms/step - loss: 0.4356 - tp: 40.0000 - fp: 16.0000 - tn: 40.0000 - fn: 16.0000 - accuracy: 0.7143 - precision: 0.7143 - recall: 0.7143 - auc: 0.8804\n",
      "Epoch 4/6\n",
      "7/7 [==============================] - 0s 7ms/step - loss: 0.3052 - tp: 44.0000 - fp: 12.0000 - tn: 44.0000 - fn: 12.0000 - accuracy: 0.7857 - precision: 0.7857 - recall: 0.7857 - auc: 0.9251\n",
      "Epoch 5/6\n",
      "7/7 [==============================] - 0s 7ms/step - loss: 0.1748 - tp: 54.0000 - fp: 2.0000 - tn: 54.0000 - fn: 2.0000 - accuracy: 0.9643 - precision: 0.9643 - recall: 0.9643 - auc: 0.9943  \n",
      "Epoch 6/6\n",
      "7/7 [==============================] - 0s 7ms/step - loss: 0.1233 - tp: 53.0000 - fp: 3.0000 - tn: 53.0000 - fn: 3.0000 - accuracy: 0.9464 - precision: 0.9464 - recall: 0.9464 - auc: 0.9882  \n",
      "Predict: [0 0 0 0 0 0 0 1 1 0 0 0 0 0 0 0 0 0 0 1 0 0 0 0 0 1 0 0 0]\n",
      "True: [1 1 0 1 1 0 0 0 0 1 1 1 1 0 0 1 0 0 0 0 0 1 0 1 1 0 1 1 0]\n",
      "F1 score: 0.0\n",
      "origin pos:24.0 neg:33.0\n",
      "Epoch 1/6\n",
      "8/8 [==============================] - 1s 13ms/step - loss: 0.5279 - tp: 84.0000 - fp: 29.0000 - tn: 84.0000 - fn: 29.0000 - accuracy: 0.7434 - precision: 0.7434 - recall: 0.7434 - auc: 0.8533\n",
      "Epoch 2/6\n",
      "8/8 [==============================] - 0s 13ms/step - loss: 0.5247 - tp: 33.0000 - fp: 24.0000 - tn: 33.0000 - fn: 24.0000 - accuracy: 0.5789 - precision: 0.5789 - recall: 0.5789 - auc: 0.6002\n",
      "Epoch 3/6\n",
      "8/8 [==============================] - 0s 12ms/step - loss: 0.5253 - tp: 33.0000 - fp: 24.0000 - tn: 33.0000 - fn: 24.0000 - accuracy: 0.5789 - precision: 0.5789 - recall: 0.5789 - auc: 0.6661\n",
      "Epoch 4/6\n",
      "8/8 [==============================] - 0s 13ms/step - loss: 0.3814 - tp: 48.0000 - fp: 9.0000 - tn: 48.0000 - fn: 9.0000 - accuracy: 0.8421 - precision: 0.8421 - recall: 0.8421 - auc: 0.8652\n",
      "Epoch 5/6\n",
      "8/8 [==============================] - 0s 14ms/step - loss: 0.1389 - tp: 53.0000 - fp: 4.0000 - tn: 53.0000 - fn: 4.0000 - accuracy: 0.9298 - precision: 0.9298 - recall: 0.9298 - auc: 0.9403\n",
      "Epoch 6/6\n",
      "8/8 [==============================] - 0s 8ms/step - loss: 0.1860 - tp: 50.0000 - fp: 7.0000 - tn: 50.0000 - fn: 7.0000 - accuracy: 0.8772 - precision: 0.8772 - recall: 0.8772 - auc: 0.9431\n",
      "Predict: [1 1 1 1 0 1 1 1 1 1 1 1 1 0 1 1 1 1 1 1 0 0 0 1 1 0 0 1]\n",
      "True: [0 0 0 0 1 0 0 0 0 0 1 1 0 0 0 0 0 0 0 1 1 0 0 1 0 0 0 0]\n",
      "F1 score: 0.2962962962962963\n",
      "origin pos:20.0 neg:37.0\n",
      "Epoch 1/6\n",
      "8/8 [==============================] - 1s 8ms/step - loss: 0.5156 - tp: 88.0000 - fp: 26.0000 - tn: 88.0000 - fn: 26.0000 - accuracy: 0.7719 - precision: 0.7719 - recall: 0.7719 - auc: 0.8397\n",
      "Epoch 2/6\n",
      "8/8 [==============================] - 0s 7ms/step - loss: 0.5237 - tp: 37.0000 - fp: 20.0000 - tn: 37.0000 - fn: 20.0000 - accuracy: 0.6491 - precision: 0.6491 - recall: 0.6491 - auc: 0.6522\n",
      "Epoch 3/6\n"
     ]
    },
    {
     "name": "stdout",
     "output_type": "stream",
     "text": [
      "8/8 [==============================] - 0s 8ms/step - loss: 0.4570 - tp: 37.0000 - fp: 20.0000 - tn: 37.0000 - fn: 20.0000 - accuracy: 0.6491 - precision: 0.6491 - recall: 0.6491 - auc: 0.7956\n",
      "Epoch 4/6\n",
      "8/8 [==============================] - 0s 8ms/step - loss: 0.3235 - tp: 44.0000 - fp: 13.0000 - tn: 44.0000 - fn: 13.0000 - accuracy: 0.7719 - precision: 0.7719 - recall: 0.7719 - auc: 0.9135\n",
      "Epoch 5/6\n",
      "8/8 [==============================] - 0s 8ms/step - loss: 0.1474 - tp: 54.0000 - fp: 3.0000 - tn: 54.0000 - fn: 3.0000 - accuracy: 0.9474 - precision: 0.9474 - recall: 0.9474 - auc: 0.9809 \n",
      "Epoch 6/6\n",
      "8/8 [==============================] - 0s 9ms/step - loss: 0.0573 - tp: 57.0000 - fp: 0.0000e+00 - tn: 57.0000 - fn: 0.0000e+00 - accuracy: 1.0000 - precision: 1.0000 - recall: 1.0000 - auc: 1.0000\n",
      "Predict: [0 1 0 0 0 0 1 0 0 0 0 1 0 0 1 0 0 0 0 1 0 0 0 1 0 0 0 0]\n",
      "True: [0 0 1 1 1 1 0 0 0 0 1 0 1 0 0 0 0 1 0 1 0 0 1 1 0 0 0 0]\n",
      "F1 score: 0.25\n",
      "Trustworthy\n",
      "origin pos:10.0 neg:46.0\n",
      "Epoch 1/6\n",
      "7/7 [==============================] - 1s 11ms/step - loss: 0.5313 - tp: 98.0000 - fp: 15.0000 - tn: 98.0000 - fn: 15.0000 - accuracy: 0.8673 - precision: 0.8673 - recall: 0.8673 - auc: 0.9523\n",
      "Epoch 2/6\n",
      "7/7 [==============================] - 0s 11ms/step - loss: 0.5186 - tp: 46.0000 - fp: 10.0000 - tn: 46.0000 - fn: 10.0000 - accuracy: 0.8214 - precision: 0.8214 - recall: 0.8214 - auc: 0.8721\n",
      "Epoch 3/6\n",
      "7/7 [==============================] - 0s 10ms/step - loss: 0.4301 - tp: 46.0000 - fp: 10.0000 - tn: 46.0000 - fn: 10.0000 - accuracy: 0.8214 - precision: 0.8214 - recall: 0.8214 - auc: 0.9429\n",
      "Epoch 4/6\n",
      "7/7 [==============================] - 0s 11ms/step - loss: 0.3164 - tp: 46.0000 - fp: 10.0000 - tn: 46.0000 - fn: 10.0000 - accuracy: 0.8214 - precision: 0.8214 - recall: 0.8214 - auc: 0.9585\n",
      "Epoch 5/6\n",
      "7/7 [==============================] - 0s 10ms/step - loss: 0.2526 - tp: 53.0000 - fp: 3.0000 - tn: 53.0000 - fn: 3.0000 - accuracy: 0.9464 - precision: 0.9464 - recall: 0.9464 - auc: 0.9761\n",
      "Epoch 6/6\n",
      "7/7 [==============================] - 0s 8ms/step - loss: 0.2225 - tp: 55.0000 - fp: 1.0000 - tn: 55.0000 - fn: 1.0000 - accuracy: 0.9821 - precision: 0.9821 - recall: 0.9821 - auc: 0.9793\n",
      "Predict: [0 0 0 0 0 0 0 0 0 0 0 0 0 0 0 0 0 1 0 0 0 0 0 0 0 0 0 1 0]\n",
      "True: [1 0 0 1 1 1 1 0 0 0 0 0 0 0 0 0 0 0 0 1 0 0 0 0 1 1 0 1 0]\n",
      "F1 score: 0.1818181818181818\n",
      "origin pos:18.0 neg:39.0\n",
      "Epoch 1/6\n",
      "8/8 [==============================] - 1s 9ms/step - loss: 0.5210 - tp: 92.0000 - fp: 21.0000 - tn: 92.0000 - fn: 21.0000 - accuracy: 0.8142 - precision: 0.8142 - recall: 0.8142 - auc: 0.8958\n",
      "Epoch 2/6\n",
      "8/8 [==============================] - 0s 8ms/step - loss: 0.5196 - tp: 39.0000 - fp: 18.0000 - tn: 39.0000 - fn: 18.0000 - accuracy: 0.6842 - precision: 0.6842 - recall: 0.6842 - auc: 0.7735\n",
      "Epoch 3/6\n",
      "8/8 [==============================] - 0s 9ms/step - loss: 0.4398 - tp: 45.0000 - fp: 12.0000 - tn: 45.0000 - fn: 12.0000 - accuracy: 0.7895 - precision: 0.7895 - recall: 0.7895 - auc: 0.8932\n",
      "Epoch 4/6\n",
      "8/8 [==============================] - 0s 8ms/step - loss: 0.3651 - tp: 46.0000 - fp: 11.0000 - tn: 46.0000 - fn: 11.0000 - accuracy: 0.8070 - precision: 0.8070 - recall: 0.8070 - auc: 0.9104\n",
      "Epoch 5/6\n",
      "8/8 [==============================] - 0s 8ms/step - loss: 0.1703 - tp: 53.0000 - fp: 4.0000 - tn: 53.0000 - fn: 4.0000 - accuracy: 0.9298 - precision: 0.9298 - recall: 0.9298 - auc: 0.9584\n",
      "Epoch 6/6\n",
      "8/8 [==============================] - 0s 8ms/step - loss: 0.2127 - tp: 51.0000 - fp: 6.0000 - tn: 51.0000 - fn: 6.0000 - accuracy: 0.8947 - precision: 0.8947 - recall: 0.8947 - auc: 0.9060 \n",
      "Predict: [0 0 0 0 0 0 0 0 0 0 0 1 0 0 0 0 0 0 0 0 0 0 0 0 0 0 0 0]\n",
      "True: [0 0 0 0 0 0 0 0 0 0 0 0 0 0 0 0 0 0 0 0 0 0 0 0 0 1 0 0]\n",
      "F1 score: 0.0\n",
      "origin pos:10.0 neg:47.0\n",
      "Epoch 1/6\n",
      "8/8 [==============================] - 1s 12ms/step - loss: 0.5383 - tp: 98.0000 - fp: 16.0000 - tn: 98.0000 - fn: 16.0000 - accuracy: 0.8596 - precision: 0.8596 - recall: 0.8596 - auc: 0.8784\n",
      "Epoch 2/6\n",
      "8/8 [==============================] - 0s 12ms/step - loss: 0.4986 - tp: 47.0000 - fp: 10.0000 - tn: 47.0000 - fn: 10.0000 - accuracy: 0.8246 - precision: 0.8246 - recall: 0.8246 - auc: 0.8720\n",
      "Epoch 3/6\n",
      "8/8 [==============================] - 0s 13ms/step - loss: 0.4297 - tp: 47.0000 - fp: 10.0000 - tn: 47.0000 - fn: 10.0000 - accuracy: 0.8246 - precision: 0.8246 - recall: 0.8246 - auc: 0.9464\n",
      "Epoch 4/6\n",
      "8/8 [==============================] - 0s 13ms/step - loss: 0.3132 - tp: 47.0000 - fp: 10.0000 - tn: 47.0000 - fn: 10.0000 - accuracy: 0.8246 - precision: 0.8246 - recall: 0.8246 - auc: 0.9668\n",
      "Epoch 5/6\n",
      "8/8 [==============================] - 0s 12ms/step - loss: 0.2728 - tp: 55.0000 - fp: 2.0000 - tn: 55.0000 - fn: 2.0000 - accuracy: 0.9649 - precision: 0.9649 - recall: 0.9649 - auc: 0.9888\n",
      "Epoch 6/6\n",
      "8/8 [==============================] - 0s 8ms/step - loss: 0.2149 - tp: 57.0000 - fp: 0.0000e+00 - tn: 57.0000 - fn: 0.0000e+00 - accuracy: 1.0000 - precision: 1.0000 - recall: 1.0000 - auc: 1.0000\n",
      "Predict: [0 0 0 0 0 0 0 0 0 0 0 0 0 0 0 0 0 0 0 0 0 0 0 0 0 0 0 0]\n",
      "True: [0 0 1 1 1 0 0 0 1 0 0 0 0 1 0 0 0 0 0 0 0 0 1 0 0 1 1 1]\n",
      "F1 score: 0.0\n"
     ]
    }
   ],
   "source": [
    "f1_dict = dict()\n",
    "\n",
    "for label in labels:\n",
    "    y_raw = df[label]\n",
    "    y = tf.keras.utils.to_categorical(y_raw)\n",
    "    \n",
    "    f1_dict[label] = []\n",
    "    print(label)\n",
    "    \n",
    "    for train_index, test_index in kf.split(X):     \n",
    "        X_train, X_test = X[train_index], X[test_index]\n",
    "        y_train, y_test = y[train_index], y[test_index]\n",
    "        \n",
    "        neg = y_train.sum(axis=0)[0]\n",
    "        pos = y_train.sum(axis=0)[1]\n",
    "        total = pos + neg\n",
    "        print(f\"origin pos:{pos} neg:{neg}\")\n",
    "\n",
    "        # クラスの重み\n",
    "        weight_for_0 = (1 / neg) * (total / 2.0)\n",
    "        weight_for_1 = (1 / pos) * (total / 2.0)\n",
    "        class_weight = {0: weight_for_0, 1: weight_for_1}\n",
    "        \n",
    "        model = get_binary_model()\n",
    "        \n",
    "        # 初期重みの最適化\n",
    "        initial_bias = np.log([neg/pos])\n",
    "        model.layers[-1].bias_initializer=initial_bias\n",
    "        \n",
    "        model.compile(loss=f1_loss, optimizer=\"adam\", metrics=METRICS)\n",
    "        model.fit(X_train, y_train, batch_size=8, epochs=6, class_weight=class_weight)\n",
    "        y_pred_tf = model.predict(X_test, batch_size=1)\n",
    "        y_pred = np.argmax(y_pred_tf, axis=1)\n",
    "        y_test_sk = np.argmax(y_test, axis=1)\n",
    "        print(\"Predict:\", y_pred)\n",
    "        print(\"True:\", y_test_sk)\n",
    "        f1 = f1_score(y_test_sk, y_pred, average=\"binary\")\n",
    "        print(\"F1 score:\", f1)\n",
    "        f1_dict[label].append(f1)\n",
    "        del model\n",
    "        gc.collect()\n",
    "    "
   ]
  },
  {
   "cell_type": "code",
   "execution_count": 85,
   "id": "f44638be",
   "metadata": {},
   "outputs": [],
   "source": [
    "f1_list = []\n",
    "for label in labels:\n",
    "    f1_list.append(np.mean(f1_dict[label]))\n",
    "macro_f1_val = np.mean(f1_list) "
   ]
  },
  {
   "cell_type": "code",
   "execution_count": 86,
   "id": "7699672a",
   "metadata": {},
   "outputs": [
    {
     "data": {
      "image/png": "[encoded data removed]",
      "text/plain": [
       "<Figure size 720x288 with 1 Axes>"
      ]
     },
     "metadata": {
      "needs_background": "light"
     },
     "output_type": "display_data"
    }
   ],
   "source": [
    "plt.figure(figsize=(10,4))\n",
    "plt.bar(f1_dict.keys(), f1_list)\n",
    "plt.title(f\"Average F1 score per label  (macro-f1: {macro_f1_val:.3f})\")\n",
    "plt.show() ;"
   ]
  },
  {
   "cell_type": "markdown",
   "id": "e45111c2",
   "metadata": {},
   "source": [
    "### いろいろやってみてわかること\n",
    " - Predictを見るとわかるが，まったく学習できていない\n",
    " - 役に立たない　やはりデータが少なすぎるか\n",
    " - f1をlossに用いるほうが全然良い\n",
    " - macro-f1はf1の平均"
   ]
  },
  {
   "cell_type": "code",
   "execution_count": null,
   "id": "a5724d0d",
   "metadata": {},
   "outputs": [],
   "source": [
    "from numba import cuda\n",
    "\n",
    "# 下記の場合は/gpu:0に関してCUDA処理をcloseしています。\n",
    "cuda.select_device(0)\n",
    "cuda.close()"
   ]
  },
  {
   "cell_type": "markdown",
   "id": "c95bf039",
   "metadata": {},
   "source": [
    "# マルチラベル問題"
   ]
  },
  {
   "cell_type": "code",
   "execution_count": null,
   "id": "21c27ac6",
   "metadata": {},
   "outputs": [],
   "source": [
    "del model"
   ]
  },
  {
   "cell_type": "markdown",
   "id": "166b614e",
   "metadata": {},
   "source": [
    "cf．https://towardsdatascience.com/multi-label-image-classification-in-tensorflow-2-0-7d4cf8a4bc72"
   ]
  },
  {
   "cell_type": "code",
   "execution_count": 88,
   "id": "ab04ebc3",
   "metadata": {},
   "outputs": [],
   "source": [
    "def macro_f1(y, y_hat, thresh=0.5):\n",
    "    \"\"\"Compute the macro F1-score on a batch of observations (average F1 across labels)\n",
    "    \n",
    "    Args:\n",
    "        y (int32 Tensor): labels array of shape (BATCH_SIZE, N_LABELS)\n",
    "        y_hat (float32 Tensor): probability matrix from forward propagation of shape (BATCH_SIZE, N_LABELS)\n",
    "        thresh: probability value above which we predict positive\n",
    "        \n",
    "    Returns:\n",
    "        macro_f1 (scalar Tensor): value of macro F1 for the batch\n",
    "    \"\"\"\n",
    "    y_pred = tf.cast(tf.greater(y_hat, thresh), tf.float32)\n",
    "    tp = tf.cast(tf.math.count_nonzero(y_pred * y, axis=0), tf.float32)\n",
    "    fp = tf.cast(tf.math.count_nonzero(y_pred * (1 - y), axis=0), tf.float32)\n",
    "    fn = tf.cast(tf.math.count_nonzero((1 - y_pred) * y, axis=0), tf.float32)\n",
    "    f1 = 2*tp / (2*tp + fn + fp + 1e-16)\n",
    "    macro_f1 = tf.reduce_mean(f1)\n",
    "    return macro_f1"
   ]
  },
  {
   "cell_type": "code",
   "execution_count": 180,
   "id": "21a792b6",
   "metadata": {},
   "outputs": [],
   "source": [
    "@tf.function\n",
    "def macro_soft_f1(y, y_hat):\n",
    "    \"\"\"Compute the macro soft F1-score as a cost (average 1 - soft-F1 across all labels).\n",
    "    Use probability values instead of binary predictions.\n",
    "    \n",
    "    Args:\n",
    "        y (int32 Tensor): targets array of shape (BATCH_SIZE, N_LABELS)\n",
    "        y_hat (float32 Tensor): probability matrix from forward propagation of shape (BATCH_SIZE, N_LABELS)\n",
    "        \n",
    "    Returns:\n",
    "        cost (scalar Tensor): value of the cost function for the batch\n",
    "    \"\"\"\n",
    "    y = tf.cast(y, tf.float32)\n",
    "    y_hat = tf.cast(y_hat, tf.float32)\n",
    "    tp = tf.reduce_sum(y_hat * y, axis=0)\n",
    "    fp = tf.reduce_sum(y_hat * (1 - y), axis=0)\n",
    "    fn = tf.reduce_sum((1 - y_hat) * y, axis=0)\n",
    "    soft_f1 = 2*tp / (2*tp + fn + fp + 1e-16)\n",
    "    cost = 1 - soft_f1 # reduce 1 - soft-f1 in order to increase soft-f1\n",
    "    macro_cost = tf.reduce_mean(cost) # average on all labels\n",
    "    return macro_cost"
   ]
  },
  {
   "cell_type": "code",
   "execution_count": 181,
   "id": "97351565",
   "metadata": {},
   "outputs": [],
   "source": [
    "def get_multi_model():\n",
    "    input_ts = Input(shape=(512,))\n",
    "    dense1 = Dense(512, activation=\"relu\")(input_ts)\n",
    "    dense2 = Dense(1024, activation=\"relu\")(dense1)\n",
    "    drop1 = Dropout(0.4)(dense2)\n",
    "    dense3 = Dense(1024, activation=\"relu\")(drop1)\n",
    "    drop2 = Dropout(0.4)(dense3)\n",
    "    dense4 = Dense(512, activation=\"relu\")(drop2)\n",
    "    dense5 = Dense(256, activation=\"relu\")(dense4)\n",
    "    dense6 = Dense(128, activation=\"relu\")(dense5)\n",
    "    drop3 = Dropout(0.2)(dense6)\n",
    "    final = Dense(len(labels), activation=\"sigmoid\")(drop3)\n",
    "    \n",
    "    model = Model(\n",
    "        inputs=[input_ts],\n",
    "        outputs=[final]\n",
    "    )\n",
    "    return model"
   ]
  },
  {
   "cell_type": "code",
   "execution_count": 182,
   "id": "e44ab02d",
   "metadata": {},
   "outputs": [],
   "source": [
    "model = get_multi_model()"
   ]
  },
  {
   "cell_type": "code",
   "execution_count": 183,
   "id": "f915e7dc",
   "metadata": {},
   "outputs": [
    {
     "name": "stdout",
     "output_type": "stream",
     "text": [
      "Model: \"model_173\"\n",
      "_________________________________________________________________\n",
      " Layer (type)                Output Shape              Param #   \n",
      "=================================================================\n",
      " input_174 (InputLayer)      [(None, 512)]             0         \n",
      "                                                                 \n",
      " dense_1211 (Dense)          (None, 512)               262656    \n",
      "                                                                 \n",
      " dense_1212 (Dense)          (None, 1024)              525312    \n",
      "                                                                 \n",
      " dropout_519 (Dropout)       (None, 1024)              0         \n",
      "                                                                 \n",
      " dense_1213 (Dense)          (None, 1024)              1049600   \n",
      "                                                                 \n",
      " dropout_520 (Dropout)       (None, 1024)              0         \n",
      "                                                                 \n",
      " dense_1214 (Dense)          (None, 512)               524800    \n",
      "                                                                 \n",
      " dense_1215 (Dense)          (None, 256)               131328    \n",
      "                                                                 \n",
      " dense_1216 (Dense)          (None, 128)               32896     \n",
      "                                                                 \n",
      " dropout_521 (Dropout)       (None, 128)               0         \n",
      "                                                                 \n",
      " dense_1217 (Dense)          (None, 7)                 903       \n",
      "                                                                 \n",
      "=================================================================\n",
      "Total params: 2,527,495\n",
      "Trainable params: 2,527,495\n",
      "Non-trainable params: 0\n",
      "_________________________________________________________________\n"
     ]
    }
   ],
   "source": [
    "model.summary()"
   ]
  },
  {
   "cell_type": "code",
   "execution_count": 184,
   "id": "38a8ea24",
   "metadata": {},
   "outputs": [
    {
     "data": {
      "text/plain": [
       "65.0"
      ]
     },
     "execution_count": 184,
     "metadata": {},
     "output_type": "execute_result"
    }
   ],
   "source": [
    "df[\"Confident\"].sum()"
   ]
  },
  {
   "cell_type": "code",
   "execution_count": 185,
   "id": "9fb5ce9e",
   "metadata": {},
   "outputs": [],
   "source": [
    "y_raw = np.array(df.T[1:].T)"
   ]
  },
  {
   "cell_type": "code",
   "execution_count": 186,
   "id": "d1ddc464",
   "metadata": {},
   "outputs": [
    {
     "data": {
      "text/plain": [
       "array([[1., 0., 0., 0., 1., 0., 0.],\n",
       "       [1., 1., 0., 0., 0., 0., 0.],\n",
       "       [1., 1., 0., 0., 1., 1., 1.],\n",
       "       [0., 1., 0., 0., 0., 0., 0.],\n",
       "       [0., 0., 0., 1., 1., 0., 0.],\n",
       "       [0., 1., 0., 0., 1., 0., 0.],\n",
       "       [1., 1., 0., 1., 0., 0., 0.],\n",
       "       [0., 1., 0., 0., 1., 1., 0.],\n",
       "       [0., 1., 0., 1., 1., 1., 0.],\n",
       "       [1., 1., 1., 0., 1., 1., 1.]])"
      ]
     },
     "execution_count": 186,
     "metadata": {},
     "output_type": "execute_result"
    }
   ],
   "source": [
    "y_raw[:10]"
   ]
  },
  {
   "cell_type": "code",
   "execution_count": 187,
   "id": "cb22ac91",
   "metadata": {},
   "outputs": [],
   "source": [
    "y = tf.keras.utils.to_categorical(y_raw)"
   ]
  },
  {
   "cell_type": "code",
   "execution_count": 188,
   "id": "12ebd275",
   "metadata": {},
   "outputs": [
    {
     "data": {
      "text/plain": [
       "array([[[0., 1.],\n",
       "        [1., 0.],\n",
       "        [1., 0.],\n",
       "        [1., 0.],\n",
       "        [0., 1.],\n",
       "        [1., 0.],\n",
       "        [1., 0.]],\n",
       "\n",
       "       [[0., 1.],\n",
       "        [0., 1.],\n",
       "        [1., 0.],\n",
       "        [1., 0.],\n",
       "        [1., 0.],\n",
       "        [1., 0.],\n",
       "        [1., 0.]]], dtype=float32)"
      ]
     },
     "execution_count": 188,
     "metadata": {},
     "output_type": "execute_result"
    }
   ],
   "source": [
    "y[0:2]"
   ]
  },
  {
   "cell_type": "code",
   "execution_count": 189,
   "id": "e9131ec8",
   "metadata": {},
   "outputs": [
    {
     "data": {
      "text/plain": [
       "array([26., 65., 29., 50., 41., 30., 19.], dtype=float32)"
      ]
     },
     "execution_count": 189,
     "metadata": {},
     "output_type": "execute_result"
    }
   ],
   "source": [
    "y.sum(axis=0).T[1] # 各ラベルの数"
   ]
  },
  {
   "cell_type": "code",
   "execution_count": 190,
   "id": "4c7dec6f",
   "metadata": {},
   "outputs": [
    {
     "name": "stdout",
     "output_type": "stream",
     "text": [
      "Epoch 1/5\n"
     ]
    },
    {
     "ename": "ValueError",
     "evalue": "in user code:\n\n    File \"C:\\Users\\Owner\\python_venvs\\tensorflow\\lib\\site-packages\\keras\\engine\\training.py\", line 1021, in train_function  *\n        return step_function(self, iterator)\n    File \"C:\\Users\\Owner\\AppData\\Local\\Temp\\ipykernel_22172\\2301777809.py\", line 15, in macro_soft_f1  *\n        tp = tf.compat.v1.reduce_sum(y_hat * y, axis=0)\n\n    ValueError: Dimensions must be equal, but are 8 and 7 for '{{node mul}} = Mul[T=DT_FLOAT](y_hat, y)' with input shapes: [8,7], [8,7,2].\n",
     "output_type": "error",
     "traceback": [
      "\u001b[1;31m---------------------------------------------------------------------------\u001b[0m",
      "\u001b[1;31mValueError\u001b[0m                                Traceback (most recent call last)",
      "Input \u001b[1;32mIn [190]\u001b[0m, in \u001b[0;36m<cell line: 2>\u001b[1;34m()\u001b[0m\n\u001b[0;32m     18\u001b[0m model \u001b[38;5;241m=\u001b[39m get_multi_model()\n\u001b[0;32m     20\u001b[0m model\u001b[38;5;241m.\u001b[39mcompile(loss\u001b[38;5;241m=\u001b[39mmacro_soft_f1, optimizer\u001b[38;5;241m=\u001b[39m\u001b[38;5;124m\"\u001b[39m\u001b[38;5;124madam\u001b[39m\u001b[38;5;124m\"\u001b[39m, metrics\u001b[38;5;241m=\u001b[39m[macro_f1])\n\u001b[1;32m---> 21\u001b[0m \u001b[43mmodel\u001b[49m\u001b[38;5;241;43m.\u001b[39;49m\u001b[43mfit\u001b[49m\u001b[43m(\u001b[49m\u001b[43mX_train\u001b[49m\u001b[43m,\u001b[49m\u001b[43m \u001b[49m\u001b[43my_train\u001b[49m\u001b[43m,\u001b[49m\u001b[43m \u001b[49m\u001b[43mbatch_size\u001b[49m\u001b[38;5;241;43m=\u001b[39;49m\u001b[38;5;241;43m8\u001b[39;49m\u001b[43m,\u001b[49m\u001b[43m \u001b[49m\u001b[43mepochs\u001b[49m\u001b[38;5;241;43m=\u001b[39;49m\u001b[38;5;241;43m5\u001b[39;49m\u001b[43m)\u001b[49m\n\u001b[0;32m     22\u001b[0m model\u001b[38;5;241m.\u001b[39mevalate(X_test,y_test)\n\u001b[0;32m     23\u001b[0m y_pred \u001b[38;5;241m=\u001b[39m model\u001b[38;5;241m.\u001b[39mpredict(X_test, batch_size\u001b[38;5;241m=\u001b[39m\u001b[38;5;241m1\u001b[39m)\n",
      "File \u001b[1;32m~\\python_venvs\\tensorflow\\lib\\site-packages\\keras\\utils\\traceback_utils.py:67\u001b[0m, in \u001b[0;36mfilter_traceback.<locals>.error_handler\u001b[1;34m(*args, **kwargs)\u001b[0m\n\u001b[0;32m     65\u001b[0m \u001b[38;5;28;01mexcept\u001b[39;00m \u001b[38;5;167;01mException\u001b[39;00m \u001b[38;5;28;01mas\u001b[39;00m e:  \u001b[38;5;66;03m# pylint: disable=broad-except\u001b[39;00m\n\u001b[0;32m     66\u001b[0m   filtered_tb \u001b[38;5;241m=\u001b[39m _process_traceback_frames(e\u001b[38;5;241m.\u001b[39m__traceback__)\n\u001b[1;32m---> 67\u001b[0m   \u001b[38;5;28;01mraise\u001b[39;00m e\u001b[38;5;241m.\u001b[39mwith_traceback(filtered_tb) \u001b[38;5;28;01mfrom\u001b[39;00m \u001b[38;5;28mNone\u001b[39m\n\u001b[0;32m     68\u001b[0m \u001b[38;5;28;01mfinally\u001b[39;00m:\n\u001b[0;32m     69\u001b[0m   \u001b[38;5;28;01mdel\u001b[39;00m filtered_tb\n",
      "File \u001b[1;32m~\\python_venvs\\tensorflow\\lib\\site-packages\\tensorflow\\python\\framework\\func_graph.py:1147\u001b[0m, in \u001b[0;36mfunc_graph_from_py_func.<locals>.autograph_handler\u001b[1;34m(*args, **kwargs)\u001b[0m\n\u001b[0;32m   1145\u001b[0m \u001b[38;5;28;01mexcept\u001b[39;00m \u001b[38;5;167;01mException\u001b[39;00m \u001b[38;5;28;01mas\u001b[39;00m e:  \u001b[38;5;66;03m# pylint:disable=broad-except\u001b[39;00m\n\u001b[0;32m   1146\u001b[0m   \u001b[38;5;28;01mif\u001b[39;00m \u001b[38;5;28mhasattr\u001b[39m(e, \u001b[38;5;124m\"\u001b[39m\u001b[38;5;124mag_error_metadata\u001b[39m\u001b[38;5;124m\"\u001b[39m):\n\u001b[1;32m-> 1147\u001b[0m     \u001b[38;5;28;01mraise\u001b[39;00m e\u001b[38;5;241m.\u001b[39mag_error_metadata\u001b[38;5;241m.\u001b[39mto_exception(e)\n\u001b[0;32m   1148\u001b[0m   \u001b[38;5;28;01melse\u001b[39;00m:\n\u001b[0;32m   1149\u001b[0m     \u001b[38;5;28;01mraise\u001b[39;00m\n",
      "\u001b[1;31mValueError\u001b[0m: in user code:\n\n    File \"C:\\Users\\Owner\\python_venvs\\tensorflow\\lib\\site-packages\\keras\\engine\\training.py\", line 1021, in train_function  *\n        return step_function(self, iterator)\n    File \"C:\\Users\\Owner\\AppData\\Local\\Temp\\ipykernel_22172\\2301777809.py\", line 15, in macro_soft_f1  *\n        tp = tf.compat.v1.reduce_sum(y_hat * y, axis=0)\n\n    ValueError: Dimensions must be equal, but are 8 and 7 for '{{node mul}} = Mul[T=DT_FLOAT](y_hat, y)' with input shapes: [8,7], [8,7,2].\n"
     ]
    }
   ],
   "source": [
    "y_preds = []\n",
    "for train_index, test_index in kf.split(X):     \n",
    "    X_train, X_test = X[train_index], X[test_index]\n",
    "    y_train, y_test = y[train_index], y[test_index]\n",
    "    \n",
    "    \"\"\"\n",
    "    label_num = y_train.sum(axis=0).T[1] # 各ラベルの数\n",
    "    total = label_num.sum()\n",
    "    print(f\"origin {label_num}\")\n",
    "\n",
    "    # クラスの重み\n",
    "    class_weight = dict()\n",
    "    for i,n in enumerate(label_num):\n",
    "        w = (1 / n) * (total / len(labels))\n",
    "        class_weight[i] = w\n",
    "    \"\"\"\n",
    "\n",
    "    model = get_multi_model()\n",
    "\n",
    "    model.compile(loss=macro_soft_f1, optimizer=\"adam\", metrics=[macro_f1])\n",
    "    model.fit(X_train, y_train, batch_size=8, epochs=5)\n",
    "    model.evalate(X_test,y_test)\n",
    "    y_pred = model.predict(X_test, batch_size=1)\n",
    "    y_preds.append(y_pred)\n",
    "    del model\n",
    "    gc.collect()"
   ]
  },
  {
   "cell_type": "code",
   "execution_count": null,
   "id": "d4bebb92",
   "metadata": {},
   "outputs": [],
   "source": []
  }
 ],
 "metadata": {
  "kernelspec": {
   "display_name": "Python 3 (ipykernel)",
   "language": "python",
   "name": "python3"
  },
  "language_info": {
   "codemirror_mode": {
    "name": "ipython",
    "version": 3
   },
   "file_extension": ".py",
   "mimetype": "text/x-python",
   "name": "python",
   "nbconvert_exporter": "python",
   "pygments_lexer": "ipython3",
   "version": "3.9.10"
  }
 },
 "nbformat": 4,
 "nbformat_minor": 5
}
