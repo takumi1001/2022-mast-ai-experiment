{
 "cells": [
  {
   "cell_type": "markdown",
   "id": "c319e6dc",
   "metadata": {},
   "source": [
    "# クラウドソーシング結果の整理\n",
    "\n",
    "目的：\n",
    "\n",
    "    1. クラウドソーシングの結果を整理し，機械学習可能なデータにしておく．\n",
    "    2. クラウドソーシングの結果を分析し，評価を行う．"
   ]
  },
  {
   "cell_type": "code",
   "execution_count": 1,
   "id": "34cd9103",
   "metadata": {},
   "outputs": [],
   "source": [
    "import numpy as np\n",
    "import pandas as pd\n",
    "from matplotlib import pyplot as plt\n",
    "import japanize_matplotlib"
   ]
  },
  {
   "cell_type": "code",
   "execution_count": 2,
   "id": "e08376e4",
   "metadata": {},
   "outputs": [],
   "source": [
    "df = pd.read_csv(\"results/Batch_4749224_batch_results.csv\")"
   ]
  },
  {
   "cell_type": "code",
   "execution_count": 3,
   "id": "08df495b",
   "metadata": {},
   "outputs": [
    {
     "data": {
      "text/plain": [
       "Index(['HITId', 'HITTypeId', 'Title', 'Description', 'Keywords', 'Reward',\n",
       "       'CreationTime', 'MaxAssignments', 'RequesterAnnotation',\n",
       "       'AssignmentDurationInSeconds', 'AutoApprovalDelayInSeconds',\n",
       "       'Expiration', 'NumberOfSimilarHITs', 'LifetimeInSeconds',\n",
       "       'AssignmentId', 'WorkerId', 'AssignmentStatus', 'AcceptTime',\n",
       "       'SubmitTime', 'AutoApprovalTime', 'ApprovalTime', 'RejectionTime',\n",
       "       'RequesterFeedback', 'WorkTimeInSeconds', 'LifetimeApprovalRate',\n",
       "       'Last30DaysApprovalRate', 'Last7DaysApprovalRate', 'Input.image_url',\n",
       "       'Answer.face impressions.labels', 'Approve', 'Reject'],\n",
       "      dtype='object')"
      ]
     },
     "execution_count": 3,
     "metadata": {},
     "output_type": "execute_result"
    }
   ],
   "source": [
    "df.columns"
   ]
  },
  {
   "cell_type": "code",
   "execution_count": 4,
   "id": "ba5c2de9",
   "metadata": {},
   "outputs": [
    {
     "data": {
      "text/html": [
       "<div>\n",
       "<style scoped>\n",
       "    .dataframe tbody tr th:only-of-type {\n",
       "        vertical-align: middle;\n",
       "    }\n",
       "\n",
       "    .dataframe tbody tr th {\n",
       "        vertical-align: top;\n",
       "    }\n",
       "\n",
       "    .dataframe thead th {\n",
       "        text-align: right;\n",
       "    }\n",
       "</style>\n",
       "<table border=\"1\" class=\"dataframe\">\n",
       "  <thead>\n",
       "    <tr style=\"text-align: right;\">\n",
       "      <th></th>\n",
       "      <th>HITId</th>\n",
       "      <th>HITTypeId</th>\n",
       "      <th>Title</th>\n",
       "      <th>Description</th>\n",
       "      <th>Keywords</th>\n",
       "      <th>Reward</th>\n",
       "      <th>CreationTime</th>\n",
       "      <th>MaxAssignments</th>\n",
       "      <th>RequesterAnnotation</th>\n",
       "      <th>AssignmentDurationInSeconds</th>\n",
       "      <th>...</th>\n",
       "      <th>RejectionTime</th>\n",
       "      <th>RequesterFeedback</th>\n",
       "      <th>WorkTimeInSeconds</th>\n",
       "      <th>LifetimeApprovalRate</th>\n",
       "      <th>Last30DaysApprovalRate</th>\n",
       "      <th>Last7DaysApprovalRate</th>\n",
       "      <th>Input.image_url</th>\n",
       "      <th>Answer.face impressions.labels</th>\n",
       "      <th>Approve</th>\n",
       "      <th>Reject</th>\n",
       "    </tr>\n",
       "  </thead>\n",
       "  <tbody>\n",
       "    <tr>\n",
       "      <th>0</th>\n",
       "      <td>3XUSYT70IU4OOCQEDITA0OZXCFCD0I</td>\n",
       "      <td>35EE6WR8LH5R4JJ5CG05YH113AV714</td>\n",
       "      <td>Select applicable face impressions.</td>\n",
       "      <td>Please identify ALL applicable face impression...</td>\n",
       "      <td>categorize, image</td>\n",
       "      <td>$0.02</td>\n",
       "      <td>Fri May 27 00:55:21 PDT 2022</td>\n",
       "      <td>3</td>\n",
       "      <td>BatchId:4749224;OriginalHitTemplateId:928390873;</td>\n",
       "      <td>300</td>\n",
       "      <td>...</td>\n",
       "      <td>NaN</td>\n",
       "      <td>NaN</td>\n",
       "      <td>159</td>\n",
       "      <td>0% (0/0)</td>\n",
       "      <td>0% (0/0)</td>\n",
       "      <td>0% (0/0)</td>\n",
       "      <td>https://www.u.tsukuba.ac.jp/~s*******/mast-ai-...</td>\n",
       "      <td>[\"Caring\"]</td>\n",
       "      <td>NaN</td>\n",
       "      <td>NaN</td>\n",
       "    </tr>\n",
       "    <tr>\n",
       "      <th>1</th>\n",
       "      <td>3XUSYT70IU4OOCQEDITA0OZXCFCD0I</td>\n",
       "      <td>35EE6WR8LH5R4JJ5CG05YH113AV714</td>\n",
       "      <td>Select applicable face impressions.</td>\n",
       "      <td>Please identify ALL applicable face impression...</td>\n",
       "      <td>categorize, image</td>\n",
       "      <td>$0.02</td>\n",
       "      <td>Fri May 27 00:55:21 PDT 2022</td>\n",
       "      <td>3</td>\n",
       "      <td>BatchId:4749224;OriginalHitTemplateId:928390873;</td>\n",
       "      <td>300</td>\n",
       "      <td>...</td>\n",
       "      <td>NaN</td>\n",
       "      <td>NaN</td>\n",
       "      <td>46</td>\n",
       "      <td>0% (0/0)</td>\n",
       "      <td>0% (0/0)</td>\n",
       "      <td>0% (0/0)</td>\n",
       "      <td>https://www.u.tsukuba.ac.jp/~s*******/mast-ai-...</td>\n",
       "      <td>[\"Responsible\"]</td>\n",
       "      <td>NaN</td>\n",
       "      <td>NaN</td>\n",
       "    </tr>\n",
       "    <tr>\n",
       "      <th>2</th>\n",
       "      <td>3XUSYT70IU4OOCQEDITA0OZXCFCD0I</td>\n",
       "      <td>35EE6WR8LH5R4JJ5CG05YH113AV714</td>\n",
       "      <td>Select applicable face impressions.</td>\n",
       "      <td>Please identify ALL applicable face impression...</td>\n",
       "      <td>categorize, image</td>\n",
       "      <td>$0.02</td>\n",
       "      <td>Fri May 27 00:55:21 PDT 2022</td>\n",
       "      <td>3</td>\n",
       "      <td>BatchId:4749224;OriginalHitTemplateId:928390873;</td>\n",
       "      <td>300</td>\n",
       "      <td>...</td>\n",
       "      <td>NaN</td>\n",
       "      <td>NaN</td>\n",
       "      <td>235</td>\n",
       "      <td>0% (0/0)</td>\n",
       "      <td>0% (0/0)</td>\n",
       "      <td>0% (0/0)</td>\n",
       "      <td>https://www.u.tsukuba.ac.jp/~s*******/mast-ai-...</td>\n",
       "      <td>[\"Caring\"]</td>\n",
       "      <td>NaN</td>\n",
       "      <td>NaN</td>\n",
       "    </tr>\n",
       "  </tbody>\n",
       "</table>\n",
       "<p>3 rows × 31 columns</p>\n",
       "</div>"
      ],
      "text/plain": [
       "                            HITId                       HITTypeId  \\\n",
       "0  3XUSYT70IU4OOCQEDITA0OZXCFCD0I  35EE6WR8LH5R4JJ5CG05YH113AV714   \n",
       "1  3XUSYT70IU4OOCQEDITA0OZXCFCD0I  35EE6WR8LH5R4JJ5CG05YH113AV714   \n",
       "2  3XUSYT70IU4OOCQEDITA0OZXCFCD0I  35EE6WR8LH5R4JJ5CG05YH113AV714   \n",
       "\n",
       "                                 Title  \\\n",
       "0  Select applicable face impressions.   \n",
       "1  Select applicable face impressions.   \n",
       "2  Select applicable face impressions.   \n",
       "\n",
       "                                         Description           Keywords  \\\n",
       "0  Please identify ALL applicable face impression...  categorize, image   \n",
       "1  Please identify ALL applicable face impression...  categorize, image   \n",
       "2  Please identify ALL applicable face impression...  categorize, image   \n",
       "\n",
       "  Reward                  CreationTime  MaxAssignments  \\\n",
       "0  $0.02  Fri May 27 00:55:21 PDT 2022               3   \n",
       "1  $0.02  Fri May 27 00:55:21 PDT 2022               3   \n",
       "2  $0.02  Fri May 27 00:55:21 PDT 2022               3   \n",
       "\n",
       "                                RequesterAnnotation  \\\n",
       "0  BatchId:4749224;OriginalHitTemplateId:928390873;   \n",
       "1  BatchId:4749224;OriginalHitTemplateId:928390873;   \n",
       "2  BatchId:4749224;OriginalHitTemplateId:928390873;   \n",
       "\n",
       "   AssignmentDurationInSeconds  ...  RejectionTime RequesterFeedback  \\\n",
       "0                          300  ...            NaN               NaN   \n",
       "1                          300  ...            NaN               NaN   \n",
       "2                          300  ...            NaN               NaN   \n",
       "\n",
       "   WorkTimeInSeconds  LifetimeApprovalRate Last30DaysApprovalRate  \\\n",
       "0                159              0% (0/0)               0% (0/0)   \n",
       "1                 46              0% (0/0)               0% (0/0)   \n",
       "2                235              0% (0/0)               0% (0/0)   \n",
       "\n",
       "  Last7DaysApprovalRate                                    Input.image_url  \\\n",
       "0              0% (0/0)  https://www.u.tsukuba.ac.jp/~s*******/mast-ai-...   \n",
       "1              0% (0/0)  https://www.u.tsukuba.ac.jp/~s*******/mast-ai-...   \n",
       "2              0% (0/0)  https://www.u.tsukuba.ac.jp/~s*******/mast-ai-...   \n",
       "\n",
       "  Answer.face impressions.labels Approve Reject  \n",
       "0                     [\"Caring\"]     NaN    NaN  \n",
       "1                [\"Responsible\"]     NaN    NaN  \n",
       "2                     [\"Caring\"]     NaN    NaN  \n",
       "\n",
       "[3 rows x 31 columns]"
      ]
     },
     "execution_count": 4,
     "metadata": {},
     "output_type": "execute_result"
    }
   ],
   "source": [
    "df[0:3]"
   ]
  },
  {
   "cell_type": "markdown",
   "id": "4910d726",
   "metadata": {},
   "source": [
    "## 結果の分析"
   ]
  },
  {
   "cell_type": "markdown",
   "id": "d27a0ca1",
   "metadata": {},
   "source": [
    "### ワーカーあたり回答数の分布"
   ]
  },
  {
   "cell_type": "code",
   "execution_count": 5,
   "id": "75c5c014",
   "metadata": {},
   "outputs": [],
   "source": [
    "from collections import OrderedDict"
   ]
  },
  {
   "cell_type": "code",
   "execution_count": 6,
   "id": "dc943278",
   "metadata": {},
   "outputs": [],
   "source": [
    "counts = OrderedDict()"
   ]
  },
  {
   "cell_type": "code",
   "execution_count": 7,
   "id": "314dfd48",
   "metadata": {},
   "outputs": [],
   "source": [
    "for record in df[\"WorkerId\"]:\n",
    "    if record in counts.keys():\n",
    "        counts[record] += 1\n",
    "    else:\n",
    "        counts[record] = 1"
   ]
  },
  {
   "cell_type": "code",
   "execution_count": 8,
   "id": "9c459dc9",
   "metadata": {},
   "outputs": [],
   "source": [
    "counts_sorted = OrderedDict(\n",
    "    sorted(counts.items(), key=lambda x: x[1], reverse=True)\n",
    ")"
   ]
  },
  {
   "cell_type": "code",
   "execution_count": 9,
   "id": "b013a3ca",
   "metadata": {},
   "outputs": [],
   "source": [
    "left = np.arange(1,len(counts.keys())+1)\n",
    "height = np.array(list(counts_sorted.values()))\n",
    "ratio = np.zeros(len(left))\n",
    "total_sum = 0\n",
    "for i,v  in enumerate(height):\n",
    "    total_sum += v\n",
    "    ratio[i] = total_sum / 255 * 100"
   ]
  },
  {
   "cell_type": "code",
   "execution_count": 10,
   "id": "a62f5a91",
   "metadata": {},
   "outputs": [
    {
     "data": {
      "image/png": "[encoded data removed]",
      "text/plain": [
       "<Figure size 432x288 with 2 Axes>"
      ]
     },
     "metadata": {
      "needs_background": "light"
     },
     "output_type": "display_data"
    }
   ],
   "source": [
    "fig = plt.figure()\n",
    "ax = fig.add_subplot(111)\n",
    "\n",
    "ax.bar(left, height)\n",
    "ax.set_title(\"ワーカー当たりの回答数の分布（合計255回答）\")\n",
    "ax.set_xlabel(\"ワーカーごとの回答数の順位\")\n",
    "ax.set_ylabel(\"回答数（最大85タスク）\")\n",
    "\n",
    "ax_add = ax.twinx()\n",
    "ax_add.plot(left, ratio, color=\"red\")\n",
    "ax_add.set_ylim([0, 100])\n",
    "ax_add.set_ylabel(\"累積比率 [%]\")\n",
    "\n",
    "plt.grid()\n",
    "ax.set_ylim([0,25])\n",
    "plt.plot() ;"
   ]
  },
  {
   "cell_type": "markdown",
   "id": "15f155b5",
   "metadata": {},
   "source": [
    "全体の1/6のワーカーが約半分を解いていることになる"
   ]
  },
  {
   "cell_type": "markdown",
   "id": "635629c9",
   "metadata": {},
   "source": [
    "## データ整理とアグリゲーション"
   ]
  },
  {
   "cell_type": "code",
   "execution_count": 11,
   "id": "c8762a9e",
   "metadata": {},
   "outputs": [],
   "source": [
    "labels = dict()\n",
    "labels[\"Caring\"] = 0\n",
    "labels[\"Confident\"] = 1\n",
    "labels[\"Emotionally stable\"] = 2\n",
    "labels[\"Intelligent\"] = 3\n",
    "labels[\"Responsible\"] = 4\n",
    "labels[\"Sociable\"] = 5\n",
    "labels[\"Trustworthy\"] = 6"
   ]
  },
  {
   "cell_type": "code",
   "execution_count": 12,
   "id": "4d35c471",
   "metadata": {},
   "outputs": [],
   "source": [
    "class task:\n",
    "    def __init__(self, image_id):\n",
    "        self.image_id = image_id\n",
    "        self.answers = []"
   ]
  },
  {
   "cell_type": "code",
   "execution_count": 13,
   "id": "44ed158a",
   "metadata": {},
   "outputs": [],
   "source": [
    "tasks = dict()"
   ]
  },
  {
   "cell_type": "code",
   "execution_count": 14,
   "id": "c364d24f",
   "metadata": {},
   "outputs": [],
   "source": [
    "for url, ans in zip(df[\"Input.image_url\"], df[\"Answer.face impressions.labels\"]):\n",
    "    img_id = url[50:-4]\n",
    "    if not img_id in tasks.keys():\n",
    "        tasks[img_id] = task(img_id)\n",
    "    \n",
    "    ans_trimed = ans[1:-2].replace(\"\\\"\",\"\")\n",
    "    ans_list = ans_trimed.split(\",\")\n",
    "    ones = [labels[a] for a in ans_list]\n",
    "    bits = np.zeros(7)\n",
    "    for i in ones:\n",
    "        bits[i] = 1\n",
    "    \n",
    "    tasks[img_id].answers.append(bits)"
   ]
  },
  {
   "cell_type": "code",
   "execution_count": 17,
   "id": "a3f818e2",
   "metadata": {},
   "outputs": [],
   "source": [
    "tasklist = list(tasks.values())"
   ]
  },
  {
   "cell_type": "markdown",
   "id": "bc6402b9",
   "metadata": {},
   "source": [
    "# 一致率"
   ]
  },
  {
   "cell_type": "code",
   "execution_count": 34,
   "id": "e95c8295",
   "metadata": {},
   "outputs": [],
   "source": [
    "p2 = 0\n",
    "p21 = 0\n",
    "p3 =0\n",
    "p31=0\n",
    "cnt = 0"
   ]
  },
  {
   "cell_type": "code",
   "execution_count": 35,
   "id": "7b3aa7c5",
   "metadata": {},
   "outputs": [],
   "source": [
    "for t in tasklist:\n",
    "    for i in range(7):\n",
    "        cnt += 1\n",
    "        if t.answers[0][i] == t.answers[1][i] and t.answers[0][i] == t.answers[2][i]:\n",
    "            p3 += 1\n",
    "            p2 += 1\n",
    "            if  t.answers[0][i] == 1:\n",
    "                p31 += 1\n",
    "                p21 += 1\n",
    "        elif t.answers[0][i] == t.answers[1][i]:\n",
    "            p2 += 1\n",
    "            if  t.answers[0][i] == 1:\n",
    "                p21 += 1\n",
    "        elif t.answers[0][i] == t.answers[2][i]:\n",
    "            p2 += 1\n",
    "            if  t.answers[0][i] == 1:\n",
    "                p21 += 1\n",
    "        elif t.answers[1][i] == t.answers[2][i]:\n",
    "            p2 += 1\n",
    "            if  t.answers[1][i] == 1:\n",
    "                p21 += 1"
   ]
  },
  {
   "cell_type": "code",
   "execution_count": 36,
   "id": "c08ce944",
   "metadata": {},
   "outputs": [
    {
     "data": {
      "text/plain": [
       "(1.0, 0.5781512605042017)"
      ]
     },
     "execution_count": 36,
     "metadata": {},
     "output_type": "execute_result"
    }
   ],
   "source": [
    "p2 / cnt , p3 / cnt"
   ]
  },
  {
   "cell_type": "code",
   "execution_count": 37,
   "id": "a2167da5",
   "metadata": {},
   "outputs": [
    {
     "data": {
      "text/plain": [
       "(0.12100840336134454, 0.02616279069767442)"
      ]
     },
     "execution_count": 37,
     "metadata": {},
     "output_type": "execute_result"
    }
   ],
   "source": [
    "p21/p2, p31/p3"
   ]
  },
  {
   "cell_type": "markdown",
   "id": "2ad6d5eb",
   "metadata": {},
   "source": [
    "## 単純多数決によるアグリゲーション"
   ]
  },
  {
   "cell_type": "code",
   "execution_count": 15,
   "id": "549aa7f2",
   "metadata": {},
   "outputs": [],
   "source": [
    "for t in tasklist:\n",
    "    sumbit = np.zeros(7)\n",
    "    for ans in t.answers:\n",
    "        sumbit += ans\n",
    "    agree = np.zeros(7)\n",
    "    agree[np.where(sumbit >= 2)] = 1\n",
    "    t.smv = agree # Simple majority vote"
   ]
  },
  {
   "cell_type": "code",
   "execution_count": 16,
   "id": "44e3970b",
   "metadata": {},
   "outputs": [
    {
     "data": {
      "image/png": "[encoded data removed]",
      "text/plain": [
       "<Figure size 1152x288 with 1 Axes>"
      ]
     },
     "metadata": {
      "needs_background": "light"
     },
     "output_type": "display_data"
    }
   ],
   "source": [
    "label_num = []\n",
    "for t in tasks.items():\n",
    "    label_num.append(t[1].smv.sum())\n",
    "    \n",
    "plt.figure(figsize=(16,4))\n",
    "plt.title(\"単純多数決適用後の画像当たりラベル数\")\n",
    "plt.bar(tasks.keys(), label_num)\n",
    "plt.plot() ;"
   ]
  },
  {
   "cell_type": "markdown",
   "id": "96de8a78",
   "metadata": {},
   "source": [
    "問題点：いくつかのラベルはラベルなしとなってしまう・**ラベル当たりの画像枚数が少ない！**"
   ]
  },
  {
   "cell_type": "markdown",
   "id": "d76b117c",
   "metadata": {},
   "source": [
    "## 1人でもラベル付けしたものは有効とする場合（＝和集合）"
   ]
  },
  {
   "cell_type": "code",
   "execution_count": 17,
   "id": "9c34890f",
   "metadata": {},
   "outputs": [],
   "source": [
    "for t in tasklist:\n",
    "    sumbit = np.zeros(7)\n",
    "    for ans in t.answers:\n",
    "        sumbit += ans\n",
    "    agree = np.zeros(7)\n",
    "    agree[np.where(sumbit >= 1)] = 1\n",
    "    t.svs = agree # Simple Vote Sum"
   ]
  },
  {
   "cell_type": "code",
   "execution_count": 18,
   "id": "2dacaba2",
   "metadata": {},
   "outputs": [
    {
     "data": {
      "image/png": "[encoded data removed]",
      "text/plain": [
       "<Figure size 1152x288 with 1 Axes>"
      ]
     },
     "metadata": {
      "needs_background": "light"
     },
     "output_type": "display_data"
    }
   ],
   "source": [
    "label_num = []\n",
    "for t in tasks.items():\n",
    "    label_num.append(t[1].svs.sum())\n",
    "    \n",
    "plt.figure(figsize=(16,4))\n",
    "plt.title(\"全員の回答を尊重した場合の画像当たりラベル数\")\n",
    "plt.bar(tasks.keys(), label_num)\n",
    "plt.plot() ;"
   ]
  },
  {
   "cell_type": "markdown",
   "id": "30729dc0",
   "metadata": {},
   "source": [
    "問題点：<s>ラベルが多すぎる，精度が低い</s>→**ラベル当たりの画像枚数を増やすことができるのでは？**"
   ]
  },
  {
   "cell_type": "markdown",
   "id": "2b2ae879",
   "metadata": {},
   "source": [
    "## 全会一致（＝積集合）"
   ]
  },
  {
   "cell_type": "code",
   "execution_count": 19,
   "id": "e527df1c",
   "metadata": {},
   "outputs": [],
   "source": [
    "for t in tasklist:\n",
    "    sumbit = np.zeros(7)\n",
    "    for ans in t.answers:\n",
    "        sumbit += ans\n",
    "    agree = np.zeros(7)\n",
    "    agree[np.where(sumbit >= 3)] = 1\n",
    "    t.unanimities = agree # unanimities"
   ]
  },
  {
   "cell_type": "code",
   "execution_count": 20,
   "id": "d04dc69c",
   "metadata": {},
   "outputs": [
    {
     "data": {
      "image/png": "[encoded data removed]",
      "text/plain": [
       "<Figure size 1152x288 with 1 Axes>"
      ]
     },
     "metadata": {
      "needs_background": "light"
     },
     "output_type": "display_data"
    }
   ],
   "source": [
    "label_num = []\n",
    "for t in tasks.items():\n",
    "    label_num.append(t[1].unanimities.sum())\n",
    "    \n",
    "plt.figure(figsize=(16,4))\n",
    "plt.title(\"全会一致を求める場合の画像当たりラベル数\")\n",
    "plt.bar(tasks.keys(), label_num)\n",
    "plt.plot() ;"
   ]
  },
  {
   "cell_type": "markdown",
   "id": "88840056",
   "metadata": {},
   "source": [
    "<s>単純多数決が一番ましか・・・</s>"
   ]
  },
  {
   "cell_type": "markdown",
   "id": "8ee5a939",
   "metadata": {},
   "source": [
    "単純多数決のデータは，あるラベルに対しての画像数が少ないため，85枚というとても小さいデータセットでは機械学習しかねる問題がある．そこで，和集合を利用してみる"
   ]
  },
  {
   "cell_type": "markdown",
   "id": "8021d7d0",
   "metadata": {},
   "source": [
    "## ラベルの分布"
   ]
  },
  {
   "cell_type": "markdown",
   "id": "f9680056",
   "metadata": {},
   "source": [
    "単純多数決"
   ]
  },
  {
   "cell_type": "code",
   "execution_count": 21,
   "id": "da611b65",
   "metadata": {},
   "outputs": [],
   "source": [
    "sums = np.zeros(7)\n",
    "for t in tasklist:\n",
    "    sums += t.smv"
   ]
  },
  {
   "cell_type": "code",
   "execution_count": 22,
   "id": "b5a48fab",
   "metadata": {},
   "outputs": [
    {
     "data": {
      "image/png": "[encoded data removed]",
      "text/plain": [
       "<Figure size 720x288 with 1 Axes>"
      ]
     },
     "metadata": {
      "needs_background": "light"
     },
     "output_type": "display_data"
    }
   ],
   "source": [
    "plt.figure(figsize=(10,4))\n",
    "plt.title(\"ラベルごとの分布\")\n",
    "plt.bar(labels.keys(), sums)\n",
    "plt.plot() ;"
   ]
  },
  {
   "cell_type": "markdown",
   "id": "6fc7dd80",
   "metadata": {},
   "source": [
    "和集合"
   ]
  },
  {
   "cell_type": "code",
   "execution_count": 23,
   "id": "869bcfe6",
   "metadata": {},
   "outputs": [],
   "source": [
    "sums = np.zeros(7)\n",
    "for t in tasklist:\n",
    "    sums += t.svs"
   ]
  },
  {
   "cell_type": "code",
   "execution_count": 24,
   "id": "e0d8b7ae",
   "metadata": {},
   "outputs": [
    {
     "data": {
      "image/png": "[encoded data removed]",
      "text/plain": [
       "<Figure size 720x288 with 1 Axes>"
      ]
     },
     "metadata": {
      "needs_background": "light"
     },
     "output_type": "display_data"
    }
   ],
   "source": [
    "plt.figure(figsize=(10,4))\n",
    "plt.title(\"ラベルごとの分布\")\n",
    "plt.bar(labels.keys(), sums)\n",
    "plt.plot() ;"
   ]
  },
  {
   "cell_type": "markdown",
   "id": "28fc110c",
   "metadata": {},
   "source": [
    "選択肢の上が多いなどは特になさそう?"
   ]
  },
  {
   "cell_type": "markdown",
   "id": "91a5bded",
   "metadata": {},
   "source": [
    "# データを書き込む"
   ]
  },
  {
   "cell_type": "code",
   "execution_count": 25,
   "id": "b2d10a03",
   "metadata": {},
   "outputs": [],
   "source": [
    "records = []  \n",
    "for t in tasklist:\n",
    "    record = [t.image_id]\n",
    "    record.extend(t.svs)\n",
    "    records.append(record)"
   ]
  },
  {
   "cell_type": "code",
   "execution_count": 26,
   "id": "185ac58a",
   "metadata": {},
   "outputs": [],
   "source": [
    "cols = [\"Id\"]\n",
    "cols.extend(labels.keys())\n",
    "csv = pd.DataFrame(records, columns=cols)"
   ]
  },
  {
   "cell_type": "code",
   "execution_count": 27,
   "id": "968b823e",
   "metadata": {
    "scrolled": true
   },
   "outputs": [
    {
     "data": {
      "text/html": [
       "<div>\n",
       "<style scoped>\n",
       "    .dataframe tbody tr th:only-of-type {\n",
       "        vertical-align: middle;\n",
       "    }\n",
       "\n",
       "    .dataframe tbody tr th {\n",
       "        vertical-align: top;\n",
       "    }\n",
       "\n",
       "    .dataframe thead th {\n",
       "        text-align: right;\n",
       "    }\n",
       "</style>\n",
       "<table border=\"1\" class=\"dataframe\">\n",
       "  <thead>\n",
       "    <tr style=\"text-align: right;\">\n",
       "      <th></th>\n",
       "      <th>Id</th>\n",
       "      <th>Caring</th>\n",
       "      <th>Confident</th>\n",
       "      <th>Emotionally stable</th>\n",
       "      <th>Intelligent</th>\n",
       "      <th>Responsible</th>\n",
       "      <th>Sociable</th>\n",
       "      <th>Trustworthy</th>\n",
       "    </tr>\n",
       "  </thead>\n",
       "  <tbody>\n",
       "    <tr>\n",
       "      <th>0</th>\n",
       "      <td>6269</td>\n",
       "      <td>1.0</td>\n",
       "      <td>0.0</td>\n",
       "      <td>0.0</td>\n",
       "      <td>0.0</td>\n",
       "      <td>1.0</td>\n",
       "      <td>0.0</td>\n",
       "      <td>0.0</td>\n",
       "    </tr>\n",
       "    <tr>\n",
       "      <th>1</th>\n",
       "      <td>272998</td>\n",
       "      <td>1.0</td>\n",
       "      <td>1.0</td>\n",
       "      <td>0.0</td>\n",
       "      <td>0.0</td>\n",
       "      <td>0.0</td>\n",
       "      <td>0.0</td>\n",
       "      <td>0.0</td>\n",
       "    </tr>\n",
       "    <tr>\n",
       "      <th>2</th>\n",
       "      <td>274783</td>\n",
       "      <td>1.0</td>\n",
       "      <td>1.0</td>\n",
       "      <td>0.0</td>\n",
       "      <td>0.0</td>\n",
       "      <td>1.0</td>\n",
       "      <td>1.0</td>\n",
       "      <td>1.0</td>\n",
       "    </tr>\n",
       "    <tr>\n",
       "      <th>3</th>\n",
       "      <td>430823</td>\n",
       "      <td>0.0</td>\n",
       "      <td>1.0</td>\n",
       "      <td>0.0</td>\n",
       "      <td>0.0</td>\n",
       "      <td>0.0</td>\n",
       "      <td>0.0</td>\n",
       "      <td>0.0</td>\n",
       "    </tr>\n",
       "    <tr>\n",
       "      <th>4</th>\n",
       "      <td>208848</td>\n",
       "      <td>0.0</td>\n",
       "      <td>0.0</td>\n",
       "      <td>0.0</td>\n",
       "      <td>1.0</td>\n",
       "      <td>1.0</td>\n",
       "      <td>0.0</td>\n",
       "      <td>0.0</td>\n",
       "    </tr>\n",
       "    <tr>\n",
       "      <th>...</th>\n",
       "      <td>...</td>\n",
       "      <td>...</td>\n",
       "      <td>...</td>\n",
       "      <td>...</td>\n",
       "      <td>...</td>\n",
       "      <td>...</td>\n",
       "      <td>...</td>\n",
       "      <td>...</td>\n",
       "    </tr>\n",
       "    <tr>\n",
       "      <th>80</th>\n",
       "      <td>185955</td>\n",
       "      <td>0.0</td>\n",
       "      <td>1.0</td>\n",
       "      <td>1.0</td>\n",
       "      <td>1.0</td>\n",
       "      <td>1.0</td>\n",
       "      <td>0.0</td>\n",
       "      <td>0.0</td>\n",
       "    </tr>\n",
       "    <tr>\n",
       "      <th>81</th>\n",
       "      <td>313100</td>\n",
       "      <td>0.0</td>\n",
       "      <td>1.0</td>\n",
       "      <td>0.0</td>\n",
       "      <td>0.0</td>\n",
       "      <td>0.0</td>\n",
       "      <td>0.0</td>\n",
       "      <td>1.0</td>\n",
       "    </tr>\n",
       "    <tr>\n",
       "      <th>82</th>\n",
       "      <td>369866</td>\n",
       "      <td>1.0</td>\n",
       "      <td>1.0</td>\n",
       "      <td>0.0</td>\n",
       "      <td>1.0</td>\n",
       "      <td>1.0</td>\n",
       "      <td>0.0</td>\n",
       "      <td>0.0</td>\n",
       "    </tr>\n",
       "    <tr>\n",
       "      <th>83</th>\n",
       "      <td>124821</td>\n",
       "      <td>0.0</td>\n",
       "      <td>1.0</td>\n",
       "      <td>1.0</td>\n",
       "      <td>1.0</td>\n",
       "      <td>0.0</td>\n",
       "      <td>0.0</td>\n",
       "      <td>1.0</td>\n",
       "    </tr>\n",
       "    <tr>\n",
       "      <th>84</th>\n",
       "      <td>61202</td>\n",
       "      <td>0.0</td>\n",
       "      <td>1.0</td>\n",
       "      <td>1.0</td>\n",
       "      <td>1.0</td>\n",
       "      <td>0.0</td>\n",
       "      <td>0.0</td>\n",
       "      <td>1.0</td>\n",
       "    </tr>\n",
       "  </tbody>\n",
       "</table>\n",
       "<p>85 rows × 8 columns</p>\n",
       "</div>"
      ],
      "text/plain": [
       "        Id  Caring  Confident  Emotionally stable  Intelligent  Responsible  \\\n",
       "0     6269     1.0        0.0                 0.0          0.0          1.0   \n",
       "1   272998     1.0        1.0                 0.0          0.0          0.0   \n",
       "2   274783     1.0        1.0                 0.0          0.0          1.0   \n",
       "3   430823     0.0        1.0                 0.0          0.0          0.0   \n",
       "4   208848     0.0        0.0                 0.0          1.0          1.0   \n",
       "..     ...     ...        ...                 ...          ...          ...   \n",
       "80  185955     0.0        1.0                 1.0          1.0          1.0   \n",
       "81  313100     0.0        1.0                 0.0          0.0          0.0   \n",
       "82  369866     1.0        1.0                 0.0          1.0          1.0   \n",
       "83  124821     0.0        1.0                 1.0          1.0          0.0   \n",
       "84   61202     0.0        1.0                 1.0          1.0          0.0   \n",
       "\n",
       "    Sociable  Trustworthy  \n",
       "0        0.0          0.0  \n",
       "1        0.0          0.0  \n",
       "2        1.0          1.0  \n",
       "3        0.0          0.0  \n",
       "4        0.0          0.0  \n",
       "..       ...          ...  \n",
       "80       0.0          0.0  \n",
       "81       0.0          1.0  \n",
       "82       0.0          0.0  \n",
       "83       0.0          1.0  \n",
       "84       0.0          1.0  \n",
       "\n",
       "[85 rows x 8 columns]"
      ]
     },
     "execution_count": 27,
     "metadata": {},
     "output_type": "execute_result"
    }
   ],
   "source": [
    "csv"
   ]
  },
  {
   "cell_type": "code",
   "execution_count": 28,
   "id": "27a92bb0",
   "metadata": {},
   "outputs": [],
   "source": [
    "csv.to_csv(\"../data1_union.csv\", index=None)"
   ]
  }
 ],
 "metadata": {
  "kernelspec": {
   "display_name": "Python 3 (ipykernel)",
   "language": "python",
   "name": "python3"
  },
  "language_info": {
   "codemirror_mode": {
    "name": "ipython",
    "version": 3
   },
   "file_extension": ".py",
   "mimetype": "text/x-python",
   "name": "python",
   "nbconvert_exporter": "python",
   "pygments_lexer": "ipython3",
   "version": "3.9.10"
  }
 },
 "nbformat": 4,
 "nbformat_minor": 5
}
