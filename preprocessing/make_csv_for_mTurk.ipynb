{
 "cells": [
  {
   "cell_type": "markdown",
   "id": "a75a9b35",
   "metadata": {},
   "source": [
    "# AMT用のcsvを生成する\n",
    "cf. https://qiita.com/sousquared/items/76d513574174114f5cd9"
   ]
  },
  {
   "cell_type": "code",
   "execution_count": 17,
   "id": "c68b5ec7",
   "metadata": {},
   "outputs": [],
   "source": [
    "studentId = \"s*******\""
   ]
  },
  {
   "cell_type": "markdown",
   "id": "37b148da",
   "metadata": {},
   "source": [
    "画像は、https://www.u.tsukuba.ac.jp/~s*******/mast-ai-img/???.jpg　にある。"
   ]
  },
  {
   "cell_type": "code",
   "execution_count": 2,
   "id": "3e2cfaa5",
   "metadata": {},
   "outputs": [],
   "source": [
    "from pathlib import Path"
   ]
  },
  {
   "cell_type": "code",
   "execution_count": 3,
   "id": "c4a7a059",
   "metadata": {},
   "outputs": [],
   "source": [
    "img_names = []"
   ]
  },
  {
   "cell_type": "code",
   "execution_count": 4,
   "id": "64720fbf",
   "metadata": {},
   "outputs": [],
   "source": [
    "for p in Path(\"../images/cleaned_20220519\").glob(\"*.jpg\"):\n",
    "    img_names.append(p.name)"
   ]
  },
  {
   "cell_type": "code",
   "execution_count": 5,
   "id": "9b73e966",
   "metadata": {},
   "outputs": [
    {
     "data": {
      "text/plain": [
       "['100078.jpg', '100877.jpg', '100929.jpg', '10159.jpg']"
      ]
     },
     "execution_count": 5,
     "metadata": {},
     "output_type": "execute_result"
    }
   ],
   "source": [
    "img_names[0:4]"
   ]
  },
  {
   "cell_type": "markdown",
   "id": "046b270d",
   "metadata": {},
   "source": [
    "予算の都合上，タスク数を100に設定する．"
   ]
  },
  {
   "cell_type": "code",
   "execution_count": 6,
   "id": "b87971c9",
   "metadata": {},
   "outputs": [],
   "source": [
    "import random\n",
    "random.seed(1001)"
   ]
  },
  {
   "cell_type": "code",
   "execution_count": 18,
   "id": "bdd15127",
   "metadata": {},
   "outputs": [],
   "source": [
    "tasks = random.sample(img_names, 85)"
   ]
  },
  {
   "cell_type": "code",
   "execution_count": 19,
   "id": "9d2acaac",
   "metadata": {},
   "outputs": [
    {
     "data": {
      "text/plain": [
       "(['6269.jpg', '272998.jpg', '274783.jpg', '430823.jpg'], 85)"
      ]
     },
     "execution_count": 19,
     "metadata": {},
     "output_type": "execute_result"
    }
   ],
   "source": [
    "tasks[0:4], len(tasks)"
   ]
  },
  {
   "cell_type": "code",
   "execution_count": 20,
   "id": "7f0ebdfe",
   "metadata": {},
   "outputs": [],
   "source": [
    "CSV = \"image_url\\n\""
   ]
  },
  {
   "cell_type": "code",
   "execution_count": 21,
   "id": "b9461ea1",
   "metadata": {},
   "outputs": [],
   "source": [
    "for name in tasks:\n",
    "    CSV += f\"https://www.u.tsukuba.ac.jp/~{studentId}/mast-ai-img/{name}\\n\""
   ]
  },
  {
   "cell_type": "code",
   "execution_count": 22,
   "id": "f86479a0",
   "metadata": {},
   "outputs": [],
   "source": [
    "with open(\"img-list.csv\",\"w\") as f:\n",
    "    f.write(CSV)"
   ]
  }
 ],
 "metadata": {
  "kernelspec": {
   "display_name": "Python 3 (ipykernel)",
   "language": "python",
   "name": "python3"
  },
  "language_info": {
   "codemirror_mode": {
    "name": "ipython",
    "version": 3
   },
   "file_extension": ".py",
   "mimetype": "text/x-python",
   "name": "python",
   "nbconvert_exporter": "python",
   "pygments_lexer": "ipython3",
   "version": "3.9.10"
  }
 },
 "nbformat": 4,
 "nbformat_minor": 5
}
