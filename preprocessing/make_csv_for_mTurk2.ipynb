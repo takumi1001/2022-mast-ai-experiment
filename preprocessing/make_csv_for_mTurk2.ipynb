{
 "cells": [
  {
   "cell_type": "markdown",
   "id": "a75a9b35",
   "metadata": {},
   "source": [
    "# AMT用のcsvを生成する (2回目)\n",
    "cf. https://qiita.com/sousquared/items/76d513574174114f5cd9"
   ]
  },
  {
   "cell_type": "code",
   "execution_count": 1,
   "id": "d977f3b1",
   "metadata": {},
   "outputs": [],
   "source": [
    "studentId = \"s*******\""
   ]
  },
  {
   "cell_type": "markdown",
   "id": "37b148da",
   "metadata": {},
   "source": [
    "画像は、https://www.u.tsukuba.ac.jp/~s*******/mast-ai-img/???.jpg　にある。"
   ]
  },
  {
   "cell_type": "code",
   "execution_count": 3,
   "id": "3e2cfaa5",
   "metadata": {},
   "outputs": [],
   "source": [
    "from pathlib import Path"
   ]
  },
  {
   "cell_type": "code",
   "execution_count": 2,
   "id": "4545b852",
   "metadata": {},
   "outputs": [],
   "source": [
    "import pandas as pd"
   ]
  },
  {
   "cell_type": "code",
   "execution_count": 4,
   "id": "6e59b92a",
   "metadata": {},
   "outputs": [],
   "source": [
    "df = pd.read_csv(\"img-list.csv\")"
   ]
  },
  {
   "cell_type": "code",
   "execution_count": 12,
   "id": "7cda5b14",
   "metadata": {},
   "outputs": [],
   "source": [
    "img_id = []\n",
    "for url in df[\"image_url\"]:\n",
    "    img_id.append(url[50:-4]+\".jpg\")"
   ]
  },
  {
   "cell_type": "code",
   "execution_count": 13,
   "id": "8a70ab7f",
   "metadata": {},
   "outputs": [
    {
     "data": {
      "text/plain": [
       "['6269.jpg', '272998.jpg', '274783.jpg']"
      ]
     },
     "execution_count": 13,
     "metadata": {},
     "output_type": "execute_result"
    }
   ],
   "source": [
    "img_id[0:3] # 1回目のクラウドソーシングで選択されている画像"
   ]
  },
  {
   "cell_type": "code",
   "execution_count": 18,
   "id": "c4a7a059",
   "metadata": {},
   "outputs": [],
   "source": [
    "img_names = []"
   ]
  },
  {
   "cell_type": "code",
   "execution_count": 19,
   "id": "64720fbf",
   "metadata": {},
   "outputs": [],
   "source": [
    "for p in Path(\"../images/cleaned_20220519\").glob(\"*.jpg\"):\n",
    "    if not p.name in img_id:\n",
    "        img_names.append(p.name)"
   ]
  },
  {
   "cell_type": "code",
   "execution_count": 20,
   "id": "9b73e966",
   "metadata": {},
   "outputs": [
    {
     "data": {
      "text/plain": [
       "['100078.jpg', '100877.jpg', '100929.jpg', '10159.jpg']"
      ]
     },
     "execution_count": 20,
     "metadata": {},
     "output_type": "execute_result"
    }
   ],
   "source": [
    "img_names[0:4]"
   ]
  },
  {
   "cell_type": "markdown",
   "id": "046b270d",
   "metadata": {},
   "source": [
    "予算の都合上，タスク数を85$\\times$3に設定する．"
   ]
  },
  {
   "cell_type": "code",
   "execution_count": 22,
   "id": "b87971c9",
   "metadata": {},
   "outputs": [],
   "source": [
    "import random\n",
    "random.seed(1001)"
   ]
  },
  {
   "cell_type": "code",
   "execution_count": 23,
   "id": "bdd15127",
   "metadata": {},
   "outputs": [],
   "source": [
    "tasks = random.sample(img_names, 85*3)"
   ]
  },
  {
   "cell_type": "code",
   "execution_count": 24,
   "id": "9d2acaac",
   "metadata": {},
   "outputs": [
    {
     "data": {
      "text/plain": [
       "(['422612.jpg', '71741.jpg', '140123.jpg', '411863.jpg'], 255)"
      ]
     },
     "execution_count": 24,
     "metadata": {},
     "output_type": "execute_result"
    }
   ],
   "source": [
    "tasks[0:4], len(tasks)"
   ]
  },
  {
   "cell_type": "code",
   "execution_count": 25,
   "id": "7f0ebdfe",
   "metadata": {},
   "outputs": [],
   "source": [
    "CSV = \"image_url\\n\""
   ]
  },
  {
   "cell_type": "code",
   "execution_count": 26,
   "id": "b9461ea1",
   "metadata": {},
   "outputs": [],
   "source": [
    "for name in tasks:\n",
    "    CSV += f\"https://www.u.tsukuba.ac.jp/~{studentId}/mast-ai-img/{name}\\n\""
   ]
  },
  {
   "cell_type": "code",
   "execution_count": 27,
   "id": "f86479a0",
   "metadata": {},
   "outputs": [],
   "source": [
    "with open(\"img-list2.csv\",\"w\") as f:\n",
    "    f.write(CSV)"
   ]
  }
 ],
 "metadata": {
  "kernelspec": {
   "display_name": "Python 3 (ipykernel)",
   "language": "python",
   "name": "python3"
  },
  "language_info": {
   "codemirror_mode": {
    "name": "ipython",
    "version": 3
   },
   "file_extension": ".py",
   "mimetype": "text/x-python",
   "name": "python",
   "nbconvert_exporter": "python",
   "pygments_lexer": "ipython3",
   "version": "3.9.10"
  }
 },
 "nbformat": 4,
 "nbformat_minor": 5
}
